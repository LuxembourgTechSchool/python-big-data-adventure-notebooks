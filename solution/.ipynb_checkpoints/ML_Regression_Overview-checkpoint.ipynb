{
 "cells": [
  {
   "cell_type": "markdown",
   "metadata": {},
   "source": [
    "### Machine Learning Technique 1 - Regression\n",
    "\n",
    "# 1. Predict a value - Predict price of a house\n",
    "\n",
    "This notebook will demonstrate how to use basic scikit functionalities to predict a value.\n",
    "As an example, we are going to use a dataset from kaggle competition that is very interesting to use for basic and advanced regression techniques. The dataset contains housing data from the city Ames, Iowa (USA).\n",
    "\n",
    "- The dataset comes with 2 CSV, a training CSV and a test CSV.\n",
    "- The training CSV contains features of houses with their price and the goal is to create a model and predict the prices of the test CSV.\n",
    "- The predicted prices for the tests could be submitted to kaggle to participate to the competition.\n",
    "\n",
    "For us, we are just going to work on the training data and see if we can make a nice and correct model.\n",
    "\n",
    "This notebook encapsulates all important code into functions that are **easy to reuse in other notebooks or in your project**.\n",
    "\n",
    "#### Data:\n",
    "\n",
    "You can find the data in this repository under `../data/house_data/`\n",
    "\n",
    "#### Links:\n",
    "\n",
    "[Kaggle Competition](https://www.kaggle.com/c/house-prices-advanced-regression-techniques/kernels)\n",
    "\n",
    "[Explanations to the Dataset columns](https://ww2.amstat.org/publications/jse/v19n3/decock/DataDocumentation.txt)\n"
   ]
  },
  {
   "cell_type": "markdown",
   "metadata": {},
   "source": [
    "# 2. Import Libraries"
   ]
  },
  {
   "cell_type": "code",
   "execution_count": 1,
   "metadata": {
    "collapsed": true
   },
   "outputs": [],
   "source": [
    "# Starting by importing our beloved libraries: pandas, numpy, matplotlib.pyplot\n",
    "\n",
    "import numpy as np\n",
    "import pandas as pd\n",
    "\n",
    "import matplotlib.pyplot as plt\n",
    "%matplotlib inline"
   ]
  },
  {
   "cell_type": "markdown",
   "metadata": {},
   "source": [
    "# 3. Load the Data"
   ]
  },
  {
   "cell_type": "code",
   "execution_count": 2,
   "metadata": {
    "collapsed": true
   },
   "outputs": [],
   "source": [
    "# Load the data\n",
    "house_train = pd.read_csv('../data/house_data/train.csv')\n",
    "house_test = pd.read_csv('../data/house_data/test.csv')"
   ]
  },
  {
   "cell_type": "code",
   "execution_count": 3,
   "metadata": {
    "collapsed": false
   },
   "outputs": [
    {
     "data": {
      "text/html": [
       "<div>\n",
       "<table border=\"1\" class=\"dataframe\">\n",
       "  <thead>\n",
       "    <tr style=\"text-align: right;\">\n",
       "      <th></th>\n",
       "      <th>Id</th>\n",
       "      <th>MSSubClass</th>\n",
       "      <th>MSZoning</th>\n",
       "      <th>LotFrontage</th>\n",
       "      <th>LotArea</th>\n",
       "      <th>Street</th>\n",
       "      <th>Alley</th>\n",
       "      <th>LotShape</th>\n",
       "      <th>LandContour</th>\n",
       "      <th>Utilities</th>\n",
       "      <th>...</th>\n",
       "      <th>PoolArea</th>\n",
       "      <th>PoolQC</th>\n",
       "      <th>Fence</th>\n",
       "      <th>MiscFeature</th>\n",
       "      <th>MiscVal</th>\n",
       "      <th>MoSold</th>\n",
       "      <th>YrSold</th>\n",
       "      <th>SaleType</th>\n",
       "      <th>SaleCondition</th>\n",
       "      <th>SalePrice</th>\n",
       "    </tr>\n",
       "  </thead>\n",
       "  <tbody>\n",
       "    <tr>\n",
       "      <th>0</th>\n",
       "      <td>1</td>\n",
       "      <td>60</td>\n",
       "      <td>RL</td>\n",
       "      <td>65.0</td>\n",
       "      <td>8450</td>\n",
       "      <td>Pave</td>\n",
       "      <td>NaN</td>\n",
       "      <td>Reg</td>\n",
       "      <td>Lvl</td>\n",
       "      <td>AllPub</td>\n",
       "      <td>...</td>\n",
       "      <td>0</td>\n",
       "      <td>NaN</td>\n",
       "      <td>NaN</td>\n",
       "      <td>NaN</td>\n",
       "      <td>0</td>\n",
       "      <td>2</td>\n",
       "      <td>2008</td>\n",
       "      <td>WD</td>\n",
       "      <td>Normal</td>\n",
       "      <td>208500</td>\n",
       "    </tr>\n",
       "    <tr>\n",
       "      <th>1</th>\n",
       "      <td>2</td>\n",
       "      <td>20</td>\n",
       "      <td>RL</td>\n",
       "      <td>80.0</td>\n",
       "      <td>9600</td>\n",
       "      <td>Pave</td>\n",
       "      <td>NaN</td>\n",
       "      <td>Reg</td>\n",
       "      <td>Lvl</td>\n",
       "      <td>AllPub</td>\n",
       "      <td>...</td>\n",
       "      <td>0</td>\n",
       "      <td>NaN</td>\n",
       "      <td>NaN</td>\n",
       "      <td>NaN</td>\n",
       "      <td>0</td>\n",
       "      <td>5</td>\n",
       "      <td>2007</td>\n",
       "      <td>WD</td>\n",
       "      <td>Normal</td>\n",
       "      <td>181500</td>\n",
       "    </tr>\n",
       "    <tr>\n",
       "      <th>2</th>\n",
       "      <td>3</td>\n",
       "      <td>60</td>\n",
       "      <td>RL</td>\n",
       "      <td>68.0</td>\n",
       "      <td>11250</td>\n",
       "      <td>Pave</td>\n",
       "      <td>NaN</td>\n",
       "      <td>IR1</td>\n",
       "      <td>Lvl</td>\n",
       "      <td>AllPub</td>\n",
       "      <td>...</td>\n",
       "      <td>0</td>\n",
       "      <td>NaN</td>\n",
       "      <td>NaN</td>\n",
       "      <td>NaN</td>\n",
       "      <td>0</td>\n",
       "      <td>9</td>\n",
       "      <td>2008</td>\n",
       "      <td>WD</td>\n",
       "      <td>Normal</td>\n",
       "      <td>223500</td>\n",
       "    </tr>\n",
       "    <tr>\n",
       "      <th>3</th>\n",
       "      <td>4</td>\n",
       "      <td>70</td>\n",
       "      <td>RL</td>\n",
       "      <td>60.0</td>\n",
       "      <td>9550</td>\n",
       "      <td>Pave</td>\n",
       "      <td>NaN</td>\n",
       "      <td>IR1</td>\n",
       "      <td>Lvl</td>\n",
       "      <td>AllPub</td>\n",
       "      <td>...</td>\n",
       "      <td>0</td>\n",
       "      <td>NaN</td>\n",
       "      <td>NaN</td>\n",
       "      <td>NaN</td>\n",
       "      <td>0</td>\n",
       "      <td>2</td>\n",
       "      <td>2006</td>\n",
       "      <td>WD</td>\n",
       "      <td>Abnorml</td>\n",
       "      <td>140000</td>\n",
       "    </tr>\n",
       "    <tr>\n",
       "      <th>4</th>\n",
       "      <td>5</td>\n",
       "      <td>60</td>\n",
       "      <td>RL</td>\n",
       "      <td>84.0</td>\n",
       "      <td>14260</td>\n",
       "      <td>Pave</td>\n",
       "      <td>NaN</td>\n",
       "      <td>IR1</td>\n",
       "      <td>Lvl</td>\n",
       "      <td>AllPub</td>\n",
       "      <td>...</td>\n",
       "      <td>0</td>\n",
       "      <td>NaN</td>\n",
       "      <td>NaN</td>\n",
       "      <td>NaN</td>\n",
       "      <td>0</td>\n",
       "      <td>12</td>\n",
       "      <td>2008</td>\n",
       "      <td>WD</td>\n",
       "      <td>Normal</td>\n",
       "      <td>250000</td>\n",
       "    </tr>\n",
       "  </tbody>\n",
       "</table>\n",
       "<p>5 rows × 81 columns</p>\n",
       "</div>"
      ],
      "text/plain": [
       "   Id  MSSubClass MSZoning  LotFrontage  LotArea Street Alley LotShape  \\\n",
       "0   1          60       RL         65.0     8450   Pave   NaN      Reg   \n",
       "1   2          20       RL         80.0     9600   Pave   NaN      Reg   \n",
       "2   3          60       RL         68.0    11250   Pave   NaN      IR1   \n",
       "3   4          70       RL         60.0     9550   Pave   NaN      IR1   \n",
       "4   5          60       RL         84.0    14260   Pave   NaN      IR1   \n",
       "\n",
       "  LandContour Utilities    ...     PoolArea PoolQC Fence MiscFeature MiscVal  \\\n",
       "0         Lvl    AllPub    ...            0    NaN   NaN         NaN       0   \n",
       "1         Lvl    AllPub    ...            0    NaN   NaN         NaN       0   \n",
       "2         Lvl    AllPub    ...            0    NaN   NaN         NaN       0   \n",
       "3         Lvl    AllPub    ...            0    NaN   NaN         NaN       0   \n",
       "4         Lvl    AllPub    ...            0    NaN   NaN         NaN       0   \n",
       "\n",
       "  MoSold YrSold  SaleType  SaleCondition  SalePrice  \n",
       "0      2   2008        WD         Normal     208500  \n",
       "1      5   2007        WD         Normal     181500  \n",
       "2      9   2008        WD         Normal     223500  \n",
       "3      2   2006        WD        Abnorml     140000  \n",
       "4     12   2008        WD         Normal     250000  \n",
       "\n",
       "[5 rows x 81 columns]"
      ]
     },
     "execution_count": 3,
     "metadata": {},
     "output_type": "execute_result"
    }
   ],
   "source": [
    "# See the training data\n",
    "house_train.head()"
   ]
  },
  {
   "cell_type": "code",
   "execution_count": 4,
   "metadata": {
    "collapsed": false
   },
   "outputs": [
    {
     "data": {
      "text/html": [
       "<div>\n",
       "<table border=\"1\" class=\"dataframe\">\n",
       "  <thead>\n",
       "    <tr style=\"text-align: right;\">\n",
       "      <th></th>\n",
       "      <th>Id</th>\n",
       "      <th>MSSubClass</th>\n",
       "      <th>MSZoning</th>\n",
       "      <th>LotFrontage</th>\n",
       "      <th>LotArea</th>\n",
       "      <th>Street</th>\n",
       "      <th>Alley</th>\n",
       "      <th>LotShape</th>\n",
       "      <th>LandContour</th>\n",
       "      <th>Utilities</th>\n",
       "      <th>...</th>\n",
       "      <th>ScreenPorch</th>\n",
       "      <th>PoolArea</th>\n",
       "      <th>PoolQC</th>\n",
       "      <th>Fence</th>\n",
       "      <th>MiscFeature</th>\n",
       "      <th>MiscVal</th>\n",
       "      <th>MoSold</th>\n",
       "      <th>YrSold</th>\n",
       "      <th>SaleType</th>\n",
       "      <th>SaleCondition</th>\n",
       "    </tr>\n",
       "  </thead>\n",
       "  <tbody>\n",
       "    <tr>\n",
       "      <th>0</th>\n",
       "      <td>1461</td>\n",
       "      <td>20</td>\n",
       "      <td>RH</td>\n",
       "      <td>80.0</td>\n",
       "      <td>11622</td>\n",
       "      <td>Pave</td>\n",
       "      <td>NaN</td>\n",
       "      <td>Reg</td>\n",
       "      <td>Lvl</td>\n",
       "      <td>AllPub</td>\n",
       "      <td>...</td>\n",
       "      <td>120</td>\n",
       "      <td>0</td>\n",
       "      <td>NaN</td>\n",
       "      <td>MnPrv</td>\n",
       "      <td>NaN</td>\n",
       "      <td>0</td>\n",
       "      <td>6</td>\n",
       "      <td>2010</td>\n",
       "      <td>WD</td>\n",
       "      <td>Normal</td>\n",
       "    </tr>\n",
       "    <tr>\n",
       "      <th>1</th>\n",
       "      <td>1462</td>\n",
       "      <td>20</td>\n",
       "      <td>RL</td>\n",
       "      <td>81.0</td>\n",
       "      <td>14267</td>\n",
       "      <td>Pave</td>\n",
       "      <td>NaN</td>\n",
       "      <td>IR1</td>\n",
       "      <td>Lvl</td>\n",
       "      <td>AllPub</td>\n",
       "      <td>...</td>\n",
       "      <td>0</td>\n",
       "      <td>0</td>\n",
       "      <td>NaN</td>\n",
       "      <td>NaN</td>\n",
       "      <td>Gar2</td>\n",
       "      <td>12500</td>\n",
       "      <td>6</td>\n",
       "      <td>2010</td>\n",
       "      <td>WD</td>\n",
       "      <td>Normal</td>\n",
       "    </tr>\n",
       "    <tr>\n",
       "      <th>2</th>\n",
       "      <td>1463</td>\n",
       "      <td>60</td>\n",
       "      <td>RL</td>\n",
       "      <td>74.0</td>\n",
       "      <td>13830</td>\n",
       "      <td>Pave</td>\n",
       "      <td>NaN</td>\n",
       "      <td>IR1</td>\n",
       "      <td>Lvl</td>\n",
       "      <td>AllPub</td>\n",
       "      <td>...</td>\n",
       "      <td>0</td>\n",
       "      <td>0</td>\n",
       "      <td>NaN</td>\n",
       "      <td>MnPrv</td>\n",
       "      <td>NaN</td>\n",
       "      <td>0</td>\n",
       "      <td>3</td>\n",
       "      <td>2010</td>\n",
       "      <td>WD</td>\n",
       "      <td>Normal</td>\n",
       "    </tr>\n",
       "    <tr>\n",
       "      <th>3</th>\n",
       "      <td>1464</td>\n",
       "      <td>60</td>\n",
       "      <td>RL</td>\n",
       "      <td>78.0</td>\n",
       "      <td>9978</td>\n",
       "      <td>Pave</td>\n",
       "      <td>NaN</td>\n",
       "      <td>IR1</td>\n",
       "      <td>Lvl</td>\n",
       "      <td>AllPub</td>\n",
       "      <td>...</td>\n",
       "      <td>0</td>\n",
       "      <td>0</td>\n",
       "      <td>NaN</td>\n",
       "      <td>NaN</td>\n",
       "      <td>NaN</td>\n",
       "      <td>0</td>\n",
       "      <td>6</td>\n",
       "      <td>2010</td>\n",
       "      <td>WD</td>\n",
       "      <td>Normal</td>\n",
       "    </tr>\n",
       "    <tr>\n",
       "      <th>4</th>\n",
       "      <td>1465</td>\n",
       "      <td>120</td>\n",
       "      <td>RL</td>\n",
       "      <td>43.0</td>\n",
       "      <td>5005</td>\n",
       "      <td>Pave</td>\n",
       "      <td>NaN</td>\n",
       "      <td>IR1</td>\n",
       "      <td>HLS</td>\n",
       "      <td>AllPub</td>\n",
       "      <td>...</td>\n",
       "      <td>144</td>\n",
       "      <td>0</td>\n",
       "      <td>NaN</td>\n",
       "      <td>NaN</td>\n",
       "      <td>NaN</td>\n",
       "      <td>0</td>\n",
       "      <td>1</td>\n",
       "      <td>2010</td>\n",
       "      <td>WD</td>\n",
       "      <td>Normal</td>\n",
       "    </tr>\n",
       "  </tbody>\n",
       "</table>\n",
       "<p>5 rows × 80 columns</p>\n",
       "</div>"
      ],
      "text/plain": [
       "     Id  MSSubClass MSZoning  LotFrontage  LotArea Street Alley LotShape  \\\n",
       "0  1461          20       RH         80.0    11622   Pave   NaN      Reg   \n",
       "1  1462          20       RL         81.0    14267   Pave   NaN      IR1   \n",
       "2  1463          60       RL         74.0    13830   Pave   NaN      IR1   \n",
       "3  1464          60       RL         78.0     9978   Pave   NaN      IR1   \n",
       "4  1465         120       RL         43.0     5005   Pave   NaN      IR1   \n",
       "\n",
       "  LandContour Utilities      ...       ScreenPorch PoolArea PoolQC  Fence  \\\n",
       "0         Lvl    AllPub      ...               120        0    NaN  MnPrv   \n",
       "1         Lvl    AllPub      ...                 0        0    NaN    NaN   \n",
       "2         Lvl    AllPub      ...                 0        0    NaN  MnPrv   \n",
       "3         Lvl    AllPub      ...                 0        0    NaN    NaN   \n",
       "4         HLS    AllPub      ...               144        0    NaN    NaN   \n",
       "\n",
       "  MiscFeature MiscVal MoSold  YrSold  SaleType  SaleCondition  \n",
       "0         NaN       0      6    2010        WD         Normal  \n",
       "1        Gar2   12500      6    2010        WD         Normal  \n",
       "2         NaN       0      3    2010        WD         Normal  \n",
       "3         NaN       0      6    2010        WD         Normal  \n",
       "4         NaN       0      1    2010        WD         Normal  \n",
       "\n",
       "[5 rows x 80 columns]"
      ]
     },
     "execution_count": 4,
     "metadata": {},
     "output_type": "execute_result"
    }
   ],
   "source": [
    "# See the test data\n",
    "house_test.head()"
   ]
  },
  {
   "cell_type": "markdown",
   "metadata": {},
   "source": [
    "# 4. Explore a little"
   ]
  },
  {
   "cell_type": "code",
   "execution_count": 5,
   "metadata": {
    "collapsed": false
   },
   "outputs": [
    {
     "name": "stdout",
     "output_type": "stream",
     "text": [
      "Id              : 1\n",
      "MSSubClass      : 60\n",
      "MSZoning        : RL\n",
      "LotFrontage     : 65.0\n",
      "LotArea         : 8450\n",
      "Street          : Pave\n",
      "Alley           : nan\n",
      "LotShape        : Reg\n",
      "LandContour     : Lvl\n",
      "Utilities       : AllPub\n",
      "LotConfig       : Inside\n",
      "LandSlope       : Gtl\n",
      "Neighborhood    : CollgCr\n",
      "Condition1      : Norm\n",
      "Condition2      : Norm\n",
      "BldgType        : 1Fam\n",
      "HouseStyle      : 2Story\n",
      "OverallQual     : 7\n",
      "OverallCond     : 5\n",
      "YearBuilt       : 2003\n",
      "YearRemodAdd    : 2003\n",
      "RoofStyle       : Gable\n",
      "RoofMatl        : CompShg\n",
      "Exterior1st     : VinylSd\n",
      "Exterior2nd     : VinylSd\n",
      "MasVnrType      : BrkFace\n",
      "MasVnrArea      : 196.0\n",
      "ExterQual       : Gd\n",
      "ExterCond       : TA\n",
      "Foundation      : PConc\n",
      "BsmtQual        : Gd\n",
      "BsmtCond        : TA\n",
      "BsmtExposure    : No\n",
      "BsmtFinType1    : GLQ\n",
      "BsmtFinSF1      : 706\n",
      "BsmtFinType2    : Unf\n",
      "BsmtFinSF2      : 0\n",
      "BsmtUnfSF       : 150\n",
      "TotalBsmtSF     : 856\n",
      "Heating         : GasA\n",
      "HeatingQC       : Ex\n",
      "CentralAir      : Y\n",
      "Electrical      : SBrkr\n",
      "1stFlrSF        : 856\n",
      "2ndFlrSF        : 854\n",
      "LowQualFinSF    : 0\n",
      "GrLivArea       : 1710\n",
      "BsmtFullBath    : 1\n",
      "BsmtHalfBath    : 0\n",
      "FullBath        : 2\n",
      "HalfBath        : 1\n",
      "BedroomAbvGr    : 3\n",
      "KitchenAbvGr    : 1\n",
      "KitchenQual     : Gd\n",
      "TotRmsAbvGrd    : 8\n",
      "Functional      : Typ\n",
      "Fireplaces      : 0\n",
      "FireplaceQu     : nan\n",
      "GarageType      : Attchd\n",
      "GarageYrBlt     : 2003.0\n",
      "GarageFinish    : RFn\n",
      "GarageCars      : 2\n",
      "GarageArea      : 548\n",
      "GarageQual      : TA\n",
      "GarageCond      : TA\n",
      "PavedDrive      : Y\n",
      "WoodDeckSF      : 0\n",
      "OpenPorchSF     : 61\n",
      "EnclosedPorch   : 0\n",
      "3SsnPorch       : 0\n",
      "ScreenPorch     : 0\n",
      "PoolArea        : 0\n",
      "PoolQC          : nan\n",
      "Fence           : nan\n",
      "MiscFeature     : nan\n",
      "MiscVal         : 0\n",
      "MoSold          : 2\n",
      "YrSold          : 2008\n",
      "SaleType        : WD\n",
      "SaleCondition   : Normal\n",
      "SalePrice       : 208500\n"
     ]
    }
   ],
   "source": [
    "# Notice that there are a lot of columns.\n",
    "# Let's see how much.\n",
    "for column in house_train.columns.values.tolist():\n",
    "    example_value = house_train[column][0]\n",
    "    print('{:16}: {}'.format(column, example_value))"
   ]
  },
  {
   "cell_type": "markdown",
   "metadata": {},
   "source": [
    "# 5. Slice / Split the data into training and validation\n",
    "\n",
    "Now, we are going to split our training data in 2 datasets, train and validation.\n",
    "\n",
    "We learned in the course why it is important to have a training and validation set.\n",
    "\n",
    "Just remember that when you use a machine learning algorithm, you basically create a model that needs to be trained on your data.\n",
    "Essentially, you preprocess your data, give it to the algorithm and it will learn something.\n",
    "In this case, we will give some columns of our housing data plus the prices from the training data.\n",
    "\n",
    "The algorithm will try to find relations bewteen, for example, the number of bedrooms, the size of the house and the price of the house.\n",
    "\n",
    "Then, to test your algorithm, you should ask him to predict the price of a house that is NOT part of the training data.\n",
    "That way, you can effectively test if your model is great or not."
   ]
  },
  {
   "cell_type": "code",
   "execution_count": 6,
   "metadata": {
    "collapsed": false
   },
   "outputs": [
    {
     "name": "stderr",
     "output_type": "stream",
     "text": [
      "/Users/ralphmarschall/anaconda/lib/python3.5/site-packages/sklearn/cross_validation.py:44: DeprecationWarning: This module was deprecated in version 0.18 in favor of the model_selection module into which all the refactored classes and functions are moved. Also note that the interface of the new CV iterators are different from that of this module. This module will be removed in 0.20.\n",
      "  \"This module will be removed in 0.20.\", DeprecationWarning)\n"
     ]
    }
   ],
   "source": [
    "# Split the data, 70% for training, 30% for validation\n",
    "# If there is any red message, it is just a \"DeprecationWarning\", meaning that some function\n",
    "# will be changed in the next version of the library\n",
    "from sklearn.cross_validation import train_test_split\n",
    "\n",
    "# train_test_split returns 2 values\n",
    "house_x_train, house_x_validation = train_test_split(house_train, test_size=0.3)"
   ]
  },
  {
   "cell_type": "code",
   "execution_count": 7,
   "metadata": {
    "collapsed": false,
    "scrolled": true
   },
   "outputs": [
    {
     "name": "stdout",
     "output_type": "stream",
     "text": [
      "Size of train      : 1022\n",
      "Size of validation : 438\n"
     ]
    }
   ],
   "source": [
    "print('Size of train      : {}'.format(house_x_train.shape[0]))\n",
    "print('Size of validation : {}'.format(house_x_validation.shape[0]))"
   ]
  },
  {
   "cell_type": "markdown",
   "metadata": {},
   "source": [
    "The data has been split. Now we are going to extract the column that we want to predict, which is `SalePrice`.\n",
    "\n",
    "The reason we do that is because of how scikit algorithms work. Typically they ask to get the features and the target separatly."
   ]
  },
  {
   "cell_type": "code",
   "execution_count": 8,
   "metadata": {
    "collapsed": false
   },
   "outputs": [],
   "source": [
    "# Extract the SalePrice as target y\n",
    "house_y_train = house_x_train['SalePrice']\n",
    "house_y_validation = house_x_validation['SalePrice']"
   ]
  },
  {
   "cell_type": "markdown",
   "metadata": {},
   "source": [
    "# 6. Scale the values\n",
    "\n",
    "Because we are doing basic regression, we will only select a few columns that contains integer or float values.\n",
    "We will need to scale those columns, because of how regression algorithm works.\n",
    "\n",
    "Essentially, most regression algorithm are just a linear (`y = c * x + i`) or polynomial (`y = c * x + c * x^2 + ... +  i`) formula. \n",
    "\n",
    "So if you try to use, for example, the number of bedrooms and the price in the same equation you might have numerical issues, because bedrooms are in the range of 1 to 5 most of the time and prices can go into the millions.\n",
    "For this reason, we scale or normalize the values.\n",
    "\n",
    "Again, this is just an overview to show what is possible using scikit-learn."
   ]
  },
  {
   "cell_type": "code",
   "execution_count": 9,
   "metadata": {
    "collapsed": true
   },
   "outputs": [],
   "source": [
    "# Select a few features only\n",
    "columns = ['MSSubClass', 'LotArea', 'OverallQual', 'OverallCond', '1stFlrSF']"
   ]
  },
  {
   "cell_type": "code",
   "execution_count": 18,
   "metadata": {
    "collapsed": false
   },
   "outputs": [
    {
     "name": "stderr",
     "output_type": "stream",
     "text": [
      "/Users/ralphmarschall/anaconda/lib/python3.5/site-packages/sklearn/utils/validation.py:429: DataConversionWarning: Data with input dtype int64 was converted to float64 by StandardScaler.\n",
      "  warnings.warn(msg, _DataConversionWarning)\n",
      "/Users/ralphmarschall/anaconda/lib/python3.5/site-packages/sklearn/preprocessing/data.py:586: DeprecationWarning: Passing 1d arrays as data is deprecated in 0.17 and will raise ValueError in 0.19. Reshape your data either using X.reshape(-1, 1) if your data has a single feature or X.reshape(1, -1) if it contains a single sample.\n",
      "  warnings.warn(DEPRECATION_MSG_1D, DeprecationWarning)\n",
      "/Users/ralphmarschall/anaconda/lib/python3.5/site-packages/ipykernel/__main__.py:9: SettingWithCopyWarning: \n",
      "A value is trying to be set on a copy of a slice from a DataFrame.\n",
      "Try using .loc[row_indexer,col_indexer] = value instead\n",
      "\n",
      "See the caveats in the documentation: http://pandas.pydata.org/pandas-docs/stable/indexing.html#indexing-view-versus-copy\n",
      "/Users/ralphmarschall/anaconda/lib/python3.5/site-packages/pandas/core/indexing.py:477: SettingWithCopyWarning: \n",
      "A value is trying to be set on a copy of a slice from a DataFrame.\n",
      "Try using .loc[row_indexer,col_indexer] = value instead\n",
      "\n",
      "See the caveats in the documentation: http://pandas.pydata.org/pandas-docs/stable/indexing.html#indexing-view-versus-copy\n",
      "  self.obj[item] = s\n",
      "/Users/ralphmarschall/anaconda/lib/python3.5/site-packages/ipykernel/__main__.py:10: SettingWithCopyWarning: \n",
      "A value is trying to be set on a copy of a slice from a DataFrame.\n",
      "Try using .loc[row_indexer,col_indexer] = value instead\n",
      "\n",
      "See the caveats in the documentation: http://pandas.pydata.org/pandas-docs/stable/indexing.html#indexing-view-versus-copy\n",
      "/Users/ralphmarschall/anaconda/lib/python3.5/site-packages/sklearn/preprocessing/data.py:649: DeprecationWarning: Passing 1d arrays as data is deprecated in 0.17 and will raise ValueError in 0.19. Reshape your data either using X.reshape(-1, 1) if your data has a single feature or X.reshape(1, -1) if it contains a single sample.\n",
      "  warnings.warn(DEPRECATION_MSG_1D, DeprecationWarning)\n",
      "/Users/ralphmarschall/anaconda/lib/python3.5/site-packages/sklearn/preprocessing/data.py:649: DeprecationWarning: Passing 1d arrays as data is deprecated in 0.17 and will raise ValueError in 0.19. Reshape your data either using X.reshape(-1, 1) if your data has a single feature or X.reshape(1, -1) if it contains a single sample.\n",
      "  warnings.warn(DEPRECATION_MSG_1D, DeprecationWarning)\n"
     ]
    }
   ],
   "source": [
    "# NOTE: Ingore all Red Big Warnings, it is not important and doesn't break anything.\n",
    "\n",
    "from sklearn.preprocessing import StandardScaler\n",
    "\n",
    "# Create two different Scaler and fit them with all training columns, respectively all training prices data\n",
    "x_scaler = StandardScaler().fit( house_train[columns] )\n",
    "y_scaler = StandardScaler().fit( house_train['SalePrice'] )\n",
    "\n",
    "house_x_train[columns] = x_scaler.transform( house_x_train[columns] )\n",
    "house_x_validation[columns] = x_scaler.transform( house_x_validation[columns] )\n",
    "\n",
    "house_y_KFoldtrain = y_scaler.transform(house_y_train)\n",
    "house_y_validation = y_scaler.transform(house_y_validation)\n",
    "\n",
    "house_test[columns] = x_scaler.transform( house_test[columns] )\n"
   ]
  },
  {
   "cell_type": "markdown",
   "metadata": {},
   "source": [
    "# 7. Creating, Training & Measuring the Model\n",
    "\n",
    "Next, we are going to create multiple Machine Learning models, train them, test their performance and see what works best for us.\n",
    "\n",
    "We provide multiple functions that will make it easier for you to get started.\n",
    "\n",
    "**Performance:**\n",
    "\n",
    "We will use the [coefficient of determination](https://en.wikipedia.org/wiki/Coefficient_of_determination) to measure the model's performance.\n",
    "This value is between 0 and 1, 1 being the best.\n",
    "\n",
    "We will see that we can use mutliple algorithms to do regression jobs. We have to measure and see what model suits best for us.\n",
    "Note that we only cover the basics, each alorithm has a lot of specific parameters and features that can be tuned to improve the performance.\n",
    "\n",
    "The next few cells will define a few functions."
   ]
  },
  {
   "cell_type": "code",
   "execution_count": 19,
   "metadata": {
    "collapsed": true
   },
   "outputs": [],
   "source": [
    "from sklearn.cross_validation import *\n",
    "\n",
    "def train_and_evaluation(model, x_train, y_train):\n",
    "    ''' Trains and evaluation the performance of a Regression Model.\n",
    "    \n",
    "    Returns the scores array.\n",
    "    '''\n",
    "    model.fit(x_train, y_train)\n",
    "    \n",
    "    print('Coefficient of determination on training set: {}'.format( model.score(x_train, y_train )) )\n",
    "          \n",
    "    # create a k-fold cross validation iterator of k=5 folds\n",
    "    cv = KFold(x_train.shape[0], 5, shuffle=True, random_state=33)\n",
    "    \n",
    "    scores = cross_val_score(model, x_train, y_train, cv=cv)\n",
    "    print('Average coefficient of determination using 5-fold crossvalidation:', np.mean(scores))\n",
    "    \n",
    "    return scores"
   ]
  },
  {
   "cell_type": "code",
   "execution_count": 20,
   "metadata": {
    "collapsed": true
   },
   "outputs": [],
   "source": [
    "def plot_model(model, x, y, label='Model'):\n",
    "    ''' Makes a simple plot of the predictions of a model.\n",
    "    '''\n",
    "    plt.plot(y, y, label='true data')\n",
    "    plt.plot(y, model.predict(x), 'co', label=label)\n",
    "    plt.legend()\n",
    "    plt.show()"
   ]
  },
  {
   "cell_type": "markdown",
   "metadata": {},
   "source": [
    "## 7.1 Simple Linear Regression\n",
    "\n",
    "Let's start with a simple linear regression model.\n",
    "\n",
    "[Documentation](http://scikit-learn.org/stable/modules/generated/sklearn.linear_model.SGDRegressor.html)"
   ]
  },
  {
   "cell_type": "code",
   "execution_count": 21,
   "metadata": {
    "collapsed": true
   },
   "outputs": [],
   "source": [
    "from sklearn import linear_model"
   ]
  },
  {
   "cell_type": "code",
   "execution_count": 22,
   "metadata": {
    "collapsed": false
   },
   "outputs": [
    {
     "name": "stdout",
     "output_type": "stream",
     "text": [
      "Coefficient of determination on training set: 0.694312036332566\n",
      "Average coefficient of determination using 5-fold crossvalidation: 0.68092790674\n"
     ]
    },
    {
     "data": {
      "image/png": "[encoded data removed]",
      "text/plain": [
       "<matplotlib.figure.Figure at 0x115a72a58>"
      ]
     },
     "metadata": {},
     "output_type": "display_data"
    }
   ],
   "source": [
    "# Create the Model\n",
    "model_linear = linear_model.SGDRegressor(loss='squared_loss', penalty=None, random_state=42)\n",
    "\n",
    "# Train and evaluate\n",
    "scores = train_and_evaluation(model_linear, house_x_train[columns], house_y_train)\n",
    "\n",
    "# Plot\n",
    "plot_model(model_linear, house_x_train[columns], house_y_train)"
   ]
  },
  {
   "cell_type": "code",
   "execution_count": 23,
   "metadata": {
    "collapsed": false
   },
   "outputs": [
    {
     "name": "stdout",
     "output_type": "stream",
     "text": [
      "Coefficient of determination on training set: 0.6943099317767183\n",
      "Average coefficient of determination using 5-fold crossvalidation: 0.68092996431\n"
     ]
    },
    {
     "data": {
      "image/png": "[encoded data removed]",
      "text/plain": [
       "<matplotlib.figure.Figure at 0x1159ef668>"
      ]
     },
     "metadata": {},
     "output_type": "display_data"
    }
   ],
   "source": [
    "# Create the Model\n",
    "model_linear_l2 = linear_model.SGDRegressor(loss='squared_loss', penalty='l2', random_state=42)\n",
    "\n",
    "# Train and evaluate\n",
    "scores = train_and_evaluation(model_linear_l2, house_x_train[columns], house_y_train)\n",
    "\n",
    "# Plot\n",
    "plot_model(model_linear_l2, house_x_train[columns], house_y_train)"
   ]
  },
  {
   "cell_type": "markdown",
   "metadata": {},
   "source": [
    "## 7.2 Support Vector Machines (SVM) \n",
    "\n",
    "This is another algorithm that can be used to perform regression.\n",
    "\n",
    "[Documentation](http://scikit-learn.org/stable/modules/svm.html#regression)"
   ]
  },
  {
   "cell_type": "code",
   "execution_count": 24,
   "metadata": {
    "collapsed": true
   },
   "outputs": [],
   "source": [
    "from sklearn import svm"
   ]
  },
  {
   "cell_type": "code",
   "execution_count": 25,
   "metadata": {
    "collapsed": false
   },
   "outputs": [
    {
     "name": "stdout",
     "output_type": "stream",
     "text": [
      "Coefficient of determination on training set: 0.6831194154595317\n",
      "Average coefficient of determination using 5-fold crossvalidation: 0.677222621838\n"
     ]
    },
    {
     "data": {
      "image/png": "[encoded data removed]",
      "text/plain": [
       "<matplotlib.figure.Figure at 0x1154f1780>"
      ]
     },
     "metadata": {},
     "output_type": "display_data"
    }
   ],
   "source": [
    "# Create the Model\n",
    "model_svr = svm.SVR(kernel='linear')\n",
    "\n",
    "# Train and evaluate\n",
    "train_and_evaluation(model_svr, house_x_train[columns], house_y_train)\n",
    "\n",
    "# Plot\n",
    "plot_model(model_svr, house_x_train[columns], house_y_train)"
   ]
  },
  {
   "cell_type": "code",
   "execution_count": 30,
   "metadata": {
    "collapsed": false
   },
   "outputs": [
    {
     "name": "stdout",
     "output_type": "stream",
     "text": [
      "Coefficient of determination on training set: 0.583754551748527\n",
      "Average coefficient of determination using 5-fold crossvalidation: -2.83864914801\n"
     ]
    },
    {
     "data": {
      "image/png": "[encoded data removed]",
      "text/plain": [
       "<matplotlib.figure.Figure at 0x11707d0b8>"
      ]
     },
     "metadata": {},
     "output_type": "display_data"
    }
   ],
   "source": [
    "# Create the Model\n",
    "model_svr_poly = svm.SVR(kernel='poly')\n",
    "\n",
    "# Train and evaluate\n",
    "train_and_evaluation(model_svr_poly, house_x_train[columns], house_y_train)\n",
    "\n",
    "# Plot\n",
    "plot_model(model_svr_poly, house_x_train[columns], house_y_train)"
   ]
  },
  {
   "cell_type": "code",
   "execution_count": 31,
   "metadata": {
    "collapsed": false
   },
   "outputs": [
    {
     "name": "stdout",
     "output_type": "stream",
     "text": [
      "Coefficient of determination on training set: 0.8265060788082529\n",
      "Average coefficient of determination using 5-fold crossvalidation: 0.779981094913\n"
     ]
    },
    {
     "data": {
      "image/png": "[encoded data removed]",
      "text/plain": [
       "<matplotlib.figure.Figure at 0x11703cac8>"
      ]
     },
     "metadata": {},
     "output_type": "display_data"
    }
   ],
   "source": [
    "# Create the Model\n",
    "model_svr_rbf = svm.SVR(kernel='rbf')\n",
    "\n",
    "# Train and evaluate\n",
    "train_and_evaluation(model_svr_rbf, house_x_train[columns], house_y_train)\n",
    "\n",
    "# Plot\n",
    "plot_model(model_svr_rbf, house_x_train[columns], house_y_train)"
   ]
  },
  {
   "cell_type": "markdown",
   "metadata": {
    "collapsed": true
   },
   "source": [
    "## 7.3 Random Forest\n",
    "\n",
    "This is yet another algorithm, but this time based on Decisions Trees.\n",
    "\n",
    "In this example it is intersting to see that we can find out what features / columns **are most important** to the algorithm for predicting the prices.\n",
    "\n",
    "[Documentation](http://scikit-learn.org/stable/modules/generated/sklearn.ensemble.ExtraTreesRegressor.html)"
   ]
  },
  {
   "cell_type": "code",
   "execution_count": 32,
   "metadata": {
    "collapsed": true
   },
   "outputs": [],
   "source": [
    "from sklearn import ensemble"
   ]
  },
  {
   "cell_type": "code",
   "execution_count": 35,
   "metadata": {
    "collapsed": false
   },
   "outputs": [
    {
     "name": "stdout",
     "output_type": "stream",
     "text": [
      "Coefficient of determination on training set: 0.999907999793311\n",
      "Average coefficient of determination using 5-fold crossvalidation: 0.72223659448\n"
     ]
    },
    {
     "data": {
      "image/png": "[encoded data removed]",
      "text/plain": [
       "<matplotlib.figure.Figure at 0x11725aa90>"
      ]
     },
     "metadata": {},
     "output_type": "display_data"
    }
   ],
   "source": [
    "# Create the Model\n",
    "model_rf = ensemble.ExtraTreesRegressor(n_estimators=10, random_state=42)\n",
    "\n",
    "# Train and evaluate\n",
    "train_and_evaluation(model_rf, house_x_train[columns], house_y_train)\n",
    "\n",
    "# Plot\n",
    "plot_model(model_rf, house_x_train[columns], house_y_train)"
   ]
  },
  {
   "cell_type": "code",
   "execution_count": 36,
   "metadata": {
    "collapsed": false
   },
   "outputs": [
    {
     "data": {
      "text/plain": [
       "[(0.029246795297251264, 'OverallCond'),\n",
       " (0.059059783274498914, 'MSSubClass'),\n",
       " (0.10346435989475322, 'LotArea'),\n",
       " (0.18024481407687637, '1stFlrSF'),\n",
       " (0.62798424745662029, 'OverallQual')]"
      ]
     },
     "execution_count": 36,
     "metadata": {},
     "output_type": "execute_result"
    }
   ],
   "source": [
    "# Here we print the importance of the features\n",
    "sorted(zip(model_rf.feature_importances_, columns))"
   ]
  },
  {
   "cell_type": "markdown",
   "metadata": {},
   "source": [
    "We see that `OverallQual` weights in at 60% for deciding the price of the house.\n",
    "Also note that we should definitely use more features, but here let's keep it simple."
   ]
  },
  {
   "cell_type": "markdown",
   "metadata": {},
   "source": [
    "## 7.4 AdaBoost\n",
    "\n",
    "And this is the final algorithm that we will try.\n",
    "\n",
    "[Documentation](http://scikit-learn.org/stable/modules/generated/sklearn.ensemble.AdaBoostRegressor.html#sklearn.ensemble.AdaBoostRegressor)"
   ]
  },
  {
   "cell_type": "code",
   "execution_count": 41,
   "metadata": {
    "collapsed": false
   },
   "outputs": [
    {
     "name": "stdout",
     "output_type": "stream",
     "text": [
      "Coefficient of determination on training set: 0.7673068800538696\n",
      "Average coefficient of determination using 5-fold crossvalidation: 0.677589531918\n"
     ]
    },
    {
     "data": {
      "image/png": "[encoded data removed]",
      "text/plain": [
       "<matplotlib.figure.Figure at 0x117238b70>"
      ]
     },
     "metadata": {},
     "output_type": "display_data"
    }
   ],
   "source": [
    "# Create the Model\n",
    "model_ada = ensemble.AdaBoostRegressor(n_estimators=10)\n",
    "\n",
    "# Train and evaluate\n",
    "train_and_evaluation(model_ada, house_x_train[columns], house_y_train)\n",
    "\n",
    "# Plot\n",
    "plot_model(model_ada, house_x_train[columns], house_y_train)"
   ]
  },
  {
   "cell_type": "markdown",
   "metadata": {},
   "source": [
    "# 8. Model Evaluation\n",
    "\n",
    "Let's finish by making a small method that will evaluate our model.\n",
    "\n",
    "Before, we trained and evaluate our model on training data.\n",
    "Now we will measure the model on the validation data and get our final coefficient of determination."
   ]
  },
  {
   "cell_type": "code",
   "execution_count": 38,
   "metadata": {
    "collapsed": true
   },
   "outputs": [],
   "source": [
    "from sklearn import metrics\n",
    "\n",
    "def measure_r2_score(model, x, y):\n",
    "    predictions = model.predict(x)\n",
    "\n",
    "    print('Coefficient of determination: {0:.3f}'.format( metrics.r2_score(y, predictions) ))"
   ]
  },
  {
   "cell_type": "code",
   "execution_count": 46,
   "metadata": {
    "collapsed": false
   },
   "outputs": [
    {
     "name": "stdout",
     "output_type": "stream",
     "text": [
      "\n",
      "Model: Linear l2\n",
      "Coefficient of determination: 0.722\n",
      "\n",
      "Model: Random Forest\n",
      "Coefficient of determination: 0.791\n",
      "\n",
      "Model: SVM-Poly\n",
      "Coefficient of determination: 0.468\n",
      "\n",
      "Model: SVM-RBF\n",
      "Coefficient of determination: 0.785\n",
      "\n",
      "Model: Linear\n",
      "Coefficient of determination: 0.722\n",
      "\n",
      "Model: Adaboost\n",
      "Coefficient of determination: 0.749\n",
      "\n",
      "Model: SVM-Linear\n",
      "Coefficient of determination: 0.714\n"
     ]
    }
   ],
   "source": [
    "models = {\n",
    "    'Linear': model_linear,\n",
    "    'Linear l2': model_linear_l2,\n",
    "    'SVM-Linear': model_svr,\n",
    "    'SVM-Poly': model_svr_poly,\n",
    "    'SVM-RBF': model_svr_rbf,\n",
    "    'Random Forest': model_rf,\n",
    "    'Adaboost': model_ada\n",
    "}\n",
    "\n",
    "for key, model in models.items():\n",
    "    print('\\nModel: {}'.format(key))\n",
    "    measure_r2_score(model, house_x_validation[columns], house_y_validation)"
   ]
  },
  {
   "cell_type": "markdown",
   "metadata": {},
   "source": [
    "# 9. Predict Values\n",
    "\n",
    "Finally, ones you are happy with a model, you can predict values of new houses!"
   ]
  },
  {
   "cell_type": "code",
   "execution_count": 47,
   "metadata": {
    "collapsed": false
   },
   "outputs": [
    {
     "name": "stdout",
     "output_type": "stream",
     "text": [
      "Predictions (scaled): \n",
      "[-0.55733845 -0.51339226 -0.46050572 ..., -0.36751355 -0.55431636\n",
      "  0.46941594]\n",
      "\n",
      "Predictions ($): \n",
      "[ 136660.  140150.  144350. ...,  151735.  136900.  218200.]\n"
     ]
    },
    {
     "data": {
      "text/html": [
       "<div>\n",
       "<table border=\"1\" class=\"dataframe\">\n",
       "  <thead>\n",
       "    <tr style=\"text-align: right;\">\n",
       "      <th></th>\n",
       "      <th>Id</th>\n",
       "      <th>MSSubClass</th>\n",
       "      <th>MSZoning</th>\n",
       "      <th>LotFrontage</th>\n",
       "      <th>LotArea</th>\n",
       "      <th>Street</th>\n",
       "      <th>Alley</th>\n",
       "      <th>LotShape</th>\n",
       "      <th>LandContour</th>\n",
       "      <th>Utilities</th>\n",
       "      <th>...</th>\n",
       "      <th>PoolArea</th>\n",
       "      <th>PoolQC</th>\n",
       "      <th>Fence</th>\n",
       "      <th>MiscFeature</th>\n",
       "      <th>MiscVal</th>\n",
       "      <th>MoSold</th>\n",
       "      <th>YrSold</th>\n",
       "      <th>SaleType</th>\n",
       "      <th>SaleCondition</th>\n",
       "      <th>Prediction</th>\n",
       "    </tr>\n",
       "  </thead>\n",
       "  <tbody>\n",
       "    <tr>\n",
       "      <th>0</th>\n",
       "      <td>1461</td>\n",
       "      <td>-0.872563</td>\n",
       "      <td>RH</td>\n",
       "      <td>80.0</td>\n",
       "      <td>0.110763</td>\n",
       "      <td>Pave</td>\n",
       "      <td>NaN</td>\n",
       "      <td>Reg</td>\n",
       "      <td>Lvl</td>\n",
       "      <td>AllPub</td>\n",
       "      <td>...</td>\n",
       "      <td>0</td>\n",
       "      <td>NaN</td>\n",
       "      <td>MnPrv</td>\n",
       "      <td>NaN</td>\n",
       "      <td>0</td>\n",
       "      <td>6</td>\n",
       "      <td>2010</td>\n",
       "      <td>WD</td>\n",
       "      <td>Normal</td>\n",
       "      <td>136660.0</td>\n",
       "    </tr>\n",
       "    <tr>\n",
       "      <th>1</th>\n",
       "      <td>1462</td>\n",
       "      <td>-0.872563</td>\n",
       "      <td>RL</td>\n",
       "      <td>81.0</td>\n",
       "      <td>0.375850</td>\n",
       "      <td>Pave</td>\n",
       "      <td>NaN</td>\n",
       "      <td>IR1</td>\n",
       "      <td>Lvl</td>\n",
       "      <td>AllPub</td>\n",
       "      <td>...</td>\n",
       "      <td>0</td>\n",
       "      <td>NaN</td>\n",
       "      <td>NaN</td>\n",
       "      <td>Gar2</td>\n",
       "      <td>12500</td>\n",
       "      <td>6</td>\n",
       "      <td>2010</td>\n",
       "      <td>WD</td>\n",
       "      <td>Normal</td>\n",
       "      <td>140150.0</td>\n",
       "    </tr>\n",
       "    <tr>\n",
       "      <th>2</th>\n",
       "      <td>1463</td>\n",
       "      <td>0.073375</td>\n",
       "      <td>RL</td>\n",
       "      <td>74.0</td>\n",
       "      <td>0.332053</td>\n",
       "      <td>Pave</td>\n",
       "      <td>NaN</td>\n",
       "      <td>IR1</td>\n",
       "      <td>Lvl</td>\n",
       "      <td>AllPub</td>\n",
       "      <td>...</td>\n",
       "      <td>0</td>\n",
       "      <td>NaN</td>\n",
       "      <td>MnPrv</td>\n",
       "      <td>NaN</td>\n",
       "      <td>0</td>\n",
       "      <td>3</td>\n",
       "      <td>2010</td>\n",
       "      <td>WD</td>\n",
       "      <td>Normal</td>\n",
       "      <td>144350.0</td>\n",
       "    </tr>\n",
       "    <tr>\n",
       "      <th>3</th>\n",
       "      <td>1464</td>\n",
       "      <td>0.073375</td>\n",
       "      <td>RL</td>\n",
       "      <td>78.0</td>\n",
       "      <td>-0.054002</td>\n",
       "      <td>Pave</td>\n",
       "      <td>NaN</td>\n",
       "      <td>IR1</td>\n",
       "      <td>Lvl</td>\n",
       "      <td>AllPub</td>\n",
       "      <td>...</td>\n",
       "      <td>0</td>\n",
       "      <td>NaN</td>\n",
       "      <td>NaN</td>\n",
       "      <td>NaN</td>\n",
       "      <td>0</td>\n",
       "      <td>6</td>\n",
       "      <td>2010</td>\n",
       "      <td>WD</td>\n",
       "      <td>Normal</td>\n",
       "      <td>182150.0</td>\n",
       "    </tr>\n",
       "    <tr>\n",
       "      <th>4</th>\n",
       "      <td>1465</td>\n",
       "      <td>1.492282</td>\n",
       "      <td>RL</td>\n",
       "      <td>43.0</td>\n",
       "      <td>-0.552407</td>\n",
       "      <td>Pave</td>\n",
       "      <td>NaN</td>\n",
       "      <td>IR1</td>\n",
       "      <td>HLS</td>\n",
       "      <td>AllPub</td>\n",
       "      <td>...</td>\n",
       "      <td>0</td>\n",
       "      <td>NaN</td>\n",
       "      <td>NaN</td>\n",
       "      <td>NaN</td>\n",
       "      <td>0</td>\n",
       "      <td>1</td>\n",
       "      <td>2010</td>\n",
       "      <td>WD</td>\n",
       "      <td>Normal</td>\n",
       "      <td>185700.0</td>\n",
       "    </tr>\n",
       "    <tr>\n",
       "      <th>5</th>\n",
       "      <td>1466</td>\n",
       "      <td>0.073375</td>\n",
       "      <td>RL</td>\n",
       "      <td>75.0</td>\n",
       "      <td>-0.051798</td>\n",
       "      <td>Pave</td>\n",
       "      <td>NaN</td>\n",
       "      <td>IR1</td>\n",
       "      <td>Lvl</td>\n",
       "      <td>AllPub</td>\n",
       "      <td>...</td>\n",
       "      <td>0</td>\n",
       "      <td>NaN</td>\n",
       "      <td>NaN</td>\n",
       "      <td>NaN</td>\n",
       "      <td>0</td>\n",
       "      <td>4</td>\n",
       "      <td>2010</td>\n",
       "      <td>WD</td>\n",
       "      <td>Normal</td>\n",
       "      <td>175310.0</td>\n",
       "    </tr>\n",
       "    <tr>\n",
       "      <th>6</th>\n",
       "      <td>1467</td>\n",
       "      <td>-0.872563</td>\n",
       "      <td>RL</td>\n",
       "      <td>NaN</td>\n",
       "      <td>-0.254246</td>\n",
       "      <td>Pave</td>\n",
       "      <td>NaN</td>\n",
       "      <td>IR1</td>\n",
       "      <td>Lvl</td>\n",
       "      <td>AllPub</td>\n",
       "      <td>...</td>\n",
       "      <td>0</td>\n",
       "      <td>NaN</td>\n",
       "      <td>GdPrv</td>\n",
       "      <td>Shed</td>\n",
       "      <td>500</td>\n",
       "      <td>3</td>\n",
       "      <td>2010</td>\n",
       "      <td>WD</td>\n",
       "      <td>Normal</td>\n",
       "      <td>148740.0</td>\n",
       "    </tr>\n",
       "    <tr>\n",
       "      <th>7</th>\n",
       "      <td>1468</td>\n",
       "      <td>0.073375</td>\n",
       "      <td>RL</td>\n",
       "      <td>63.0</td>\n",
       "      <td>-0.211952</td>\n",
       "      <td>Pave</td>\n",
       "      <td>NaN</td>\n",
       "      <td>IR1</td>\n",
       "      <td>Lvl</td>\n",
       "      <td>AllPub</td>\n",
       "      <td>...</td>\n",
       "      <td>0</td>\n",
       "      <td>NaN</td>\n",
       "      <td>NaN</td>\n",
       "      <td>NaN</td>\n",
       "      <td>0</td>\n",
       "      <td>5</td>\n",
       "      <td>2010</td>\n",
       "      <td>WD</td>\n",
       "      <td>Normal</td>\n",
       "      <td>173090.0</td>\n",
       "    </tr>\n",
       "    <tr>\n",
       "      <th>8</th>\n",
       "      <td>1469</td>\n",
       "      <td>-0.872563</td>\n",
       "      <td>RL</td>\n",
       "      <td>85.0</td>\n",
       "      <td>-0.034158</td>\n",
       "      <td>Pave</td>\n",
       "      <td>NaN</td>\n",
       "      <td>Reg</td>\n",
       "      <td>Lvl</td>\n",
       "      <td>AllPub</td>\n",
       "      <td>...</td>\n",
       "      <td>0</td>\n",
       "      <td>NaN</td>\n",
       "      <td>NaN</td>\n",
       "      <td>NaN</td>\n",
       "      <td>0</td>\n",
       "      <td>2</td>\n",
       "      <td>2010</td>\n",
       "      <td>WD</td>\n",
       "      <td>Normal</td>\n",
       "      <td>180650.0</td>\n",
       "    </tr>\n",
       "    <tr>\n",
       "      <th>9</th>\n",
       "      <td>1470</td>\n",
       "      <td>-0.872563</td>\n",
       "      <td>RL</td>\n",
       "      <td>70.0</td>\n",
       "      <td>-0.212153</td>\n",
       "      <td>Pave</td>\n",
       "      <td>NaN</td>\n",
       "      <td>Reg</td>\n",
       "      <td>Lvl</td>\n",
       "      <td>AllPub</td>\n",
       "      <td>...</td>\n",
       "      <td>0</td>\n",
       "      <td>NaN</td>\n",
       "      <td>MnPrv</td>\n",
       "      <td>NaN</td>\n",
       "      <td>0</td>\n",
       "      <td>4</td>\n",
       "      <td>2010</td>\n",
       "      <td>WD</td>\n",
       "      <td>Normal</td>\n",
       "      <td>118876.6</td>\n",
       "    </tr>\n",
       "    <tr>\n",
       "      <th>10</th>\n",
       "      <td>1471</td>\n",
       "      <td>1.492282</td>\n",
       "      <td>RH</td>\n",
       "      <td>26.0</td>\n",
       "      <td>-0.466917</td>\n",
       "      <td>Pave</td>\n",
       "      <td>NaN</td>\n",
       "      <td>IR1</td>\n",
       "      <td>Lvl</td>\n",
       "      <td>AllPub</td>\n",
       "      <td>...</td>\n",
       "      <td>0</td>\n",
       "      <td>NaN</td>\n",
       "      <td>NaN</td>\n",
       "      <td>NaN</td>\n",
       "      <td>0</td>\n",
       "      <td>6</td>\n",
       "      <td>2010</td>\n",
       "      <td>WD</td>\n",
       "      <td>Normal</td>\n",
       "      <td>215630.0</td>\n",
       "    </tr>\n",
       "    <tr>\n",
       "      <th>11</th>\n",
       "      <td>1472</td>\n",
       "      <td>2.438219</td>\n",
       "      <td>RM</td>\n",
       "      <td>21.0</td>\n",
       "      <td>-0.885645</td>\n",
       "      <td>Pave</td>\n",
       "      <td>NaN</td>\n",
       "      <td>Reg</td>\n",
       "      <td>Lvl</td>\n",
       "      <td>AllPub</td>\n",
       "      <td>...</td>\n",
       "      <td>0</td>\n",
       "      <td>NaN</td>\n",
       "      <td>NaN</td>\n",
       "      <td>NaN</td>\n",
       "      <td>0</td>\n",
       "      <td>2</td>\n",
       "      <td>2010</td>\n",
       "      <td>COD</td>\n",
       "      <td>Normal</td>\n",
       "      <td>93300.0</td>\n",
       "    </tr>\n",
       "    <tr>\n",
       "      <th>12</th>\n",
       "      <td>1473</td>\n",
       "      <td>2.438219</td>\n",
       "      <td>RM</td>\n",
       "      <td>21.0</td>\n",
       "      <td>-0.885645</td>\n",
       "      <td>Pave</td>\n",
       "      <td>NaN</td>\n",
       "      <td>Reg</td>\n",
       "      <td>Lvl</td>\n",
       "      <td>AllPub</td>\n",
       "      <td>...</td>\n",
       "      <td>0</td>\n",
       "      <td>NaN</td>\n",
       "      <td>NaN</td>\n",
       "      <td>NaN</td>\n",
       "      <td>0</td>\n",
       "      <td>3</td>\n",
       "      <td>2010</td>\n",
       "      <td>WD</td>\n",
       "      <td>Normal</td>\n",
       "      <td>117400.0</td>\n",
       "    </tr>\n",
       "    <tr>\n",
       "      <th>13</th>\n",
       "      <td>1474</td>\n",
       "      <td>2.438219</td>\n",
       "      <td>RL</td>\n",
       "      <td>24.0</td>\n",
       "      <td>-0.825512</td>\n",
       "      <td>Pave</td>\n",
       "      <td>NaN</td>\n",
       "      <td>Reg</td>\n",
       "      <td>Lvl</td>\n",
       "      <td>AllPub</td>\n",
       "      <td>...</td>\n",
       "      <td>0</td>\n",
       "      <td>NaN</td>\n",
       "      <td>NaN</td>\n",
       "      <td>NaN</td>\n",
       "      <td>0</td>\n",
       "      <td>6</td>\n",
       "      <td>2010</td>\n",
       "      <td>WD</td>\n",
       "      <td>Normal</td>\n",
       "      <td>148500.0</td>\n",
       "    </tr>\n",
       "    <tr>\n",
       "      <th>14</th>\n",
       "      <td>1475</td>\n",
       "      <td>1.492282</td>\n",
       "      <td>RL</td>\n",
       "      <td>24.0</td>\n",
       "      <td>-0.825512</td>\n",
       "      <td>Pave</td>\n",
       "      <td>NaN</td>\n",
       "      <td>Reg</td>\n",
       "      <td>Lvl</td>\n",
       "      <td>AllPub</td>\n",
       "      <td>...</td>\n",
       "      <td>0</td>\n",
       "      <td>NaN</td>\n",
       "      <td>NaN</td>\n",
       "      <td>NaN</td>\n",
       "      <td>0</td>\n",
       "      <td>6</td>\n",
       "      <td>2010</td>\n",
       "      <td>WD</td>\n",
       "      <td>Normal</td>\n",
       "      <td>176300.0</td>\n",
       "    </tr>\n",
       "    <tr>\n",
       "      <th>15</th>\n",
       "      <td>1476</td>\n",
       "      <td>0.073375</td>\n",
       "      <td>RL</td>\n",
       "      <td>102.0</td>\n",
       "      <td>0.234637</td>\n",
       "      <td>Pave</td>\n",
       "      <td>NaN</td>\n",
       "      <td>IR1</td>\n",
       "      <td>Lvl</td>\n",
       "      <td>AllPub</td>\n",
       "      <td>...</td>\n",
       "      <td>0</td>\n",
       "      <td>NaN</td>\n",
       "      <td>NaN</td>\n",
       "      <td>NaN</td>\n",
       "      <td>0</td>\n",
       "      <td>1</td>\n",
       "      <td>2010</td>\n",
       "      <td>New</td>\n",
       "      <td>Partial</td>\n",
       "      <td>407843.3</td>\n",
       "    </tr>\n",
       "    <tr>\n",
       "      <th>16</th>\n",
       "      <td>1477</td>\n",
       "      <td>-0.872563</td>\n",
       "      <td>RL</td>\n",
       "      <td>94.0</td>\n",
       "      <td>0.237143</td>\n",
       "      <td>Pave</td>\n",
       "      <td>NaN</td>\n",
       "      <td>IR1</td>\n",
       "      <td>Lvl</td>\n",
       "      <td>AllPub</td>\n",
       "      <td>...</td>\n",
       "      <td>0</td>\n",
       "      <td>NaN</td>\n",
       "      <td>NaN</td>\n",
       "      <td>NaN</td>\n",
       "      <td>0</td>\n",
       "      <td>6</td>\n",
       "      <td>2010</td>\n",
       "      <td>New</td>\n",
       "      <td>Partial</td>\n",
       "      <td>239754.0</td>\n",
       "    </tr>\n",
       "    <tr>\n",
       "      <th>17</th>\n",
       "      <td>1478</td>\n",
       "      <td>-0.872563</td>\n",
       "      <td>RL</td>\n",
       "      <td>90.0</td>\n",
       "      <td>0.100540</td>\n",
       "      <td>Pave</td>\n",
       "      <td>NaN</td>\n",
       "      <td>Reg</td>\n",
       "      <td>Lvl</td>\n",
       "      <td>AllPub</td>\n",
       "      <td>...</td>\n",
       "      <td>0</td>\n",
       "      <td>NaN</td>\n",
       "      <td>NaN</td>\n",
       "      <td>NaN</td>\n",
       "      <td>0</td>\n",
       "      <td>6</td>\n",
       "      <td>2010</td>\n",
       "      <td>WD</td>\n",
       "      <td>Normal</td>\n",
       "      <td>345131.3</td>\n",
       "    </tr>\n",
       "    <tr>\n",
       "      <th>18</th>\n",
       "      <td>1479</td>\n",
       "      <td>-0.872563</td>\n",
       "      <td>RL</td>\n",
       "      <td>79.0</td>\n",
       "      <td>0.361318</td>\n",
       "      <td>Pave</td>\n",
       "      <td>NaN</td>\n",
       "      <td>IR1</td>\n",
       "      <td>Lvl</td>\n",
       "      <td>AllPub</td>\n",
       "      <td>...</td>\n",
       "      <td>0</td>\n",
       "      <td>NaN</td>\n",
       "      <td>NaN</td>\n",
       "      <td>NaN</td>\n",
       "      <td>0</td>\n",
       "      <td>2</td>\n",
       "      <td>2010</td>\n",
       "      <td>WD</td>\n",
       "      <td>Normal</td>\n",
       "      <td>279730.0</td>\n",
       "    </tr>\n",
       "    <tr>\n",
       "      <th>19</th>\n",
       "      <td>1480</td>\n",
       "      <td>-0.872563</td>\n",
       "      <td>RL</td>\n",
       "      <td>110.0</td>\n",
       "      <td>0.379157</td>\n",
       "      <td>Pave</td>\n",
       "      <td>NaN</td>\n",
       "      <td>Reg</td>\n",
       "      <td>HLS</td>\n",
       "      <td>AllPub</td>\n",
       "      <td>...</td>\n",
       "      <td>0</td>\n",
       "      <td>NaN</td>\n",
       "      <td>NaN</td>\n",
       "      <td>NaN</td>\n",
       "      <td>0</td>\n",
       "      <td>6</td>\n",
       "      <td>2010</td>\n",
       "      <td>WD</td>\n",
       "      <td>Normal</td>\n",
       "      <td>579825.6</td>\n",
       "    </tr>\n",
       "  </tbody>\n",
       "</table>\n",
       "<p>20 rows × 81 columns</p>\n",
       "</div>"
      ],
      "text/plain": [
       "      Id  MSSubClass MSZoning  LotFrontage   LotArea Street Alley LotShape  \\\n",
       "0   1461   -0.872563       RH         80.0  0.110763   Pave   NaN      Reg   \n",
       "1   1462   -0.872563       RL         81.0  0.375850   Pave   NaN      IR1   \n",
       "2   1463    0.073375       RL         74.0  0.332053   Pave   NaN      IR1   \n",
       "3   1464    0.073375       RL         78.0 -0.054002   Pave   NaN      IR1   \n",
       "4   1465    1.492282       RL         43.0 -0.552407   Pave   NaN      IR1   \n",
       "5   1466    0.073375       RL         75.0 -0.051798   Pave   NaN      IR1   \n",
       "6   1467   -0.872563       RL          NaN -0.254246   Pave   NaN      IR1   \n",
       "7   1468    0.073375       RL         63.0 -0.211952   Pave   NaN      IR1   \n",
       "8   1469   -0.872563       RL         85.0 -0.034158   Pave   NaN      Reg   \n",
       "9   1470   -0.872563       RL         70.0 -0.212153   Pave   NaN      Reg   \n",
       "10  1471    1.492282       RH         26.0 -0.466917   Pave   NaN      IR1   \n",
       "11  1472    2.438219       RM         21.0 -0.885645   Pave   NaN      Reg   \n",
       "12  1473    2.438219       RM         21.0 -0.885645   Pave   NaN      Reg   \n",
       "13  1474    2.438219       RL         24.0 -0.825512   Pave   NaN      Reg   \n",
       "14  1475    1.492282       RL         24.0 -0.825512   Pave   NaN      Reg   \n",
       "15  1476    0.073375       RL        102.0  0.234637   Pave   NaN      IR1   \n",
       "16  1477   -0.872563       RL         94.0  0.237143   Pave   NaN      IR1   \n",
       "17  1478   -0.872563       RL         90.0  0.100540   Pave   NaN      Reg   \n",
       "18  1479   -0.872563       RL         79.0  0.361318   Pave   NaN      IR1   \n",
       "19  1480   -0.872563       RL        110.0  0.379157   Pave   NaN      Reg   \n",
       "\n",
       "   LandContour Utilities     ...     PoolArea PoolQC  Fence MiscFeature  \\\n",
       "0          Lvl    AllPub     ...            0    NaN  MnPrv         NaN   \n",
       "1          Lvl    AllPub     ...            0    NaN    NaN        Gar2   \n",
       "2          Lvl    AllPub     ...            0    NaN  MnPrv         NaN   \n",
       "3          Lvl    AllPub     ...            0    NaN    NaN         NaN   \n",
       "4          HLS    AllPub     ...            0    NaN    NaN         NaN   \n",
       "5          Lvl    AllPub     ...            0    NaN    NaN         NaN   \n",
       "6          Lvl    AllPub     ...            0    NaN  GdPrv        Shed   \n",
       "7          Lvl    AllPub     ...            0    NaN    NaN         NaN   \n",
       "8          Lvl    AllPub     ...            0    NaN    NaN         NaN   \n",
       "9          Lvl    AllPub     ...            0    NaN  MnPrv         NaN   \n",
       "10         Lvl    AllPub     ...            0    NaN    NaN         NaN   \n",
       "11         Lvl    AllPub     ...            0    NaN    NaN         NaN   \n",
       "12         Lvl    AllPub     ...            0    NaN    NaN         NaN   \n",
       "13         Lvl    AllPub     ...            0    NaN    NaN         NaN   \n",
       "14         Lvl    AllPub     ...            0    NaN    NaN         NaN   \n",
       "15         Lvl    AllPub     ...            0    NaN    NaN         NaN   \n",
       "16         Lvl    AllPub     ...            0    NaN    NaN         NaN   \n",
       "17         Lvl    AllPub     ...            0    NaN    NaN         NaN   \n",
       "18         Lvl    AllPub     ...            0    NaN    NaN         NaN   \n",
       "19         HLS    AllPub     ...            0    NaN    NaN         NaN   \n",
       "\n",
       "   MiscVal MoSold YrSold  SaleType  SaleCondition  Prediction  \n",
       "0        0      6   2010        WD         Normal    136660.0  \n",
       "1    12500      6   2010        WD         Normal    140150.0  \n",
       "2        0      3   2010        WD         Normal    144350.0  \n",
       "3        0      6   2010        WD         Normal    182150.0  \n",
       "4        0      1   2010        WD         Normal    185700.0  \n",
       "5        0      4   2010        WD         Normal    175310.0  \n",
       "6      500      3   2010        WD         Normal    148740.0  \n",
       "7        0      5   2010        WD         Normal    173090.0  \n",
       "8        0      2   2010        WD         Normal    180650.0  \n",
       "9        0      4   2010        WD         Normal    118876.6  \n",
       "10       0      6   2010        WD         Normal    215630.0  \n",
       "11       0      2   2010       COD         Normal     93300.0  \n",
       "12       0      3   2010        WD         Normal    117400.0  \n",
       "13       0      6   2010        WD         Normal    148500.0  \n",
       "14       0      6   2010        WD         Normal    176300.0  \n",
       "15       0      1   2010       New        Partial    407843.3  \n",
       "16       0      6   2010       New        Partial    239754.0  \n",
       "17       0      6   2010        WD         Normal    345131.3  \n",
       "18       0      2   2010        WD         Normal    279730.0  \n",
       "19       0      6   2010        WD         Normal    579825.6  \n",
       "\n",
       "[20 rows x 81 columns]"
      ]
     },
     "execution_count": 47,
     "metadata": {},
     "output_type": "execute_result"
    }
   ],
   "source": [
    "prediction = model_rf.predict( house_test[columns] )\n",
    "print('Predictions (scaled): \\n{}'.format(prediction)) # Those are the predictions scaled\n",
    "\n",
    "# We can inverse transform the predictions to get the real dollar price\n",
    "prediction = y_scaler.inverse_transform(prediction)\n",
    "print('\\nPredictions ($): \\n{}'.format(prediction))\n",
    "\n",
    "# We can add the predictions as a column to our test data and then print.\n",
    "house_test['Prediction'] = prediction\n",
    "\n",
    "# Print the house_test, note that many features are scalled.\n",
    "house_test.head(20)"
   ]
  },
  {
   "cell_type": "markdown",
   "metadata": {},
   "source": [
    "# 10. Validation Curves: Plot scores to evaluate models (OPTIONAL)\n",
    "\n",
    "This next section is more advanced.\n",
    "It consists of plotting different things such as the scores and learning curves in order to visualize and evaluate our model.\n",
    "\n",
    "[Documentation](http://scikit-learn.org/stable/modules/learning_curve.html)"
   ]
  },
  {
   "cell_type": "code",
   "execution_count": 48,
   "metadata": {
    "collapsed": false
   },
   "outputs": [],
   "source": [
    "from sklearn.naive_bayes import GaussianNB\n",
    "from sklearn.svm import SVC\n",
    "from sklearn.datasets import load_digits\n",
    "from sklearn.model_selection import learning_curve\n",
    "from sklearn.model_selection import ShuffleSplit\n",
    "\n",
    "\n",
    "def plot_learning_curve(estimator, title, X, y, ylim=None, cv=None,\n",
    "                        n_jobs=1, train_sizes=np.linspace(.1, 1.0, 5)):\n",
    "    \"\"\"\n",
    "    Generate a simple plot of the test and training learning curve.\n",
    "\n",
    "    Parameters\n",
    "    ----------\n",
    "    estimator : object type that implements the \"fit\" and \"predict\" methods\n",
    "        An object of that type which is cloned for each validation.\n",
    "\n",
    "    title : string\n",
    "        Title for the chart.\n",
    "\n",
    "    X : array-like, shape (n_samples, n_features)\n",
    "        Training vector, where n_samples is the number of samples and\n",
    "        n_features is the number of features.\n",
    "\n",
    "    y : array-like, shape (n_samples) or (n_samples, n_features), optional\n",
    "        Target relative to X for classification or regression;\n",
    "        None for unsupervised learning.\n",
    "\n",
    "    ylim : tuple, shape (ymin, ymax), optional\n",
    "        Defines minimum and maximum yvalues plotted.\n",
    "\n",
    "    cv : int, cross-validation generator or an iterable, optional\n",
    "        Determines the cross-validation splitting strategy.\n",
    "        Possible inputs for cv are:\n",
    "          - None, to use the default 3-fold cross-validation,\n",
    "          - integer, to specify the number of folds.\n",
    "          - An object to be used as a cross-validation generator.\n",
    "          - An iterable yielding train/test splits.\n",
    "\n",
    "        For integer/None inputs, if ``y`` is binary or multiclass,\n",
    "        :class:`StratifiedKFold` used. If the estimator is not a classifier\n",
    "        or if ``y`` is neither binary nor multiclass, :class:`KFold` is used.\n",
    "\n",
    "        Refer :ref:`User Guide <cross_validation>` for the various\n",
    "        cross-validators that can be used here.\n",
    "\n",
    "    n_jobs : integer, optional\n",
    "        Number of jobs to run in parallel (default 1).\n",
    "    \"\"\"\n",
    "    plt.figure()\n",
    "    plt.title(title)\n",
    "    if ylim is not None:\n",
    "        plt.ylim(*ylim)\n",
    "    plt.xlabel(\"Training examples\")\n",
    "    plt.ylabel(\"Score\")\n",
    "    train_sizes, train_scores, test_scores = learning_curve(\n",
    "        estimator, X, y, cv=cv, n_jobs=n_jobs, train_sizes=train_sizes)\n",
    "    train_scores_mean = np.mean(train_scores, axis=1)\n",
    "    train_scores_std = np.std(train_scores, axis=1)\n",
    "    test_scores_mean = np.mean(test_scores, axis=1)\n",
    "    test_scores_std = np.std(test_scores, axis=1)\n",
    "    plt.grid()\n",
    "\n",
    "    plt.fill_between(train_sizes, train_scores_mean - train_scores_std,\n",
    "                     train_scores_mean + train_scores_std, alpha=0.1,\n",
    "                     color=\"r\")\n",
    "    plt.fill_between(train_sizes, test_scores_mean - test_scores_std,\n",
    "                     test_scores_mean + test_scores_std, alpha=0.1, color=\"g\")\n",
    "    plt.plot(train_sizes, train_scores_mean, 'o-', color=\"r\",\n",
    "             label=\"Training score\")\n",
    "    plt.plot(train_sizes, test_scores_mean, 'o-', color=\"g\",\n",
    "             label=\"Cross-validation score\")\n",
    "\n",
    "    plt.legend(loc=\"best\")\n",
    "    return plt"
   ]
  },
  {
   "cell_type": "code",
   "execution_count": 52,
   "metadata": {
    "collapsed": false
   },
   "outputs": [
    {
     "data": {
      "text/plain": [
       "<module 'matplotlib.pyplot' from '/Users/ralphmarschall/anaconda/lib/python3.5/site-packages/matplotlib/pyplot.py'>"
      ]
     },
     "execution_count": 52,
     "metadata": {},
     "output_type": "execute_result"
    },
    {
     "data": {
      "image/png": "[encoded data removed]",
      "text/plain": [
       "<matplotlib.figure.Figure at 0x115c18898>"
      ]
     },
     "metadata": {},
     "output_type": "display_data"
    }
   ],
   "source": [
    "# Plot the Model that uses SVM with RBF\n",
    "\n",
    "cv = KFold(house_x_train[columns].shape[0], 5, shuffle=True, random_state=33)\n",
    "plot_learning_curve(model_rf, 'SVM RBF', house_x_train[columns], house_y_train, cv=cv, n_jobs=4)"
   ]
  },
  {
   "cell_type": "code",
   "execution_count": 53,
   "metadata": {
    "collapsed": false
   },
   "outputs": [
    {
     "data": {
      "text/plain": [
       "<module 'matplotlib.pyplot' from '/Users/ralphmarschall/anaconda/lib/python3.5/site-packages/matplotlib/pyplot.py'>"
      ]
     },
     "execution_count": 53,
     "metadata": {},
     "output_type": "execute_result"
    },
    {
     "data": {
      "image/png": "[encoded data removed]",
      "text/plain": [
       "<matplotlib.figure.Figure at 0x1170abe48>"
      ]
     },
     "metadata": {},
     "output_type": "display_data"
    }
   ],
   "source": [
    "plot_learning_curve(model_svr_rbf, 'SVM RBF', house_x_train[columns], house_y_train, cv=cv, n_jobs=4)"
   ]
  },
  {
   "cell_type": "code",
   "execution_count": null,
   "metadata": {
    "collapsed": true
   },
   "outputs": [],
   "source": []
  }
 ],
 "metadata": {
  "anaconda-cloud": {},
  "kernelspec": {
   "display_name": "Python [Root]",
   "language": "python",
   "name": "Python [Root]"
  },
  "language_info": {
   "codemirror_mode": {
    "name": "ipython",
    "version": 3
   },
   "file_extension": ".py",
   "mimetype": "text/x-python",
   "name": "python",
   "nbconvert_exporter": "python",
   "pygments_lexer": "ipython3",
   "version": "3.5.2"
  }
 },
 "nbformat": 4,
 "nbformat_minor": 0
}
