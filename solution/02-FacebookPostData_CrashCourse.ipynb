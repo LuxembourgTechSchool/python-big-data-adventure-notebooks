{
 "cells": [
  {
   "cell_type": "markdown",
   "metadata": {},
   "source": [
    "# Facebook Post Data - Crash Course\n",
    "\n",
    "In this notebook, you are going to analyse your own posts from Facebook. We will explore your data, do some pre-processing on text data and finally find out, for example, which words gave your the most likes or given some text, how many reaction could you expect. The result will be personal to you, so that will be really interesting.\n",
    "\n",
    "\n",
    "So, if you didn't do it yet, go to https://github.com/LuxembourgTechSchool/FacebookPostsToCsv and follow the steps. At the end you should have 2 CSV files named `posts_default.csv` and `reactions_default.csv`."
   ]
  },
  {
   "cell_type": "markdown",
   "metadata": {},
   "source": [
    "## 1. Importing Libraries\n",
    "\n",
    "As always, we start but importing a few basic libraries."
   ]
  },
  {
   "cell_type": "code",
   "execution_count": 1,
   "metadata": {
    "collapsed": true
   },
   "outputs": [],
   "source": [
    "# Import Panda and give it a shorter name \"pd\"\n",
    "import pandas as pd\n",
    "\n",
    "# Import numpy and give it a shorter name \"np\"\n",
    "import numpy as np\n",
    "\n",
    "# Import pyplot from matplotlib and give it a shorter name \"plt\".\n",
    "import matplotlib.pyplot as plt\n",
    "\n",
    "# Tell Jupyter to to print plots in the cell results (Specific to notebooks only)\n",
    "%matplotlib inline "
   ]
  },
  {
   "cell_type": "markdown",
   "metadata": {},
   "source": [
    "## 2. Loading the Data\n",
    "\n",
    "Next, we load our 2 CSV files.\n",
    "\n",
    "**Important:** Make sure that you set the right path to point to the posts and reactions CSV files."
   ]
  },
  {
   "cell_type": "code",
   "execution_count": 2,
   "metadata": {
    "collapsed": false
   },
   "outputs": [],
   "source": [
    "posts = pd.read_csv('../data/facebook_data/posts_default.csv')\n",
    "reactions = pd.read_csv('../data/facebook_data/reactions_default.csv')"
   ]
  },
  {
   "cell_type": "markdown",
   "metadata": {},
   "source": [
    "Let's take a look inside."
   ]
  },
  {
   "cell_type": "code",
   "execution_count": 3,
   "metadata": {
    "collapsed": false
   },
   "outputs": [
    {
     "data": {
      "text/html": [
       "<div>\n",
       "<table border=\"1\" class=\"dataframe\">\n",
       "  <thead>\n",
       "    <tr style=\"text-align: right;\">\n",
       "      <th></th>\n",
       "      <th>id</th>\n",
       "      <th>created_time</th>\n",
       "      <th>message</th>\n",
       "      <th>story</th>\n",
       "    </tr>\n",
       "  </thead>\n",
       "  <tbody>\n",
       "    <tr>\n",
       "      <th>0</th>\n",
       "      <td>0</td>\n",
       "      <td>2014-10-02T19:11:02+0000</td>\n",
       "      <td>I add \"Drink Beer\" to my weekend to-do list so...</td>\n",
       "      <td>NaN</td>\n",
       "    </tr>\n",
       "    <tr>\n",
       "      <th>1</th>\n",
       "      <td>1</td>\n",
       "      <td>2013-05-05T14:40:24+0000</td>\n",
       "      <td>I asked my North Korean friend how it was ther...</td>\n",
       "      <td>NaN</td>\n",
       "    </tr>\n",
       "    <tr>\n",
       "      <th>2</th>\n",
       "      <td>2</td>\n",
       "      <td>2011-09-08T09:51:35+0000</td>\n",
       "      <td>Birth control pills should be for men. It make...</td>\n",
       "      <td>NaN</td>\n",
       "    </tr>\n",
       "    <tr>\n",
       "      <th>3</th>\n",
       "      <td>3</td>\n",
       "      <td>2015-06-19T03:45:42+0000</td>\n",
       "      <td>I heard Chipotle is offering a new Ravens burr...</td>\n",
       "      <td>NaN</td>\n",
       "    </tr>\n",
       "    <tr>\n",
       "      <th>4</th>\n",
       "      <td>4</td>\n",
       "      <td>2012-01-15T02:18:13+0000</td>\n",
       "      <td>Hello Fire Department? Is this Mr. December? I...</td>\n",
       "      <td>NaN</td>\n",
       "    </tr>\n",
       "    <tr>\n",
       "      <th>5</th>\n",
       "      <td>5</td>\n",
       "      <td>2010-11-27T19:58:18+0000</td>\n",
       "      <td>Why does everyone want me to come out of my co...</td>\n",
       "      <td>NaN</td>\n",
       "    </tr>\n",
       "    <tr>\n",
       "      <th>6</th>\n",
       "      <td>6</td>\n",
       "      <td>2014-04-27T22:31:36+0000</td>\n",
       "      <td>“Can I pet him or will he bite?” is a fun thin...</td>\n",
       "      <td>NaN</td>\n",
       "    </tr>\n",
       "    <tr>\n",
       "      <th>7</th>\n",
       "      <td>7</td>\n",
       "      <td>2012-01-24T05:28:19+0000</td>\n",
       "      <td>I find the best way to get rid of headaches is...</td>\n",
       "      <td>NaN</td>\n",
       "    </tr>\n",
       "    <tr>\n",
       "      <th>8</th>\n",
       "      <td>8</td>\n",
       "      <td>2014-02-09T12:01:13+0000</td>\n",
       "      <td>You can tell a lot about a woman's mood by her...</td>\n",
       "      <td>NaN</td>\n",
       "    </tr>\n",
       "    <tr>\n",
       "      <th>9</th>\n",
       "      <td>9</td>\n",
       "      <td>2012-05-18T21:06:44+0000</td>\n",
       "      <td>Why aren't lawyers sworn to tell the truth alo...</td>\n",
       "      <td>NaN</td>\n",
       "    </tr>\n",
       "  </tbody>\n",
       "</table>\n",
       "</div>"
      ],
      "text/plain": [
       "   id              created_time  \\\n",
       "0   0  2014-10-02T19:11:02+0000   \n",
       "1   1  2013-05-05T14:40:24+0000   \n",
       "2   2  2011-09-08T09:51:35+0000   \n",
       "3   3  2015-06-19T03:45:42+0000   \n",
       "4   4  2012-01-15T02:18:13+0000   \n",
       "5   5  2010-11-27T19:58:18+0000   \n",
       "6   6  2014-04-27T22:31:36+0000   \n",
       "7   7  2012-01-24T05:28:19+0000   \n",
       "8   8  2014-02-09T12:01:13+0000   \n",
       "9   9  2012-05-18T21:06:44+0000   \n",
       "\n",
       "                                             message  story  \n",
       "0  I add \"Drink Beer\" to my weekend to-do list so...    NaN  \n",
       "1  I asked my North Korean friend how it was ther...    NaN  \n",
       "2  Birth control pills should be for men. It make...    NaN  \n",
       "3  I heard Chipotle is offering a new Ravens burr...    NaN  \n",
       "4  Hello Fire Department? Is this Mr. December? I...    NaN  \n",
       "5  Why does everyone want me to come out of my co...    NaN  \n",
       "6  “Can I pet him or will he bite?” is a fun thin...    NaN  \n",
       "7  I find the best way to get rid of headaches is...    NaN  \n",
       "8  You can tell a lot about a woman's mood by her...    NaN  \n",
       "9  Why aren't lawyers sworn to tell the truth alo...    NaN  "
      ]
     },
     "execution_count": 3,
     "metadata": {},
     "output_type": "execute_result"
    }
   ],
   "source": [
    "# Print the first 10 posts\n",
    "posts[:10]"
   ]
  },
  {
   "cell_type": "code",
   "execution_count": 4,
   "metadata": {
    "collapsed": false
   },
   "outputs": [
    {
     "name": "stdout",
     "output_type": "stream",
     "text": [
      "Size of posts:  2000\n"
     ]
    }
   ],
   "source": [
    "print('Size of posts: ', len(posts))"
   ]
  },
  {
   "cell_type": "code",
   "execution_count": 5,
   "metadata": {
    "collapsed": false
   },
   "outputs": [
    {
     "data": {
      "text/html": [
       "<div>\n",
       "<table border=\"1\" class=\"dataframe\">\n",
       "  <thead>\n",
       "    <tr style=\"text-align: right;\">\n",
       "      <th></th>\n",
       "      <th>id</th>\n",
       "      <th>name</th>\n",
       "      <th>type</th>\n",
       "      <th>post</th>\n",
       "    </tr>\n",
       "  </thead>\n",
       "  <tbody>\n",
       "    <tr>\n",
       "      <th>0</th>\n",
       "      <td>b87771f0-b0b8-4126-981e-2ea80a88fd03</td>\n",
       "      <td>Phil Beck</td>\n",
       "      <td>LIKE</td>\n",
       "      <td>0</td>\n",
       "    </tr>\n",
       "    <tr>\n",
       "      <th>1</th>\n",
       "      <td>5cd983d1-163d-47c0-a129-77356ea20403</td>\n",
       "      <td>Sophie Busch</td>\n",
       "      <td>HAHA</td>\n",
       "      <td>0</td>\n",
       "    </tr>\n",
       "    <tr>\n",
       "      <th>2</th>\n",
       "      <td>54103c8f-6597-45ed-aead-67b1da108305</td>\n",
       "      <td>Jamie Böhm</td>\n",
       "      <td>LIKE</td>\n",
       "      <td>0</td>\n",
       "    </tr>\n",
       "    <tr>\n",
       "      <th>3</th>\n",
       "      <td>0a659cce-0eea-471d-ad50-fb079a4575ac</td>\n",
       "      <td>Dieter Zimmermann</td>\n",
       "      <td>LIKE</td>\n",
       "      <td>0</td>\n",
       "    </tr>\n",
       "    <tr>\n",
       "      <th>4</th>\n",
       "      <td>cd32bf3e-a69e-4381-87a4-3b63985dab64</td>\n",
       "      <td>Emil Schumacher</td>\n",
       "      <td>LIKE</td>\n",
       "      <td>0</td>\n",
       "    </tr>\n",
       "  </tbody>\n",
       "</table>\n",
       "</div>"
      ],
      "text/plain": [
       "                                     id               name  type  post\n",
       "0  b87771f0-b0b8-4126-981e-2ea80a88fd03          Phil Beck  LIKE     0\n",
       "1  5cd983d1-163d-47c0-a129-77356ea20403       Sophie Busch  HAHA     0\n",
       "2  54103c8f-6597-45ed-aead-67b1da108305         Jamie Böhm  LIKE     0\n",
       "3  0a659cce-0eea-471d-ad50-fb079a4575ac  Dieter Zimmermann  LIKE     0\n",
       "4  cd32bf3e-a69e-4381-87a4-3b63985dab64    Emil Schumacher  LIKE     0"
      ]
     },
     "execution_count": 5,
     "metadata": {},
     "output_type": "execute_result"
    }
   ],
   "source": [
    "# Print the first few reactions\n",
    "reactions.head()"
   ]
  },
  {
   "cell_type": "code",
   "execution_count": 6,
   "metadata": {
    "collapsed": false
   },
   "outputs": [
    {
     "name": "stdout",
     "output_type": "stream",
     "text": [
      "Size of reactions:  102494\n"
     ]
    }
   ],
   "source": [
    "print('Size of reactions: ', len(reactions))"
   ]
  },
  {
   "cell_type": "markdown",
   "metadata": {},
   "source": [
    "## 2.1 Column Descriptions\n",
    "\n",
    "Starting with Posts, we have the following columns:\n",
    "\n",
    "- **id:** The unique id of the post.\n",
    "- **created_time:** The date/time when the posts has been posted.\n",
    "- **message:** The message of the post.\n",
    "- **story:** The story of the post (e.g. \"John Doe shared a link.\"). This is different than the message.\n",
    "\n",
    "Then for the Reactions we have:\n",
    "\n",
    "- **id:** The unique id of the reaction.\n",
    "- **name:** The name of the person that reacted to your post.\n",
    "- **type:** The type of the reaction (LIKE, LOVE, ANGRY, HAHA,...)\n",
    "- **post:** The id of the post that this reaction is linked to.\n",
    "\n",
    "Note that some posts might have no reactions at all. We will also find out which one."
   ]
  },
  {
   "cell_type": "markdown",
   "metadata": {},
   "source": [
    "# 3. Explore the Data\n",
    "\n",
    "All right, now let's explore the data a little, extract some information and perform some computations."
   ]
  },
  {
   "cell_type": "markdown",
   "metadata": {},
   "source": [
    "## 3.1. How many LIKES, LOVES, HAHA, ANGRY, ...\n",
    "\n",
    "Let's start simple by counting and exploring how many types of reaction we have."
   ]
  },
  {
   "cell_type": "code",
   "execution_count": 7,
   "metadata": {
    "collapsed": false
   },
   "outputs": [
    {
     "data": {
      "text/html": [
       "<div>\n",
       "<table border=\"1\" class=\"dataframe\">\n",
       "  <thead>\n",
       "    <tr style=\"text-align: right;\">\n",
       "      <th></th>\n",
       "      <th>id</th>\n",
       "      <th>name</th>\n",
       "      <th>type</th>\n",
       "      <th>post</th>\n",
       "    </tr>\n",
       "  </thead>\n",
       "  <tbody>\n",
       "    <tr>\n",
       "      <th>0</th>\n",
       "      <td>b87771f0-b0b8-4126-981e-2ea80a88fd03</td>\n",
       "      <td>Phil Beck</td>\n",
       "      <td>LIKE</td>\n",
       "      <td>0</td>\n",
       "    </tr>\n",
       "    <tr>\n",
       "      <th>1</th>\n",
       "      <td>5cd983d1-163d-47c0-a129-77356ea20403</td>\n",
       "      <td>Sophie Busch</td>\n",
       "      <td>HAHA</td>\n",
       "      <td>0</td>\n",
       "    </tr>\n",
       "    <tr>\n",
       "      <th>2</th>\n",
       "      <td>54103c8f-6597-45ed-aead-67b1da108305</td>\n",
       "      <td>Jamie Böhm</td>\n",
       "      <td>LIKE</td>\n",
       "      <td>0</td>\n",
       "    </tr>\n",
       "    <tr>\n",
       "      <th>3</th>\n",
       "      <td>0a659cce-0eea-471d-ad50-fb079a4575ac</td>\n",
       "      <td>Dieter Zimmermann</td>\n",
       "      <td>LIKE</td>\n",
       "      <td>0</td>\n",
       "    </tr>\n",
       "    <tr>\n",
       "      <th>4</th>\n",
       "      <td>cd32bf3e-a69e-4381-87a4-3b63985dab64</td>\n",
       "      <td>Emil Schumacher</td>\n",
       "      <td>LIKE</td>\n",
       "      <td>0</td>\n",
       "    </tr>\n",
       "    <tr>\n",
       "      <th>5</th>\n",
       "      <td>98547ac2-b33c-4cc0-aeb0-2ee0b312b740</td>\n",
       "      <td>Mattis Vogt</td>\n",
       "      <td>LIKE</td>\n",
       "      <td>0</td>\n",
       "    </tr>\n",
       "    <tr>\n",
       "      <th>6</th>\n",
       "      <td>82f15ce8-41b4-4c69-bf27-aea224abcd7a</td>\n",
       "      <td>Dieter Schäfer</td>\n",
       "      <td>LIKE</td>\n",
       "      <td>0</td>\n",
       "    </tr>\n",
       "    <tr>\n",
       "      <th>7</th>\n",
       "      <td>cead0930-0b14-4ba7-8a5e-de605a8d302a</td>\n",
       "      <td>Aaron Jäger</td>\n",
       "      <td>LIKE</td>\n",
       "      <td>0</td>\n",
       "    </tr>\n",
       "    <tr>\n",
       "      <th>8</th>\n",
       "      <td>87fd71e7-afa8-46e4-bc1c-78e175e5a56b</td>\n",
       "      <td>Pia Wagner</td>\n",
       "      <td>LIKE</td>\n",
       "      <td>0</td>\n",
       "    </tr>\n",
       "    <tr>\n",
       "      <th>9</th>\n",
       "      <td>d8c4b046-d1d7-4641-b9d8-64e3cb561888</td>\n",
       "      <td>Lina Huber</td>\n",
       "      <td>HAHA</td>\n",
       "      <td>0</td>\n",
       "    </tr>\n",
       "  </tbody>\n",
       "</table>\n",
       "</div>"
      ],
      "text/plain": [
       "                                     id               name  type  post\n",
       "0  b87771f0-b0b8-4126-981e-2ea80a88fd03          Phil Beck  LIKE     0\n",
       "1  5cd983d1-163d-47c0-a129-77356ea20403       Sophie Busch  HAHA     0\n",
       "2  54103c8f-6597-45ed-aead-67b1da108305         Jamie Böhm  LIKE     0\n",
       "3  0a659cce-0eea-471d-ad50-fb079a4575ac  Dieter Zimmermann  LIKE     0\n",
       "4  cd32bf3e-a69e-4381-87a4-3b63985dab64    Emil Schumacher  LIKE     0\n",
       "5  98547ac2-b33c-4cc0-aeb0-2ee0b312b740        Mattis Vogt  LIKE     0\n",
       "6  82f15ce8-41b4-4c69-bf27-aea224abcd7a     Dieter Schäfer  LIKE     0\n",
       "7  cead0930-0b14-4ba7-8a5e-de605a8d302a        Aaron Jäger  LIKE     0\n",
       "8  87fd71e7-afa8-46e4-bc1c-78e175e5a56b         Pia Wagner  LIKE     0\n",
       "9  d8c4b046-d1d7-4641-b9d8-64e3cb561888         Lina Huber  HAHA     0"
      ]
     },
     "execution_count": 7,
     "metadata": {},
     "output_type": "execute_result"
    }
   ],
   "source": [
    "reactions[:10]"
   ]
  },
  {
   "cell_type": "code",
   "execution_count": 8,
   "metadata": {
    "collapsed": false,
    "scrolled": true
   },
   "outputs": [
    {
     "data": {
      "text/plain": [
       "67604"
      ]
     },
     "execution_count": 8,
     "metadata": {},
     "output_type": "execute_result"
    }
   ],
   "source": [
    "# here we use numpy where request, which means that it returns all reactions that are equal to \"LIKE\"\n",
    "reaction_like = np.where(reactions['type']=='LIKE')\n",
    "\n",
    "# as \"reaction_like\" is an array inside the tuple we need to check the lenght of the tuple in index 0\n",
    "len(reaction_like[0])"
   ]
  },
  {
   "cell_type": "code",
   "execution_count": 21,
   "metadata": {
    "collapsed": false
   },
   "outputs": [
    {
     "data": {
      "text/plain": [
       "0"
      ]
     },
     "execution_count": 21,
     "metadata": {},
     "output_type": "execute_result"
    }
   ],
   "source": [
    "# now lets see how many of the reactions are \"LOVE\"\n",
    "reaction_like = np.where(reactions['type']=='LOVE')\n",
    "\n",
    "# as \"reaction_like\" is an array inside the tuple we need to check the lenght of the tuple in index 0\n",
    "len(reaction_like[0])"
   ]
  },
  {
   "cell_type": "code",
   "execution_count": 22,
   "metadata": {
    "collapsed": false
   },
   "outputs": [
    {
     "data": {
      "text/plain": [
       "19385"
      ]
     },
     "execution_count": 22,
     "metadata": {},
     "output_type": "execute_result"
    }
   ],
   "source": [
    "# now lets see how many of the reactions are \"HAHA\"\n",
    "reaction_like = np.where(reactions['type']=='HAHA')\n",
    "\n",
    "# as \"reaction_like\" is an array inside the tuple we need to check the lenght of the tuple in index 0\n",
    "len(reaction_like[0])"
   ]
  },
  {
   "cell_type": "code",
   "execution_count": 23,
   "metadata": {
    "collapsed": false
   },
   "outputs": [
    {
     "data": {
      "text/plain": [
       "15505"
      ]
     },
     "execution_count": 23,
     "metadata": {},
     "output_type": "execute_result"
    }
   ],
   "source": [
    "# now lets see how many of the reactions are \"ANGRY\"\n",
    "reaction_like = np.where(reactions['type']=='ANGRY')\n",
    "\n",
    "# as \"reaction_like\" is an array inside the tuple we need to check the lenght of the tuple in index 0\n",
    "len(reaction_like[0])"
   ]
  },
  {
   "cell_type": "code",
   "execution_count": 24,
   "metadata": {
    "collapsed": false
   },
   "outputs": [
    {
     "data": {
      "text/plain": [
       "LIKE     67604\n",
       "HAHA     19385\n",
       "ANGRY    15505\n",
       "Name: type, dtype: int64"
      ]
     },
     "execution_count": 24,
     "metadata": {},
     "output_type": "execute_result"
    }
   ],
   "source": [
    "# Print the value_counts of reaction types\n",
    "reactions['type'].value_counts()"
   ]
  },
  {
   "cell_type": "markdown",
   "metadata": {},
   "source": [
    "All right, the numbers are interesting. A plot would be nice too:"
   ]
  },
  {
   "cell_type": "code",
   "execution_count": 25,
   "metadata": {
    "collapsed": false
   },
   "outputs": [
    {
     "data": {
      "image/png": "[encoded data removed]",
      "text/plain": [
       "<matplotlib.figure.Figure at 0x11be0ac88>"
      ]
     },
     "metadata": {},
     "output_type": "display_data"
    }
   ],
   "source": [
    "# Define variable data with the reaction value counts of types\n",
    "data = reactions['type'].value_counts()\n",
    "\n",
    "# Plot the data as pie\n",
    "data.plot(kind='pie', figsize=(10,10))\n",
    "\n",
    "# Set the label on the x-axis\n",
    "plt.xlabel('Total Number of Reactions')\n",
    "\n",
    "# Set the label on the y-axis\n",
    "plt.ylabel('Reaction Type')\n",
    "\n",
    "# Set the title and font size\n",
    "plt.title('Number of Reactions by Type', fontsize=20)\n",
    "\n",
    "# Show the grid\n",
    "plt.grid(True)"
   ]
  },
  {
   "cell_type": "markdown",
   "metadata": {},
   "source": [
    "## 3.2. Who is your Biggest Fan?\n",
    "\n",
    "Let's find out:\n",
    "\n",
    "- Which friend reacted the most to your posts?\n",
    "- Which friend likes your posts the most?\n",
    "- Which friend loves your posts the most?"
   ]
  },
  {
   "cell_type": "markdown",
   "metadata": {},
   "source": [
    "#### 3.2.1. Which friend reacted the most to your posts"
   ]
  },
  {
   "cell_type": "code",
   "execution_count": 26,
   "metadata": {
    "collapsed": false
   },
   "outputs": [
    {
     "data": {
      "text/plain": [
       "Luca Graf           745\n",
       "Liam Graf           745\n",
       "Lina Köhler         739\n",
       "Phil Otto           737\n",
       "Jolina Thiele       735\n",
       "Franziska Kaiser    735\n",
       "Florian Conrad      730\n",
       "Mika Ziegler        721\n",
       "Jonathan Winter     717\n",
       "Tim Bauer           717\n",
       "Name: name, dtype: int64"
      ]
     },
     "execution_count": 26,
     "metadata": {},
     "output_type": "execute_result"
    }
   ],
   "source": [
    "# Easy, let's get the count of rows by name first.\n",
    "reactions_by_name = reactions['name'].value_counts()\n",
    "reactions_by_name[:10]"
   ]
  },
  {
   "cell_type": "code",
   "execution_count": 27,
   "metadata": {
    "collapsed": false
   },
   "outputs": [
    {
     "name": "stdout",
     "output_type": "stream",
     "text": [
      "Luca Graf reacted the most to your posts with 745 reactions.\n"
     ]
    }
   ],
   "source": [
    "# Print the result\n",
    "if len(reactions_by_name) > 0:\n",
    "    max_value = reactions_by_name.max()\n",
    "    max_name = reactions_by_name.idxmax()\n",
    "    print('{} reacted the most to your posts with {} reactions.'.format(max_name, max_value))\n",
    "else:\n",
    "    print('No one reacted to your posts.')"
   ]
  },
  {
   "cell_type": "markdown",
   "metadata": {},
   "source": [
    "#### 3.2.2. Which friend likes your posts the most?"
   ]
  },
  {
   "cell_type": "code",
   "execution_count": 28,
   "metadata": {
    "collapsed": false
   },
   "outputs": [
    {
     "data": {
      "text/plain": [
       "Phil Beck            611\n",
       "Julia Schuster       606\n",
       "Paulina Maier        604\n",
       "Florian Conrad       600\n",
       "Benjamin Kraus       595\n",
       "Malte Schulte        594\n",
       "Julius Schubert      592\n",
       "Dieter Zimmermann    579\n",
       "Anni Möller          578\n",
       "Jannis Ullrich       577\n",
       "Name: name, dtype: int64"
      ]
     },
     "execution_count": 28,
     "metadata": {},
     "output_type": "execute_result"
    }
   ],
   "source": [
    "likes_by_name = reactions[ reactions['type'] == 'LIKE' ]['name'].value_counts()\n",
    "likes_by_name[:10]"
   ]
  },
  {
   "cell_type": "code",
   "execution_count": 29,
   "metadata": {
    "collapsed": false
   },
   "outputs": [
    {
     "name": "stdout",
     "output_type": "stream",
     "text": [
      "Phil Beck likes your posts 611 times.\n"
     ]
    }
   ],
   "source": [
    "# Print the result\n",
    "if len(likes_by_name) > 0:\n",
    "    max_value = likes_by_name.max()\n",
    "    max_name = likes_by_name.idxmax()\n",
    "    print('{} likes your posts {} times.'.format(max_name, max_value))\n",
    "else:\n",
    "    print('No one likes your posts.')"
   ]
  },
  {
   "cell_type": "markdown",
   "metadata": {},
   "source": [
    "#### 3.2.3. Which friend loves your posts the most?"
   ]
  },
  {
   "cell_type": "code",
   "execution_count": 30,
   "metadata": {
    "collapsed": false
   },
   "outputs": [
    {
     "data": {
      "text/plain": [
       "Series([], Name: name, dtype: int64)"
      ]
     },
     "execution_count": 30,
     "metadata": {},
     "output_type": "execute_result"
    }
   ],
   "source": [
    "loves_by_name = reactions[ reactions['type'] == 'LOVE' ]['name'].value_counts()\n",
    "loves_by_name[:10]"
   ]
  },
  {
   "cell_type": "code",
   "execution_count": 31,
   "metadata": {
    "collapsed": false
   },
   "outputs": [
    {
     "name": "stdout",
     "output_type": "stream",
     "text": [
      "No one loves your posts.\n"
     ]
    }
   ],
   "source": [
    "# Print the result\n",
    "if len(loves_by_name) > 0:\n",
    "    max_value = loves_by_name.max()\n",
    "    max_name = loves_by_name.idxmax()\n",
    "    print('{} likes your posts {} times.'.format(max_name, max_value))\n",
    "else:\n",
    "    print('No one loves your posts.')"
   ]
  },
  {
   "cell_type": "markdown",
   "metadata": {},
   "source": [
    "Great! If you want to find out who reacted the most with ANGRY, HAHA or SAD reactions, you can write the code now or even prepare a function."
   ]
  },
  {
   "cell_type": "code",
   "execution_count": 32,
   "metadata": {
    "collapsed": true
   },
   "outputs": [],
   "source": [
    "# Your turn, try a few things out :)\n",
    "\n"
   ]
  },
  {
   "cell_type": "markdown",
   "metadata": {},
   "source": [
    "## 3.3. Did you post things multiple times?\n",
    "\n",
    "Let's just see if you repost some of your messages. Note that this is not really a duplicate that you need to remove, it is just a message that you posted 2+ times over the years."
   ]
  },
  {
   "cell_type": "code",
   "execution_count": 33,
   "metadata": {
    "collapsed": false
   },
   "outputs": [
    {
     "name": "stdout",
     "output_type": "stream",
     "text": [
      "Number of reposts: 267\n"
     ]
    }
   ],
   "source": [
    "print('Number of reposts: {}'.format( posts['message'].duplicated().sum() ))"
   ]
  },
  {
   "cell_type": "code",
   "execution_count": 34,
   "metadata": {
    "collapsed": false
   },
   "outputs": [
    {
     "data": {
      "text/html": [
       "<div>\n",
       "<table border=\"1\" class=\"dataframe\">\n",
       "  <thead>\n",
       "    <tr style=\"text-align: right;\">\n",
       "      <th></th>\n",
       "      <th>id</th>\n",
       "      <th>created_time</th>\n",
       "      <th>message</th>\n",
       "      <th>story</th>\n",
       "    </tr>\n",
       "  </thead>\n",
       "  <tbody>\n",
       "    <tr>\n",
       "      <th>98</th>\n",
       "      <td>98</td>\n",
       "      <td>2016-02-07T17:45:18+0000</td>\n",
       "      <td>I Don't Have a Bad Handwriting. I have my own ...</td>\n",
       "      <td>NaN</td>\n",
       "    </tr>\n",
       "    <tr>\n",
       "      <th>114</th>\n",
       "      <td>114</td>\n",
       "      <td>2011-12-17T20:11:07+0000</td>\n",
       "      <td>Law and Order is just Blue's Clues for adults.</td>\n",
       "      <td>NaN</td>\n",
       "    </tr>\n",
       "    <tr>\n",
       "      <th>144</th>\n",
       "      <td>144</td>\n",
       "      <td>2016-06-13T14:54:58+0000</td>\n",
       "      <td>FACT: Vampires aren't on Tumblr because they c...</td>\n",
       "      <td>NaN</td>\n",
       "    </tr>\n",
       "    <tr>\n",
       "      <th>159</th>\n",
       "      <td>159</td>\n",
       "      <td>2014-07-13T22:21:55+0000</td>\n",
       "      <td>“truth or dare” “Dare” “Order us pizza”</td>\n",
       "      <td>NaN</td>\n",
       "    </tr>\n",
       "    <tr>\n",
       "      <th>229</th>\n",
       "      <td>229</td>\n",
       "      <td>2014-01-16T17:15:37+0000</td>\n",
       "      <td>\"It's cute, but it really doesn't go with my o...</td>\n",
       "      <td>NaN</td>\n",
       "    </tr>\n",
       "    <tr>\n",
       "      <th>246</th>\n",
       "      <td>246</td>\n",
       "      <td>2016-05-21T14:12:15+0000</td>\n",
       "      <td>Of all the lies I've told in my life, \"Just ki...</td>\n",
       "      <td>NaN</td>\n",
       "    </tr>\n",
       "    <tr>\n",
       "      <th>264</th>\n",
       "      <td>264</td>\n",
       "      <td>2011-11-20T06:27:17+0000</td>\n",
       "      <td>If you're walking on sunshine, please adjust y...</td>\n",
       "      <td>NaN</td>\n",
       "    </tr>\n",
       "    <tr>\n",
       "      <th>274</th>\n",
       "      <td>274</td>\n",
       "      <td>2011-11-01T03:36:30+0000</td>\n",
       "      <td>\"Half a Dozen\", because saying \"six\" was just ...</td>\n",
       "      <td>NaN</td>\n",
       "    </tr>\n",
       "    <tr>\n",
       "      <th>288</th>\n",
       "      <td>288</td>\n",
       "      <td>2010-08-21T19:33:52+0000</td>\n",
       "      <td>I don't blame Congress. If I had $600 billion,...</td>\n",
       "      <td>NaN</td>\n",
       "    </tr>\n",
       "    <tr>\n",
       "      <th>325</th>\n",
       "      <td>325</td>\n",
       "      <td>2014-05-21T10:29:56+0000</td>\n",
       "      <td>I wish real life had as many ejection seats as...</td>\n",
       "      <td>NaN</td>\n",
       "    </tr>\n",
       "  </tbody>\n",
       "</table>\n",
       "</div>"
      ],
      "text/plain": [
       "      id              created_time  \\\n",
       "98    98  2016-02-07T17:45:18+0000   \n",
       "114  114  2011-12-17T20:11:07+0000   \n",
       "144  144  2016-06-13T14:54:58+0000   \n",
       "159  159  2014-07-13T22:21:55+0000   \n",
       "229  229  2014-01-16T17:15:37+0000   \n",
       "246  246  2016-05-21T14:12:15+0000   \n",
       "264  264  2011-11-20T06:27:17+0000   \n",
       "274  274  2011-11-01T03:36:30+0000   \n",
       "288  288  2010-08-21T19:33:52+0000   \n",
       "325  325  2014-05-21T10:29:56+0000   \n",
       "\n",
       "                                               message  story  \n",
       "98   I Don't Have a Bad Handwriting. I have my own ...    NaN  \n",
       "114     Law and Order is just Blue's Clues for adults.    NaN  \n",
       "144  FACT: Vampires aren't on Tumblr because they c...    NaN  \n",
       "159            “truth or dare” “Dare” “Order us pizza”    NaN  \n",
       "229  \"It's cute, but it really doesn't go with my o...    NaN  \n",
       "246  Of all the lies I've told in my life, \"Just ki...    NaN  \n",
       "264  If you're walking on sunshine, please adjust y...    NaN  \n",
       "274  \"Half a Dozen\", because saying \"six\" was just ...    NaN  \n",
       "288  I don't blame Congress. If I had $600 billion,...    NaN  \n",
       "325  I wish real life had as many ejection seats as...    NaN  "
      ]
     },
     "execution_count": 34,
     "metadata": {},
     "output_type": "execute_result"
    }
   ],
   "source": [
    "# Let's see a few of those messages:\n",
    "\n",
    "query = posts['message'].duplicated()\n",
    "posts[ query ][:10]"
   ]
  },
  {
   "cell_type": "markdown",
   "metadata": {},
   "source": [
    "# 4. Pre-Processing\n",
    "\n",
    "## 4.1. Duplicates\n",
    "\n",
    "What are duplicates here?\n",
    "\n",
    "For posts, it would be 2 posts at the same time, with the same message and same ID. From how we get the data, we know it is not really possible. \n",
    "\n",
    "Then, removing all posts where the message or story is the same is not a good idea, because, let's say you posted \"Happy New Year\" every year! That's the same message string but on different dates. So for us, we are going to keep everything.\n",
    "\n",
    "For scientific reasons, we are still going to print the number of duplicates:"
   ]
  },
  {
   "cell_type": "code",
   "execution_count": 35,
   "metadata": {
    "collapsed": false
   },
   "outputs": [
    {
     "data": {
      "text/plain": [
       "0"
      ]
     },
     "execution_count": 35,
     "metadata": {},
     "output_type": "execute_result"
    }
   ],
   "source": [
    "# How many 'full' duplicated rows in posts?\n",
    "posts.duplicated().sum()"
   ]
  },
  {
   "cell_type": "code",
   "execution_count": 36,
   "metadata": {
    "collapsed": false
   },
   "outputs": [
    {
     "data": {
      "text/plain": [
       "0"
      ]
     },
     "execution_count": 36,
     "metadata": {},
     "output_type": "execute_result"
    }
   ],
   "source": [
    "# How many 'full' duplicated rows in reactions?\n",
    "reactions.duplicated().sum()"
   ]
  },
  {
   "cell_type": "markdown",
   "metadata": {},
   "source": [
    "## 4.2. Missing Values\n",
    "\n",
    "The same is valid here. Because of the method (Facebook API + Script) that we have used to get the data, we know there are no missing values that would not allow us to process a row.\n",
    "\n",
    "The only detail to remember is that `message` or `story` can be `Nan` (Empty in pandas/numpy). But this is not a big deal, you will see later."
   ]
  },
  {
   "cell_type": "markdown",
   "metadata": {
    "collapsed": true
   },
   "source": [
    "## 4.3. Format Dates\n",
    "\n",
    "Each post has a datetime column. Since it is a string we are going to convert it into a real Python datetime object and then we are going to extract a few date components."
   ]
  },
  {
   "cell_type": "code",
   "execution_count": 37,
   "metadata": {
    "collapsed": false
   },
   "outputs": [
    {
     "data": {
      "text/plain": [
       "0    2014-10-02T19:11:02+0000\n",
       "1    2013-05-05T14:40:24+0000\n",
       "2    2011-09-08T09:51:35+0000\n",
       "3    2015-06-19T03:45:42+0000\n",
       "4    2012-01-15T02:18:13+0000\n",
       "Name: created_time, dtype: object"
      ]
     },
     "execution_count": 37,
     "metadata": {},
     "output_type": "execute_result"
    }
   ],
   "source": [
    "# First, check the format\n",
    "posts['created_time'][:5]"
   ]
  },
  {
   "cell_type": "markdown",
   "metadata": {},
   "source": [
    "Pandas has a function for working with date/time data. It is explained [here](http://pandas.pydata.org/pandas-docs/version/0.19.1/generated/pandas.to_datetime.html).\n",
    "\n",
    "It allows us to convert a string to a real `datetime` object representing the date and time. All we have to do is call the method and give it the format of the date/time."
   ]
  },
  {
   "cell_type": "code",
   "execution_count": 38,
   "metadata": {
    "collapsed": true
   },
   "outputs": [],
   "source": [
    "# Month/Day/Year Hours:Minutes/Seconds\n",
    "datetime_format = '%Y/%m/%dT%H:%M:%S'"
   ]
  },
  {
   "cell_type": "markdown",
   "metadata": {},
   "source": [
    "What we will do, is just override the 'Date/Time' columns with our new data:"
   ]
  },
  {
   "cell_type": "code",
   "execution_count": 39,
   "metadata": {
    "collapsed": false
   },
   "outputs": [],
   "source": [
    "posts['created_time'] = pd.to_datetime( posts['created_time'], format=datetime_format )"
   ]
  },
  {
   "cell_type": "code",
   "execution_count": 40,
   "metadata": {
    "collapsed": false
   },
   "outputs": [
    {
     "data": {
      "text/plain": [
       "0   2014-10-02 19:11:02\n",
       "1   2013-05-05 14:40:24\n",
       "2   2011-09-08 09:51:35\n",
       "3   2015-06-19 03:45:42\n",
       "4   2012-01-15 02:18:13\n",
       "Name: created_time, dtype: datetime64[ns]"
      ]
     },
     "execution_count": 40,
     "metadata": {},
     "output_type": "execute_result"
    }
   ],
   "source": [
    "# Check again. Note that the dtype has changed.\n",
    "posts['created_time'][:5]"
   ]
  },
  {
   "cell_type": "markdown",
   "metadata": {},
   "source": [
    "We can now get the desired components and store it in new columns. To create a new column, you can just define it the same way as you would define a key in a dictionary.\n",
    "\n",
    "This is the power of pandas at work. We don't need to loop. Pandas handle everything for us and fills up every row for our new columns."
   ]
  },
  {
   "cell_type": "code",
   "execution_count": 41,
   "metadata": {
    "collapsed": false
   },
   "outputs": [],
   "source": [
    "posts['DayOfWeekNum'] = posts['created_time'].dt.dayofweek\n",
    "posts['DayOfWeek']    = posts['created_time'].dt.weekday_name\n",
    "posts['MonthDayNum']  = posts['created_time'].dt.day\n",
    "posts['HourOfDay']    = posts['created_time'].dt.hour"
   ]
  },
  {
   "cell_type": "code",
   "execution_count": 42,
   "metadata": {
    "collapsed": false
   },
   "outputs": [
    {
     "data": {
      "text/html": [
       "<div>\n",
       "<table border=\"1\" class=\"dataframe\">\n",
       "  <thead>\n",
       "    <tr style=\"text-align: right;\">\n",
       "      <th></th>\n",
       "      <th>id</th>\n",
       "      <th>created_time</th>\n",
       "      <th>message</th>\n",
       "      <th>story</th>\n",
       "      <th>DayOfWeekNum</th>\n",
       "      <th>DayOfWeek</th>\n",
       "      <th>MonthDayNum</th>\n",
       "      <th>HourOfDay</th>\n",
       "    </tr>\n",
       "  </thead>\n",
       "  <tbody>\n",
       "    <tr>\n",
       "      <th>0</th>\n",
       "      <td>0</td>\n",
       "      <td>2014-10-02 19:11:02</td>\n",
       "      <td>I add \"Drink Beer\" to my weekend to-do list so...</td>\n",
       "      <td>NaN</td>\n",
       "      <td>3</td>\n",
       "      <td>Thursday</td>\n",
       "      <td>2</td>\n",
       "      <td>19</td>\n",
       "    </tr>\n",
       "    <tr>\n",
       "      <th>1</th>\n",
       "      <td>1</td>\n",
       "      <td>2013-05-05 14:40:24</td>\n",
       "      <td>I asked my North Korean friend how it was ther...</td>\n",
       "      <td>NaN</td>\n",
       "      <td>6</td>\n",
       "      <td>Sunday</td>\n",
       "      <td>5</td>\n",
       "      <td>14</td>\n",
       "    </tr>\n",
       "    <tr>\n",
       "      <th>2</th>\n",
       "      <td>2</td>\n",
       "      <td>2011-09-08 09:51:35</td>\n",
       "      <td>Birth control pills should be for men. It make...</td>\n",
       "      <td>NaN</td>\n",
       "      <td>3</td>\n",
       "      <td>Thursday</td>\n",
       "      <td>8</td>\n",
       "      <td>9</td>\n",
       "    </tr>\n",
       "    <tr>\n",
       "      <th>3</th>\n",
       "      <td>3</td>\n",
       "      <td>2015-06-19 03:45:42</td>\n",
       "      <td>I heard Chipotle is offering a new Ravens burr...</td>\n",
       "      <td>NaN</td>\n",
       "      <td>4</td>\n",
       "      <td>Friday</td>\n",
       "      <td>19</td>\n",
       "      <td>3</td>\n",
       "    </tr>\n",
       "    <tr>\n",
       "      <th>4</th>\n",
       "      <td>4</td>\n",
       "      <td>2012-01-15 02:18:13</td>\n",
       "      <td>Hello Fire Department? Is this Mr. December? I...</td>\n",
       "      <td>NaN</td>\n",
       "      <td>6</td>\n",
       "      <td>Sunday</td>\n",
       "      <td>15</td>\n",
       "      <td>2</td>\n",
       "    </tr>\n",
       "  </tbody>\n",
       "</table>\n",
       "</div>"
      ],
      "text/plain": [
       "   id        created_time                                            message  \\\n",
       "0   0 2014-10-02 19:11:02  I add \"Drink Beer\" to my weekend to-do list so...   \n",
       "1   1 2013-05-05 14:40:24  I asked my North Korean friend how it was ther...   \n",
       "2   2 2011-09-08 09:51:35  Birth control pills should be for men. It make...   \n",
       "3   3 2015-06-19 03:45:42  I heard Chipotle is offering a new Ravens burr...   \n",
       "4   4 2012-01-15 02:18:13  Hello Fire Department? Is this Mr. December? I...   \n",
       "\n",
       "   story  DayOfWeekNum DayOfWeek  MonthDayNum  HourOfDay  \n",
       "0    NaN             3  Thursday            2         19  \n",
       "1    NaN             6    Sunday            5         14  \n",
       "2    NaN             3  Thursday            8          9  \n",
       "3    NaN             4    Friday           19          3  \n",
       "4    NaN             6    Sunday           15          2  "
      ]
     },
     "execution_count": 42,
     "metadata": {},
     "output_type": "execute_result"
    }
   ],
   "source": [
    "# checking what do we have now in our database\n",
    "posts.head()"
   ]
  },
  {
   "cell_type": "markdown",
   "metadata": {},
   "source": [
    "Great, now we are readz to plot some intersting things."
   ]
  },
  {
   "cell_type": "markdown",
   "metadata": {},
   "source": [
    "# 5. Advanced Exploration\n",
    "\n",
    "Let's go ahead and plot the posts per hour and find out what are the times you post the most things.\n",
    "\n",
    "Then, we are going to see what day of the week you are the most active too.\n",
    "\n",
    "And at last, we are going to find out, what words can give you the most reactions!"
   ]
  },
  {
   "cell_type": "markdown",
   "metadata": {},
   "source": [
    "## 5.1. Posts per Hour\n",
    "\n",
    "To create the plot, we are going to learn about pivot tables. We could achieve something similar with the value_counts() but in this case, it is cleaner with this method. You can read up [here](http://pbpython.com/pandas-pivot-table-explained.html) a really nice introduction."
   ]
  },
  {
   "cell_type": "code",
   "execution_count": 43,
   "metadata": {
    "collapsed": false
   },
   "outputs": [
    {
     "name": "stdout",
     "output_type": "stream",
     "text": [
      "HourOfDay\n",
      "0      79\n",
      "1      94\n",
      "2      80\n",
      "3      78\n",
      "4      74\n",
      "5      83\n",
      "6      77\n",
      "7     107\n",
      "8      83\n",
      "9      95\n",
      "10     80\n",
      "11     76\n",
      "12     88\n",
      "13     77\n",
      "14     94\n",
      "15     73\n",
      "16     71\n",
      "17     80\n",
      "18     82\n",
      "19     94\n",
      "20     81\n",
      "21     71\n",
      "22     88\n",
      "23     95\n",
      "Name: message, dtype: int64\n"
     ]
    }
   ],
   "source": [
    "# Create a pivot table, taking all unique HourOfDay values, and counting the number of messages.\n",
    "# The aggregate function is count.\n",
    "post_hour = posts.pivot_table(index=['HourOfDay'],\n",
    "                                 values='message',\n",
    "                                 aggfunc='count')\n",
    "\n",
    "# See the result.\n",
    "print(post_hour)"
   ]
  },
  {
   "cell_type": "code",
   "execution_count": 44,
   "metadata": {
    "collapsed": false
   },
   "outputs": [
    {
     "data": {
      "image/png": "[encoded data removed]",
      "text/plain": [
       "<matplotlib.figure.Figure at 0x119c6ee48>"
      ]
     },
     "metadata": {},
     "output_type": "display_data"
    }
   ],
   "source": [
    "# Let's plot the things\n",
    "\n",
    "post_hour.plot(kind='bar', figsize=(15,6), alpha=0.5)\n",
    "\n",
    "# Set the label on the x-axis\n",
    "plt.xlabel('Hours of the day')\n",
    "\n",
    "# Set the label on the y-axis\n",
    "plt.ylabel('Total Posts')\n",
    "\n",
    "# Set the title and font size\n",
    "plt.title('Posts by Hour', fontsize=20)\n",
    "\n",
    "# Show the grid\n",
    "plt.grid(True)"
   ]
  },
  {
   "cell_type": "markdown",
   "metadata": {},
   "source": [
    "## 5.2 Posts by Day of Week\n",
    "\n",
    "We do the same for the day of the week, the steps are the same, first we make the pivot table, then we plot."
   ]
  },
  {
   "cell_type": "code",
   "execution_count": 45,
   "metadata": {
    "collapsed": false
   },
   "outputs": [
    {
     "name": "stdout",
     "output_type": "stream",
     "text": [
      "DayOfWeekNum  DayOfWeek\n",
      "0             Monday       278\n",
      "1             Tuesday      296\n",
      "2             Wednesday    289\n",
      "3             Thursday     269\n",
      "4             Friday       291\n",
      "5             Saturday     303\n",
      "6             Sunday       274\n",
      "Name: message, dtype: int64\n"
     ]
    }
   ],
   "source": [
    "# 1. Create the pivot table.\n",
    "post_weekdays = posts.pivot_table(index=['DayOfWeekNum','DayOfWeek'],\n",
    "                                     values='message',\n",
    "                                     aggfunc='count')\n",
    "\n",
    "# Note that this time, it is order by DayOfWeekNum, which is prefered for us.\n",
    "print(post_weekdays)"
   ]
  },
  {
   "cell_type": "code",
   "execution_count": 46,
   "metadata": {
    "collapsed": false
   },
   "outputs": [
    {
     "data": {
      "image/png": "[encoded data removed]",
      "text/plain": [
       "<matplotlib.figure.Figure at 0x119b75978>"
      ]
     },
     "metadata": {},
     "output_type": "display_data"
    }
   ],
   "source": [
    "# Let's plot the data at a bar chart. Give the plot a width of 10 and height of 6. Make the bars 50% transparent.\n",
    "post_weekdays.plot(kind='bar', figsize=(10,6), alpha=0.5)\n",
    "\n",
    "# Set the label on the x-axis\n",
    "plt.xlabel('Weekdays')\n",
    "\n",
    "# Set the label on the y-axis\n",
    "plt.ylabel('Total Posts')\n",
    "\n",
    "# Set the title and font size\n",
    "plt.title('Posts by Week Day', fontsize=20)\n",
    "\n",
    "# Show the grid\n",
    "plt.grid(True)"
   ]
  },
  {
   "cell_type": "markdown",
   "metadata": {
    "collapsed": true
   },
   "source": [
    "## 5.3. Words That Give The Most Reactions\n",
    "\n",
    "Now, we are going to find out and maybe predict what words you should be using in your posts in order to generate the most number of reactions. For this we need to do a few things:\n",
    "\n",
    "1. Posts and Reactions are in 2 seperate files / databases, we need to merge them in some way.\n",
    "2. Message or Story are long texts, so we need to process the text and, for example, remove all special characters and split by words.\n",
    "\n",
    "In order words, the goal is to have, for each row, the list of words and the number of reactions, then we could find a way to get a ratio of number of reaction per word for example."
   ]
  },
  {
   "cell_type": "markdown",
   "metadata": {},
   "source": [
    "### 5.3.1. Add Number of Reactions to Posts Data\n",
    "\n",
    "Let's start by counting the number of reactions for each posts and store that value in a new columns, we want to build something like this:\n",
    "\n",
    "|id|message|n_reactions|n_like|n_haha|...|\n",
    "|----|----|----|----|----|----|\n",
    "|1|M1|10|5|5|...|\n",
    "|2|M2|4|0|2|...|\n",
    "|3|M3|30|29|2|...|\n",
    "|4|M4|120|67|29|...|"
   ]
  },
  {
   "cell_type": "code",
   "execution_count": 47,
   "metadata": {
    "collapsed": false
   },
   "outputs": [],
   "source": [
    "# First, we can create a pivot table where we index the post and type and use count as aggregate function\n",
    "reaction_pt = reactions.pivot_table(index=['post'], # We index by Posts\n",
    "                                     values='name', # This is not important, just a columns that is not named here\n",
    "                                     aggfunc='count', # Aggregate by counting\n",
    "                                     columns=['type'], # Make columns by Type\n",
    "                                     fill_value=0, # Fill up 0 where rows don't have any values\n",
    "                                     margins=True # Add a column \"All\" that is the total\n",
    "                                   )"
   ]
  },
  {
   "cell_type": "code",
   "execution_count": 48,
   "metadata": {
    "collapsed": false
   },
   "outputs": [
    {
     "data": {
      "text/html": [
       "<div>\n",
       "<table border=\"1\" class=\"dataframe\">\n",
       "  <thead>\n",
       "    <tr style=\"text-align: right;\">\n",
       "      <th>type</th>\n",
       "      <th>ANGRY</th>\n",
       "      <th>HAHA</th>\n",
       "      <th>LIKE</th>\n",
       "      <th>All</th>\n",
       "    </tr>\n",
       "    <tr>\n",
       "      <th>post</th>\n",
       "      <th></th>\n",
       "      <th></th>\n",
       "      <th></th>\n",
       "      <th></th>\n",
       "    </tr>\n",
       "  </thead>\n",
       "  <tbody>\n",
       "    <tr>\n",
       "      <th>0</th>\n",
       "      <td>0.0</td>\n",
       "      <td>7.0</td>\n",
       "      <td>37.0</td>\n",
       "      <td>44.0</td>\n",
       "    </tr>\n",
       "    <tr>\n",
       "      <th>1</th>\n",
       "      <td>14.0</td>\n",
       "      <td>4.0</td>\n",
       "      <td>22.0</td>\n",
       "      <td>40.0</td>\n",
       "    </tr>\n",
       "    <tr>\n",
       "      <th>2</th>\n",
       "      <td>14.0</td>\n",
       "      <td>8.0</td>\n",
       "      <td>23.0</td>\n",
       "      <td>45.0</td>\n",
       "    </tr>\n",
       "    <tr>\n",
       "      <th>3</th>\n",
       "      <td>0.0</td>\n",
       "      <td>6.0</td>\n",
       "      <td>34.0</td>\n",
       "      <td>40.0</td>\n",
       "    </tr>\n",
       "    <tr>\n",
       "      <th>4</th>\n",
       "      <td>43.0</td>\n",
       "      <td>13.0</td>\n",
       "      <td>56.0</td>\n",
       "      <td>112.0</td>\n",
       "    </tr>\n",
       "    <tr>\n",
       "      <th>5</th>\n",
       "      <td>0.0</td>\n",
       "      <td>17.0</td>\n",
       "      <td>51.0</td>\n",
       "      <td>68.0</td>\n",
       "    </tr>\n",
       "    <tr>\n",
       "      <th>6</th>\n",
       "      <td>0.0</td>\n",
       "      <td>13.0</td>\n",
       "      <td>42.0</td>\n",
       "      <td>55.0</td>\n",
       "    </tr>\n",
       "    <tr>\n",
       "      <th>7</th>\n",
       "      <td>22.0</td>\n",
       "      <td>15.0</td>\n",
       "      <td>33.0</td>\n",
       "      <td>70.0</td>\n",
       "    </tr>\n",
       "    <tr>\n",
       "      <th>8</th>\n",
       "      <td>16.0</td>\n",
       "      <td>12.0</td>\n",
       "      <td>21.0</td>\n",
       "      <td>49.0</td>\n",
       "    </tr>\n",
       "    <tr>\n",
       "      <th>9</th>\n",
       "      <td>0.0</td>\n",
       "      <td>3.0</td>\n",
       "      <td>21.0</td>\n",
       "      <td>24.0</td>\n",
       "    </tr>\n",
       "  </tbody>\n",
       "</table>\n",
       "</div>"
      ],
      "text/plain": [
       "type  ANGRY  HAHA  LIKE    All\n",
       "post                          \n",
       "0       0.0   7.0  37.0   44.0\n",
       "1      14.0   4.0  22.0   40.0\n",
       "2      14.0   8.0  23.0   45.0\n",
       "3       0.0   6.0  34.0   40.0\n",
       "4      43.0  13.0  56.0  112.0\n",
       "5       0.0  17.0  51.0   68.0\n",
       "6       0.0  13.0  42.0   55.0\n",
       "7      22.0  15.0  33.0   70.0\n",
       "8      16.0  12.0  21.0   49.0\n",
       "9       0.0   3.0  21.0   24.0"
      ]
     },
     "execution_count": 48,
     "metadata": {},
     "output_type": "execute_result"
    }
   ],
   "source": [
    "# The result is exactly what we want\n",
    "reaction_pt.head(10)"
   ]
  },
  {
   "cell_type": "markdown",
   "metadata": {},
   "source": [
    "All right, we are nearly done with this pre-processing. Now we are going to be a little creative.\n",
    "\n",
    "We will create the new columns `n_reactions`, `n_like`, `n_haha` and `n_angry` by using the `apply()` function.\n",
    "So, we are going to define a function that will get the reaction from the `reaction_pt` pivot table based on the post_id. If the post has no reactions, meaning, it is not in the table, then we just add 0.\n",
    "\n",
    "**Important:** This is very little code but it is doing a loooot, so take the time to really understand every parts."
   ]
  },
  {
   "cell_type": "code",
   "execution_count": 49,
   "metadata": {
    "collapsed": false
   },
   "outputs": [
    {
     "name": "stdout",
     "output_type": "stream",
     "text": [
      "Item at index 0: type\n",
      "ANGRY     0.0\n",
      "HAHA      7.0\n",
      "LIKE     37.0\n",
      "All      44.0\n",
      "Name: 0, dtype: float64\n",
      "Reaction LIKE for item at index 0: 37.0\n"
     ]
    }
   ],
   "source": [
    "# Example: This is how you get the item by the index.\n",
    "print('Item at index 0:', reaction_pt.loc[0])\n",
    "print('Reaction LIKE for item at index 0:', reaction_pt.loc[0]['LIKE'])"
   ]
  },
  {
   "cell_type": "code",
   "execution_count": 50,
   "metadata": {
    "collapsed": true
   },
   "outputs": [],
   "source": [
    "# We define our function:\n",
    "def get_reaction(post_id, reaction):\n",
    "    ''' Get the reaction for the post id from the reactions pivot table.\n",
    "    Return 0 if post_id is not found.\n",
    "    '''\n",
    "    try:\n",
    "        return reaction_pt.loc[post_id][reaction]\n",
    "    except:\n",
    "        return 0"
   ]
  },
  {
   "cell_type": "code",
   "execution_count": 51,
   "metadata": {
    "collapsed": false
   },
   "outputs": [
    {
     "name": "stdout",
     "output_type": "stream",
     "text": [
      "Processing n_reactions...\n",
      "Processing n_like...\n",
      "Processing n_love...\n",
      "Processing n_haha...\n",
      "Processing n_sad...\n",
      "Processing n_wow...\n",
      "Processing n_angry...\n",
      "All Done.\n"
     ]
    }
   ],
   "source": [
    "# We call our function in the apply using a lambda expression, x is the post_id\n",
    "\n",
    "print('Processing n_reactions...')\n",
    "posts['n_reactions'] = posts['id'].apply( lambda x : get_reaction(x, 'All') )\n",
    "\n",
    "print('Processing n_like...')\n",
    "posts['n_like'] = posts['id'].apply( lambda x : get_reaction(x, 'LIKE') )\n",
    "\n",
    "print('Processing n_love...')\n",
    "posts['n_love'] = posts['id'].apply( lambda x : get_reaction(x, 'LOVE') )\n",
    "\n",
    "print('Processing n_haha...')\n",
    "posts['n_haha'] = posts['id'].apply( lambda x : get_reaction(x, 'HAHA') )\n",
    "\n",
    "print('Processing n_sad...')\n",
    "posts['n_sad'] = posts['id'].apply( lambda x : get_reaction(x, 'SAD') )\n",
    "\n",
    "print('Processing n_wow...')\n",
    "posts['n_wow'] = posts['id'].apply( lambda x : get_reaction(x, 'WOW') )\n",
    "\n",
    "print('Processing n_angry...')\n",
    "posts['n_angry'] = posts['id'].apply( lambda x : get_reaction(x, 'ANGRY') )\n",
    "\n",
    "print('All Done.')"
   ]
  },
  {
   "cell_type": "code",
   "execution_count": 52,
   "metadata": {
    "collapsed": false
   },
   "outputs": [
    {
     "data": {
      "text/html": [
       "<div>\n",
       "<table border=\"1\" class=\"dataframe\">\n",
       "  <thead>\n",
       "    <tr style=\"text-align: right;\">\n",
       "      <th></th>\n",
       "      <th>id</th>\n",
       "      <th>created_time</th>\n",
       "      <th>message</th>\n",
       "      <th>story</th>\n",
       "      <th>DayOfWeekNum</th>\n",
       "      <th>DayOfWeek</th>\n",
       "      <th>MonthDayNum</th>\n",
       "      <th>HourOfDay</th>\n",
       "      <th>n_reactions</th>\n",
       "      <th>n_like</th>\n",
       "      <th>n_love</th>\n",
       "      <th>n_haha</th>\n",
       "      <th>n_sad</th>\n",
       "      <th>n_wow</th>\n",
       "      <th>n_angry</th>\n",
       "    </tr>\n",
       "  </thead>\n",
       "  <tbody>\n",
       "    <tr>\n",
       "      <th>0</th>\n",
       "      <td>0</td>\n",
       "      <td>2014-10-02 19:11:02</td>\n",
       "      <td>I add \"Drink Beer\" to my weekend to-do list so...</td>\n",
       "      <td>NaN</td>\n",
       "      <td>3</td>\n",
       "      <td>Thursday</td>\n",
       "      <td>2</td>\n",
       "      <td>19</td>\n",
       "      <td>44.0</td>\n",
       "      <td>37.0</td>\n",
       "      <td>0</td>\n",
       "      <td>7.0</td>\n",
       "      <td>0</td>\n",
       "      <td>0</td>\n",
       "      <td>0.0</td>\n",
       "    </tr>\n",
       "    <tr>\n",
       "      <th>1</th>\n",
       "      <td>1</td>\n",
       "      <td>2013-05-05 14:40:24</td>\n",
       "      <td>I asked my North Korean friend how it was ther...</td>\n",
       "      <td>NaN</td>\n",
       "      <td>6</td>\n",
       "      <td>Sunday</td>\n",
       "      <td>5</td>\n",
       "      <td>14</td>\n",
       "      <td>40.0</td>\n",
       "      <td>22.0</td>\n",
       "      <td>0</td>\n",
       "      <td>4.0</td>\n",
       "      <td>0</td>\n",
       "      <td>0</td>\n",
       "      <td>14.0</td>\n",
       "    </tr>\n",
       "    <tr>\n",
       "      <th>2</th>\n",
       "      <td>2</td>\n",
       "      <td>2011-09-08 09:51:35</td>\n",
       "      <td>Birth control pills should be for men. It make...</td>\n",
       "      <td>NaN</td>\n",
       "      <td>3</td>\n",
       "      <td>Thursday</td>\n",
       "      <td>8</td>\n",
       "      <td>9</td>\n",
       "      <td>45.0</td>\n",
       "      <td>23.0</td>\n",
       "      <td>0</td>\n",
       "      <td>8.0</td>\n",
       "      <td>0</td>\n",
       "      <td>0</td>\n",
       "      <td>14.0</td>\n",
       "    </tr>\n",
       "    <tr>\n",
       "      <th>3</th>\n",
       "      <td>3</td>\n",
       "      <td>2015-06-19 03:45:42</td>\n",
       "      <td>I heard Chipotle is offering a new Ravens burr...</td>\n",
       "      <td>NaN</td>\n",
       "      <td>4</td>\n",
       "      <td>Friday</td>\n",
       "      <td>19</td>\n",
       "      <td>3</td>\n",
       "      <td>40.0</td>\n",
       "      <td>34.0</td>\n",
       "      <td>0</td>\n",
       "      <td>6.0</td>\n",
       "      <td>0</td>\n",
       "      <td>0</td>\n",
       "      <td>0.0</td>\n",
       "    </tr>\n",
       "    <tr>\n",
       "      <th>4</th>\n",
       "      <td>4</td>\n",
       "      <td>2012-01-15 02:18:13</td>\n",
       "      <td>Hello Fire Department? Is this Mr. December? I...</td>\n",
       "      <td>NaN</td>\n",
       "      <td>6</td>\n",
       "      <td>Sunday</td>\n",
       "      <td>15</td>\n",
       "      <td>2</td>\n",
       "      <td>112.0</td>\n",
       "      <td>56.0</td>\n",
       "      <td>0</td>\n",
       "      <td>13.0</td>\n",
       "      <td>0</td>\n",
       "      <td>0</td>\n",
       "      <td>43.0</td>\n",
       "    </tr>\n",
       "    <tr>\n",
       "      <th>5</th>\n",
       "      <td>5</td>\n",
       "      <td>2010-11-27 19:58:18</td>\n",
       "      <td>Why does everyone want me to come out of my co...</td>\n",
       "      <td>NaN</td>\n",
       "      <td>5</td>\n",
       "      <td>Saturday</td>\n",
       "      <td>27</td>\n",
       "      <td>19</td>\n",
       "      <td>68.0</td>\n",
       "      <td>51.0</td>\n",
       "      <td>0</td>\n",
       "      <td>17.0</td>\n",
       "      <td>0</td>\n",
       "      <td>0</td>\n",
       "      <td>0.0</td>\n",
       "    </tr>\n",
       "    <tr>\n",
       "      <th>6</th>\n",
       "      <td>6</td>\n",
       "      <td>2014-04-27 22:31:36</td>\n",
       "      <td>“Can I pet him or will he bite?” is a fun thin...</td>\n",
       "      <td>NaN</td>\n",
       "      <td>6</td>\n",
       "      <td>Sunday</td>\n",
       "      <td>27</td>\n",
       "      <td>22</td>\n",
       "      <td>55.0</td>\n",
       "      <td>42.0</td>\n",
       "      <td>0</td>\n",
       "      <td>13.0</td>\n",
       "      <td>0</td>\n",
       "      <td>0</td>\n",
       "      <td>0.0</td>\n",
       "    </tr>\n",
       "    <tr>\n",
       "      <th>7</th>\n",
       "      <td>7</td>\n",
       "      <td>2012-01-24 05:28:19</td>\n",
       "      <td>I find the best way to get rid of headaches is...</td>\n",
       "      <td>NaN</td>\n",
       "      <td>1</td>\n",
       "      <td>Tuesday</td>\n",
       "      <td>24</td>\n",
       "      <td>5</td>\n",
       "      <td>70.0</td>\n",
       "      <td>33.0</td>\n",
       "      <td>0</td>\n",
       "      <td>15.0</td>\n",
       "      <td>0</td>\n",
       "      <td>0</td>\n",
       "      <td>22.0</td>\n",
       "    </tr>\n",
       "    <tr>\n",
       "      <th>8</th>\n",
       "      <td>8</td>\n",
       "      <td>2014-02-09 12:01:13</td>\n",
       "      <td>You can tell a lot about a woman's mood by her...</td>\n",
       "      <td>NaN</td>\n",
       "      <td>6</td>\n",
       "      <td>Sunday</td>\n",
       "      <td>9</td>\n",
       "      <td>12</td>\n",
       "      <td>49.0</td>\n",
       "      <td>21.0</td>\n",
       "      <td>0</td>\n",
       "      <td>12.0</td>\n",
       "      <td>0</td>\n",
       "      <td>0</td>\n",
       "      <td>16.0</td>\n",
       "    </tr>\n",
       "    <tr>\n",
       "      <th>9</th>\n",
       "      <td>9</td>\n",
       "      <td>2012-05-18 21:06:44</td>\n",
       "      <td>Why aren't lawyers sworn to tell the truth alo...</td>\n",
       "      <td>NaN</td>\n",
       "      <td>4</td>\n",
       "      <td>Friday</td>\n",
       "      <td>18</td>\n",
       "      <td>21</td>\n",
       "      <td>24.0</td>\n",
       "      <td>21.0</td>\n",
       "      <td>0</td>\n",
       "      <td>3.0</td>\n",
       "      <td>0</td>\n",
       "      <td>0</td>\n",
       "      <td>0.0</td>\n",
       "    </tr>\n",
       "  </tbody>\n",
       "</table>\n",
       "</div>"
      ],
      "text/plain": [
       "   id        created_time                                            message  \\\n",
       "0   0 2014-10-02 19:11:02  I add \"Drink Beer\" to my weekend to-do list so...   \n",
       "1   1 2013-05-05 14:40:24  I asked my North Korean friend how it was ther...   \n",
       "2   2 2011-09-08 09:51:35  Birth control pills should be for men. It make...   \n",
       "3   3 2015-06-19 03:45:42  I heard Chipotle is offering a new Ravens burr...   \n",
       "4   4 2012-01-15 02:18:13  Hello Fire Department? Is this Mr. December? I...   \n",
       "5   5 2010-11-27 19:58:18  Why does everyone want me to come out of my co...   \n",
       "6   6 2014-04-27 22:31:36  “Can I pet him or will he bite?” is a fun thin...   \n",
       "7   7 2012-01-24 05:28:19  I find the best way to get rid of headaches is...   \n",
       "8   8 2014-02-09 12:01:13  You can tell a lot about a woman's mood by her...   \n",
       "9   9 2012-05-18 21:06:44  Why aren't lawyers sworn to tell the truth alo...   \n",
       "\n",
       "   story  DayOfWeekNum DayOfWeek  MonthDayNum  HourOfDay  n_reactions  n_like  \\\n",
       "0    NaN             3  Thursday            2         19         44.0    37.0   \n",
       "1    NaN             6    Sunday            5         14         40.0    22.0   \n",
       "2    NaN             3  Thursday            8          9         45.0    23.0   \n",
       "3    NaN             4    Friday           19          3         40.0    34.0   \n",
       "4    NaN             6    Sunday           15          2        112.0    56.0   \n",
       "5    NaN             5  Saturday           27         19         68.0    51.0   \n",
       "6    NaN             6    Sunday           27         22         55.0    42.0   \n",
       "7    NaN             1   Tuesday           24          5         70.0    33.0   \n",
       "8    NaN             6    Sunday            9         12         49.0    21.0   \n",
       "9    NaN             4    Friday           18         21         24.0    21.0   \n",
       "\n",
       "   n_love  n_haha  n_sad  n_wow  n_angry  \n",
       "0       0     7.0      0      0      0.0  \n",
       "1       0     4.0      0      0     14.0  \n",
       "2       0     8.0      0      0     14.0  \n",
       "3       0     6.0      0      0      0.0  \n",
       "4       0    13.0      0      0     43.0  \n",
       "5       0    17.0      0      0      0.0  \n",
       "6       0    13.0      0      0      0.0  \n",
       "7       0    15.0      0      0     22.0  \n",
       "8       0    12.0      0      0     16.0  \n",
       "9       0     3.0      0      0      0.0  "
      ]
     },
     "execution_count": 52,
     "metadata": {},
     "output_type": "execute_result"
    }
   ],
   "source": [
    "# Print the first 10 posts\n",
    "posts[:10]"
   ]
  },
  {
   "cell_type": "markdown",
   "metadata": {},
   "source": [
    "Great! Ready for the next step.\n",
    "\n",
    "### 5.3.2. Text-Processing on Message Column\n",
    "\n",
    "All right, to be able to work with the message column, which is just text, we must process it. In simple Big Data analytics, this often means that we start by splitting the text into a list of words, getting rid of everything we don't need such as special symbols and stop words.\n",
    "\n",
    "Why? So that we are able to map specific words to, for example, the number of likes. \n",
    "\n",
    "Does talking about your dog or cat gives you more like than complaining about Mondays? \n",
    "\n",
    "Then, based on a new message, how many likes could you expect? This is the kind of analysis that we can do, once the text data is transformed.\n",
    "\n",
    "I recommend that you also read [this tutorial](https://www.kaggle.com/c/word2vec-nlp-tutorial/details/part-1-for-beginners-bag-of-words). It's a beginner introduction to text analysis techniques. We are going to use certain aspect explained there."
   ]
  },
  {
   "cell_type": "code",
   "execution_count": 53,
   "metadata": {
    "collapsed": false
   },
   "outputs": [
    {
     "data": {
      "text/plain": [
       "0    I add \"Drink Beer\" to my weekend to-do list so...\n",
       "1    I asked my North Korean friend how it was ther...\n",
       "2    Birth control pills should be for men. It make...\n",
       "3    I heard Chipotle is offering a new Ravens burr...\n",
       "4    Hello Fire Department? Is this Mr. December? I...\n",
       "5    Why does everyone want me to come out of my co...\n",
       "6    “Can I pet him or will he bite?” is a fun thin...\n",
       "7    I find the best way to get rid of headaches is...\n",
       "8    You can tell a lot about a woman's mood by her...\n",
       "9    Why aren't lawyers sworn to tell the truth alo...\n",
       "Name: message, dtype: object"
      ]
     },
     "execution_count": 53,
     "metadata": {},
     "output_type": "execute_result"
    }
   ],
   "source": [
    "# Looking at messages\n",
    "posts['message'][:10]"
   ]
  },
  {
   "cell_type": "markdown",
   "metadata": {
    "collapsed": true
   },
   "source": [
    "From the exploration we know that sometimes the message is `NaN` when story is not. For us, we are going to replace all `NaN` with en empty string `\"\"`. What is in the story we are going to ignore it for now, feel free to work on that part for yourself."
   ]
  },
  {
   "cell_type": "code",
   "execution_count": 54,
   "metadata": {
    "collapsed": false
   },
   "outputs": [],
   "source": [
    "# Replace all NaN with empty string \"\"\n",
    "# fillna() return a DataFrame, where all the NaN values has been replaced with another value given\n",
    "posts['message'] = posts['message'].fillna(\"\")"
   ]
  },
  {
   "cell_type": "markdown",
   "metadata": {},
   "source": [
    "Now, we are going to demonstrate each step of the process and then use a function that performs each step for every row.\n",
    "\n",
    "**Steps:**\n",
    "\n",
    "1. Remove certain special symbols.\n",
    "1. Lowercase everthing.\n",
    "1. Split by words.\n",
    "1. Remove english stop words (a, an, is, of, ...)\n",
    "1. Save the result as a simplified paragraph \"word1 word2 word3 ...\"\n",
    "\n",
    "Let's get to work:"
   ]
  },
  {
   "cell_type": "code",
   "execution_count": 55,
   "metadata": {
    "collapsed": false
   },
   "outputs": [
    {
     "data": {
      "text/plain": [
       "'I add \"Drink Beer\" to my weekend to-do list so I know I\\'ll at least get one thing done.'"
      ]
     },
     "execution_count": 55,
     "metadata": {},
     "output_type": "execute_result"
    }
   ],
   "source": [
    "# We will just use the first message:\n",
    "posts['message'].loc[0]"
   ]
  },
  {
   "cell_type": "code",
   "execution_count": 56,
   "metadata": {
    "collapsed": false
   },
   "outputs": [
    {
     "data": {
      "text/plain": [
       "'I add  Drink Beer  to my weekend to do list so I know I ll at least get one thing done '"
      ]
     },
     "execution_count": 56,
     "metadata": {},
     "output_type": "execute_result"
    }
   ],
   "source": [
    "# 1. Remove certain special symbols and replace by a space.\n",
    "import re\n",
    "result = re.sub(\"[.,\\[\\]{}|\\`~\\'\\\"*&^%$@!?+>\\-\\_]\", \" \", posts['message'].loc[0])\n",
    "\n",
    "result"
   ]
  },
  {
   "cell_type": "code",
   "execution_count": 57,
   "metadata": {
    "collapsed": false
   },
   "outputs": [
    {
     "data": {
      "text/plain": [
       "'i add  drink beer  to my weekend to do list so i know i ll at least get one thing done '"
      ]
     },
     "execution_count": 57,
     "metadata": {},
     "output_type": "execute_result"
    }
   ],
   "source": [
    "# 2. Lowercase everthing.\n",
    "result = result.lower()\n",
    "\n",
    "result"
   ]
  },
  {
   "cell_type": "code",
   "execution_count": 58,
   "metadata": {
    "collapsed": false
   },
   "outputs": [
    {
     "data": {
      "text/plain": [
       "['i',\n",
       " 'add',\n",
       " 'drink',\n",
       " 'beer',\n",
       " 'to',\n",
       " 'my',\n",
       " 'weekend',\n",
       " 'to',\n",
       " 'do',\n",
       " 'list',\n",
       " 'so',\n",
       " 'i',\n",
       " 'know',\n",
       " 'i',\n",
       " 'll',\n",
       " 'at',\n",
       " 'least',\n",
       " 'get',\n",
       " 'one',\n",
       " 'thing',\n",
       " 'done']"
      ]
     },
     "execution_count": 58,
     "metadata": {},
     "output_type": "execute_result"
    }
   ],
   "source": [
    "# 3. Split by words\n",
    "result = result.split()\n",
    "\n",
    "result"
   ]
  },
  {
   "cell_type": "code",
   "execution_count": 3,
   "metadata": {
    "collapsed": false
   },
   "outputs": [],
   "source": [
    "# 4. Remove English stop words\n",
    "\n",
    "# Import NLTK and download the required corpus\n",
    "\n",
    "import nltk"
   ]
  },
  {
   "cell_type": "code",
   "execution_count": null,
   "metadata": {
    "collapsed": true
   },
   "outputs": [],
   "source": [
    "# Only run once for downloading the required corpus\n",
    "nltk.download()"
   ]
  },
  {
   "cell_type": "code",
   "execution_count": null,
   "metadata": {
    "collapsed": true
   },
   "outputs": [],
   "source": [
    "# IF `nltk.download()` DID NOT WORK, YOU CAN USE THIS:\n",
    "english_stopwords = ['i', 'me', 'my', 'myself', 'we', 'our', 'ours', 'ourselves', 'you', 'your', 'yours', 'yourself', 'yourselves', 'he', 'him', 'his', 'himself', 'she', 'her', 'hers', 'herself', 'it', 'its', 'itself', 'they', 'them', 'their', 'theirs', 'themselves', 'what', 'which', 'who', 'whom', 'this', 'that', 'these', 'those', 'am', 'is', 'are', 'was', 'were', 'be', 'been', 'being', 'have', 'has', 'had', 'having', 'do', 'does', 'did', 'doing', 'a', 'an', 'the', 'and', 'but', 'if', 'or', 'because', 'as', 'until', 'while', 'of', 'at', 'by', 'for', 'with', 'about', 'against', 'between', 'into', 'through', 'during', 'before', 'after', 'above', 'below', 'to', 'from', 'up', 'down', 'in', 'out', 'on', 'off', 'over', 'under', 'again', 'further', 'then', 'once', 'here', 'there', 'when', 'where', 'why', 'how', 'all', 'any', 'both', 'each', 'few', 'more', 'most', 'other', 'some', 'such', 'no', 'nor', 'not', 'only', 'own', 'same', 'so', 'than', 'too', 'very', 's', 't', 'can', 'will', 'just', 'don', 'should', 'now', 'd', 'll', 'm', 'o', 're', 've', 'y', 'ain', 'aren', 'couldn', 'didn', 'doesn', 'hadn', 'hasn', 'haven', 'isn', 'ma', 'mightn', 'mustn', 'needn', 'shan', 'shouldn', 'wasn', 'weren', 'won', 'wouldn']\n",
    "german_stopwords = ['aber', 'alle', 'allem', 'allen', 'aller', 'alles', 'als', 'also', 'am', 'an', 'ander', 'andere', 'anderem', 'anderen', 'anderer', 'anderes', 'anderm', 'andern', 'anderr', 'anders', 'auch', 'auf', 'aus', 'bei', 'bin', 'bis', 'bist', 'da', 'damit', 'dann', 'der', 'den', 'des', 'dem', 'die', 'das', 'daß', 'derselbe', 'derselben', 'denselben', 'desselben', 'demselben', 'dieselbe', 'dieselben', 'dasselbe', 'dazu', 'dein', 'deine', 'deinem', 'deinen', 'deiner', 'deines', 'denn', 'derer', 'dessen', 'dich', 'dir', 'du', 'dies', 'diese', 'diesem', 'diesen', 'dieser', 'dieses', 'doch', 'dort', 'durch', 'ein', 'eine', 'einem', 'einen', 'einer', 'eines', 'einig', 'einige', 'einigem', 'einigen', 'einiger', 'einiges', 'einmal', 'er', 'ihn', 'ihm', 'es', 'etwas', 'euer', 'eure', 'eurem', 'euren', 'eurer', 'eures', 'für', 'gegen', 'gewesen', 'hab', 'habe', 'haben', 'hat', 'hatte', 'hatten', 'hier', 'hin', 'hinter', 'ich', 'mich', 'mir', 'ihr', 'ihre', 'ihrem', 'ihren', 'ihrer', 'ihres', 'euch', 'im', 'in', 'indem', 'ins', 'ist', 'jede', 'jedem', 'jeden', 'jeder', 'jedes', 'jene', 'jenem', 'jenen', 'jener', 'jenes', 'jetzt', 'kann', 'kein', 'keine', 'keinem', 'keinen', 'keiner', 'keines', 'können', 'könnte', 'machen', 'man', 'manche', 'manchem', 'manchen', 'mancher', 'manches', 'mein', 'meine', 'meinem', 'meinen', 'meiner', 'meines', 'mit', 'muss', 'musste', 'nach', 'nicht', 'nichts', 'noch', 'nun', 'nur', 'ob', 'oder', 'ohne', 'sehr', 'sein', 'seine', 'seinem', 'seinen', 'seiner', 'seines', 'selbst', 'sich', 'sie', 'ihnen', 'sind', 'so', 'solche', 'solchem', 'solchen', 'solcher', 'solches', 'soll', 'sollte', 'sondern', 'sonst', 'über', 'um', 'und', 'uns', 'unsere', 'unserem', 'unseren', 'unser', 'unseres', 'unter', 'viel', 'vom', 'von', 'vor', 'während', 'war', 'waren', 'warst', 'was', 'weg', 'weil', 'weiter', 'welche', 'welchem', 'welchen', 'welcher', 'welches', 'wenn', 'werde', 'werden', 'wie', 'wieder', 'will', 'wir', 'wird', 'wirst', 'wo', 'wollen', 'wollte', 'würde', 'würden', 'zu', 'zum', 'zur', 'zwar', 'zwischen']\n",
    "french_stopwords = ['au', 'aux', 'avec', 'ce', 'ces', 'dans', 'de', 'des', 'du', 'elle', 'en', 'et', 'eux', 'il', 'je', 'la', 'le', 'leur', 'lui', 'ma', 'mais', 'me', 'même', 'mes', 'moi', 'mon', 'ne', 'nos', 'notre', 'nous', 'on', 'ou', 'par', 'pas', 'pour', 'qu', 'que', 'qui', 'sa', 'se', 'ses', 'son', 'sur', 'ta', 'te', 'tes', 'toi', 'ton', 'tu', 'un', 'une', 'vos', 'votre', 'vous', 'c', 'd', 'j', 'l', 'à', 'm', 'n', 's', 't', 'y', 'été', 'étée', 'étées', 'étés', 'étant', 'étante', 'étants', 'étantes', 'suis', 'es', 'est', 'sommes', 'êtes', 'sont', 'serai', 'seras', 'sera', 'serons', 'serez', 'seront', 'serais', 'serait', 'serions', 'seriez', 'seraient', 'étais', 'était', 'étions', 'étiez', 'étaient', 'fus', 'fut', 'fûmes', 'fûtes', 'furent', 'sois', 'soit', 'soyons', 'soyez', 'soient', 'fusse', 'fusses', 'fût', 'fussions', 'fussiez', 'fussent', 'ayant', 'ayante', 'ayantes', 'ayants', 'eu', 'eue', 'eues', 'eus', 'ai', 'as', 'avons', 'avez', 'ont', 'aurai', 'auras', 'aura', 'aurons', 'aurez', 'auront', 'aurais', 'aurait', 'aurions', 'auriez', 'auraient', 'avais', 'avait', 'avions', 'aviez', 'avaient', 'eut', 'eûmes', 'eûtes', 'eurent', 'aie', 'aies', 'ait', 'ayons', 'ayez', 'aient', 'eusse', 'eusses', 'eût', 'eussions', 'eussiez', 'eussent']"
   ]
  },
  {
   "cell_type": "code",
   "execution_count": 59,
   "metadata": {
    "collapsed": false
   },
   "outputs": [
    {
     "name": "stdout",
     "output_type": "stream",
     "text": [
      "\n",
      "English Stop Words:\n",
      "['i', 'me', 'my', 'myself', 'we', 'our', 'ours', 'ourselves', 'you', 'your', 'yours', 'yourself', 'yourselves', 'he', 'him', 'his', 'himself', 'she', 'her', 'hers', 'herself', 'it', 'its', 'itself', 'they', 'them', 'their', 'theirs', 'themselves', 'what', 'which', 'who', 'whom', 'this', 'that', 'these', 'those', 'am', 'is', 'are', 'was', 'were', 'be', 'been', 'being', 'have', 'has', 'had', 'having', 'do', 'does', 'did', 'doing', 'a', 'an', 'the', 'and', 'but', 'if', 'or', 'because', 'as', 'until', 'while', 'of', 'at', 'by', 'for', 'with', 'about', 'against', 'between', 'into', 'through', 'during', 'before', 'after', 'above', 'below', 'to', 'from', 'up', 'down', 'in', 'out', 'on', 'off', 'over', 'under', 'again', 'further', 'then', 'once', 'here', 'there', 'when', 'where', 'why', 'how', 'all', 'any', 'both', 'each', 'few', 'more', 'most', 'other', 'some', 'such', 'no', 'nor', 'not', 'only', 'own', 'same', 'so', 'than', 'too', 'very', 's', 't', 'can', 'will', 'just', 'don', 'should', 'now', 'd', 'll', 'm', 'o', 're', 've', 'y', 'ain', 'aren', 'couldn', 'didn', 'doesn', 'hadn', 'hasn', 'haven', 'isn', 'ma', 'mightn', 'mustn', 'needn', 'shan', 'shouldn', 'wasn', 'weren', 'won', 'wouldn']\n",
      "\\German Stop Words:\n",
      "['aber', 'alle', 'allem', 'allen', 'aller', 'alles', 'als', 'also', 'am', 'an', 'ander', 'andere', 'anderem', 'anderen', 'anderer', 'anderes', 'anderm', 'andern', 'anderr', 'anders', 'auch', 'auf', 'aus', 'bei', 'bin', 'bis', 'bist', 'da', 'damit', 'dann', 'der', 'den', 'des', 'dem', 'die', 'das', 'daß', 'derselbe', 'derselben', 'denselben', 'desselben', 'demselben', 'dieselbe', 'dieselben', 'dasselbe', 'dazu', 'dein', 'deine', 'deinem', 'deinen', 'deiner', 'deines', 'denn', 'derer', 'dessen', 'dich', 'dir', 'du', 'dies', 'diese', 'diesem', 'diesen', 'dieser', 'dieses', 'doch', 'dort', 'durch', 'ein', 'eine', 'einem', 'einen', 'einer', 'eines', 'einig', 'einige', 'einigem', 'einigen', 'einiger', 'einiges', 'einmal', 'er', 'ihn', 'ihm', 'es', 'etwas', 'euer', 'eure', 'eurem', 'euren', 'eurer', 'eures', 'für', 'gegen', 'gewesen', 'hab', 'habe', 'haben', 'hat', 'hatte', 'hatten', 'hier', 'hin', 'hinter', 'ich', 'mich', 'mir', 'ihr', 'ihre', 'ihrem', 'ihren', 'ihrer', 'ihres', 'euch', 'im', 'in', 'indem', 'ins', 'ist', 'jede', 'jedem', 'jeden', 'jeder', 'jedes', 'jene', 'jenem', 'jenen', 'jener', 'jenes', 'jetzt', 'kann', 'kein', 'keine', 'keinem', 'keinen', 'keiner', 'keines', 'können', 'könnte', 'machen', 'man', 'manche', 'manchem', 'manchen', 'mancher', 'manches', 'mein', 'meine', 'meinem', 'meinen', 'meiner', 'meines', 'mit', 'muss', 'musste', 'nach', 'nicht', 'nichts', 'noch', 'nun', 'nur', 'ob', 'oder', 'ohne', 'sehr', 'sein', 'seine', 'seinem', 'seinen', 'seiner', 'seines', 'selbst', 'sich', 'sie', 'ihnen', 'sind', 'so', 'solche', 'solchem', 'solchen', 'solcher', 'solches', 'soll', 'sollte', 'sondern', 'sonst', 'über', 'um', 'und', 'uns', 'unsere', 'unserem', 'unseren', 'unser', 'unseres', 'unter', 'viel', 'vom', 'von', 'vor', 'während', 'war', 'waren', 'warst', 'was', 'weg', 'weil', 'weiter', 'welche', 'welchem', 'welchen', 'welcher', 'welches', 'wenn', 'werde', 'werden', 'wie', 'wieder', 'will', 'wir', 'wird', 'wirst', 'wo', 'wollen', 'wollte', 'würde', 'würden', 'zu', 'zum', 'zur', 'zwar', 'zwischen']\n",
      "\n",
      "French Stop Words:\n",
      "['au', 'aux', 'avec', 'ce', 'ces', 'dans', 'de', 'des', 'du', 'elle', 'en', 'et', 'eux', 'il', 'je', 'la', 'le', 'leur', 'lui', 'ma', 'mais', 'me', 'même', 'mes', 'moi', 'mon', 'ne', 'nos', 'notre', 'nous', 'on', 'ou', 'par', 'pas', 'pour', 'qu', 'que', 'qui', 'sa', 'se', 'ses', 'son', 'sur', 'ta', 'te', 'tes', 'toi', 'ton', 'tu', 'un', 'une', 'vos', 'votre', 'vous', 'c', 'd', 'j', 'l', 'à', 'm', 'n', 's', 't', 'y', 'été', 'étée', 'étées', 'étés', 'étant', 'étante', 'étants', 'étantes', 'suis', 'es', 'est', 'sommes', 'êtes', 'sont', 'serai', 'seras', 'sera', 'serons', 'serez', 'seront', 'serais', 'serait', 'serions', 'seriez', 'seraient', 'étais', 'était', 'étions', 'étiez', 'étaient', 'fus', 'fut', 'fûmes', 'fûtes', 'furent', 'sois', 'soit', 'soyons', 'soyez', 'soient', 'fusse', 'fusses', 'fût', 'fussions', 'fussiez', 'fussent', 'ayant', 'ayante', 'ayantes', 'ayants', 'eu', 'eue', 'eues', 'eus', 'ai', 'as', 'avons', 'avez', 'ont', 'aurai', 'auras', 'aura', 'aurons', 'aurez', 'auront', 'aurais', 'aurait', 'aurions', 'auriez', 'auraient', 'avais', 'avait', 'avions', 'aviez', 'avaient', 'eut', 'eûmes', 'eûtes', 'eurent', 'aie', 'aies', 'ait', 'ayons', 'ayez', 'aient', 'eusse', 'eusses', 'eût', 'eussions', 'eussiez', 'eussent']\n"
     ]
    }
   ],
   "source": [
    "# Import the predefined stopwords\n",
    "\n",
    "from nltk.corpus import stopwords\n",
    "\n",
    "english_stopwords = stopwords.words(\"english\")\n",
    "german_stopwords = stopwords.words(\"german\")\n",
    "french_stopwords = stopwords.words(\"french\")\n",
    "\n",
    "print('\\nEnglish Stop Words:')\n",
    "print( english_stopwords )\n",
    "\n",
    "print('\\German Stop Words:')\n",
    "print( german_stopwords )\n",
    "\n",
    "print('\\nFrench Stop Words:')\n",
    "print( french_stopwords )"
   ]
  },
  {
   "cell_type": "code",
   "execution_count": 60,
   "metadata": {
    "collapsed": false
   },
   "outputs": [
    {
     "name": "stdout",
     "output_type": "stream",
     "text": [
      "['add', 'drink', 'beer', 'weekend', 'list', 'know', 'least', 'get', 'one', 'thing', 'done']\n"
     ]
    }
   ],
   "source": [
    "# Remove all elements in the list that are english stopwords\n",
    "result = [w for w in result if not w in english_stopwords]\n",
    "print(result)"
   ]
  },
  {
   "cell_type": "markdown",
   "metadata": {},
   "source": [
    "Great! Note that we make use of many built-in libraries inside Anaconda and that for text processing those techniques can easily be applied to any text that you have. So keep those methods close to you so that you can copy and paste the functions you need.\n",
    "\n",
    "Now let's make a function that will do all those steps and then apply it to every row:"
   ]
  },
  {
   "cell_type": "code",
   "execution_count": 61,
   "metadata": {
    "collapsed": true
   },
   "outputs": [],
   "source": [
    "import re\n",
    "\n",
    "def process_text(raw_text):\n",
    "    # 1. Remove certain special symbols and replace by a space.\n",
    "    text = re.sub(\"[.,\\[\\]{}|\\`~\\'\\\"“”’*&^%$@!?+>\\-\\_]\", \" \", raw_text)\n",
    "\n",
    "    # 2. Lowercase\n",
    "    text = text.lower()\n",
    "    \n",
    "    # 3. Split by words\n",
    "    words = text.split()\n",
    "    \n",
    "    # 4. Remove English stop words\n",
    "    \n",
    "    # Sets are much faster than lists in Python for membership comparisons\n",
    "    stops = set(english_stopwords)\n",
    "    \n",
    "    meaningful_words = [w for w in words if not w in stops]\n",
    "    \n",
    "    # 5. Return the words concantenated with eachother\n",
    "    return( \" \".join( meaningful_words ))"
   ]
  },
  {
   "cell_type": "code",
   "execution_count": 62,
   "metadata": {
    "collapsed": false
   },
   "outputs": [
    {
     "name": "stdout",
     "output_type": "stream",
     "text": [
      "- add drink beer weekend list know least get one thing done\n",
      "- asked north korean friend said complain\n",
      "- birth control pills men makes much sense unload gun shoot bulletproof vest\n",
      "- heard chipotle offering new ravens burrito everything rice\n",
      "- hello fire department mr december stuck tree mean meow\n",
      "- everyone want come comfort zone worked really hard get\n",
      "- pet bite fun thing ask parents keep kid leash\n",
      "- find best way get rid headaches send either rooms outside play\n",
      "- tell lot woman mood hands instance holding gun probably angry\n",
      "- lawyers sworn tell truth along everyone else proceedings\n",
      "- believe love something let go never let hold baby\n",
      "- interest fighting childhood obesity epidemic decided eat halloween candy bought\n",
      "- funny head shoulders becomes head shoulders knees toes run body wash\n",
      "- hate someone answers questions\n",
      "- hate people weirdly spelled common names get mad misspell name misspell parents\n",
      "- spiders web developers happy find bugs\n",
      "- agreed wrong\n",
      "- nothing beats good drum solo steering wheel waiting light turn green\n",
      "- picketing know show\n",
      "- got hammered last night still good sense take cab home problem going return without getting trouble\n",
      "- worry someone already tweeted cure cancer typo sighed moved\n",
      "- anyone else notice disney made hercules ginger could swim soul sucking river styx without dying\n",
      "- studying lot like picking dog crap one likes done\n",
      "- steve jobs born wedlock put adoption birth dropped college changed world excuse\n",
      "- sci fi fans use star wars references real life situations single virgins looking love alderaan places\n",
      "- first succeed try may good advice trust judge want hear\n",
      "- seeing iron man batman really smart super rich really disappointed bill gates\n",
      "- getting kids airport always feels like recreating first 10 minutes home alone\n",
      "- toilet paper lot like money never seem need\n",
      "- want start band called day job play people say quit day job like thanks practice lot\n"
     ]
    }
   ],
   "source": [
    "# Let's try the method for multiple inputs:\n",
    "for message in posts['message'][:30]:\n",
    "    print('- ' + process_text(message) )"
   ]
  },
  {
   "cell_type": "code",
   "execution_count": 63,
   "metadata": {
    "collapsed": true
   },
   "outputs": [],
   "source": [
    "# Now we can apply it to every row and store it in a new column\n",
    "posts['processed_message'] = posts['message'].apply( lambda x : process_text(x) )"
   ]
  },
  {
   "cell_type": "code",
   "execution_count": 64,
   "metadata": {
    "collapsed": false
   },
   "outputs": [
    {
     "data": {
      "text/html": [
       "<div>\n",
       "<table border=\"1\" class=\"dataframe\">\n",
       "  <thead>\n",
       "    <tr style=\"text-align: right;\">\n",
       "      <th></th>\n",
       "      <th>message</th>\n",
       "      <th>processed_message</th>\n",
       "      <th>n_reactions</th>\n",
       "    </tr>\n",
       "  </thead>\n",
       "  <tbody>\n",
       "    <tr>\n",
       "      <th>0</th>\n",
       "      <td>I add \"Drink Beer\" to my weekend to-do list so...</td>\n",
       "      <td>add drink beer weekend list know least get one...</td>\n",
       "      <td>44.0</td>\n",
       "    </tr>\n",
       "    <tr>\n",
       "      <th>1</th>\n",
       "      <td>I asked my North Korean friend how it was ther...</td>\n",
       "      <td>asked north korean friend said complain</td>\n",
       "      <td>40.0</td>\n",
       "    </tr>\n",
       "    <tr>\n",
       "      <th>2</th>\n",
       "      <td>Birth control pills should be for men. It make...</td>\n",
       "      <td>birth control pills men makes much sense unloa...</td>\n",
       "      <td>45.0</td>\n",
       "    </tr>\n",
       "    <tr>\n",
       "      <th>3</th>\n",
       "      <td>I heard Chipotle is offering a new Ravens burr...</td>\n",
       "      <td>heard chipotle offering new ravens burrito eve...</td>\n",
       "      <td>40.0</td>\n",
       "    </tr>\n",
       "    <tr>\n",
       "      <th>4</th>\n",
       "      <td>Hello Fire Department? Is this Mr. December? I...</td>\n",
       "      <td>hello fire department mr december stuck tree m...</td>\n",
       "      <td>112.0</td>\n",
       "    </tr>\n",
       "    <tr>\n",
       "      <th>5</th>\n",
       "      <td>Why does everyone want me to come out of my co...</td>\n",
       "      <td>everyone want come comfort zone worked really ...</td>\n",
       "      <td>68.0</td>\n",
       "    </tr>\n",
       "    <tr>\n",
       "      <th>6</th>\n",
       "      <td>“Can I pet him or will he bite?” is a fun thin...</td>\n",
       "      <td>pet bite fun thing ask parents keep kid leash</td>\n",
       "      <td>55.0</td>\n",
       "    </tr>\n",
       "    <tr>\n",
       "      <th>7</th>\n",
       "      <td>I find the best way to get rid of headaches is...</td>\n",
       "      <td>find best way get rid headaches send either ro...</td>\n",
       "      <td>70.0</td>\n",
       "    </tr>\n",
       "    <tr>\n",
       "      <th>8</th>\n",
       "      <td>You can tell a lot about a woman's mood by her...</td>\n",
       "      <td>tell lot woman mood hands instance holding gun...</td>\n",
       "      <td>49.0</td>\n",
       "    </tr>\n",
       "    <tr>\n",
       "      <th>9</th>\n",
       "      <td>Why aren't lawyers sworn to tell the truth alo...</td>\n",
       "      <td>lawyers sworn tell truth along everyone else p...</td>\n",
       "      <td>24.0</td>\n",
       "    </tr>\n",
       "    <tr>\n",
       "      <th>10</th>\n",
       "      <td>I believe that if you love something, you shou...</td>\n",
       "      <td>believe love something let go never let hold baby</td>\n",
       "      <td>57.0</td>\n",
       "    </tr>\n",
       "    <tr>\n",
       "      <th>11</th>\n",
       "      <td>In the interest of fighting the childhood obes...</td>\n",
       "      <td>interest fighting childhood obesity epidemic d...</td>\n",
       "      <td>25.0</td>\n",
       "    </tr>\n",
       "    <tr>\n",
       "      <th>12</th>\n",
       "      <td>Its funny how head and shoulders becomes head,...</td>\n",
       "      <td>funny head shoulders becomes head shoulders kn...</td>\n",
       "      <td>68.0</td>\n",
       "    </tr>\n",
       "    <tr>\n",
       "      <th>13</th>\n",
       "      <td>Don't you hate it when someone answers their o...</td>\n",
       "      <td>hate someone answers questions</td>\n",
       "      <td>48.0</td>\n",
       "    </tr>\n",
       "    <tr>\n",
       "      <th>14</th>\n",
       "      <td>I hate when people with weirdly spelled common...</td>\n",
       "      <td>hate people weirdly spelled common names get m...</td>\n",
       "      <td>36.0</td>\n",
       "    </tr>\n",
       "    <tr>\n",
       "      <th>15</th>\n",
       "      <td>Spiders are the only web developers that are h...</td>\n",
       "      <td>spiders web developers happy find bugs</td>\n",
       "      <td>80.0</td>\n",
       "    </tr>\n",
       "    <tr>\n",
       "      <th>16</th>\n",
       "      <td>If I agreed with you, we'd both be wrong.</td>\n",
       "      <td>agreed wrong</td>\n",
       "      <td>60.0</td>\n",
       "    </tr>\n",
       "    <tr>\n",
       "      <th>17</th>\n",
       "      <td>Nothing beats a good drum solo on your steerin...</td>\n",
       "      <td>nothing beats good drum solo steering wheel wa...</td>\n",
       "      <td>68.0</td>\n",
       "    </tr>\n",
       "    <tr>\n",
       "      <th>18</th>\n",
       "      <td>I'm against picketing but I don't know how to ...</td>\n",
       "      <td>picketing know show</td>\n",
       "      <td>132.0</td>\n",
       "    </tr>\n",
       "    <tr>\n",
       "      <th>19</th>\n",
       "      <td>Got hammered last night but still had the good...</td>\n",
       "      <td>got hammered last night still good sense take ...</td>\n",
       "      <td>64.0</td>\n",
       "    </tr>\n",
       "  </tbody>\n",
       "</table>\n",
       "</div>"
      ],
      "text/plain": [
       "                                              message  \\\n",
       "0   I add \"Drink Beer\" to my weekend to-do list so...   \n",
       "1   I asked my North Korean friend how it was ther...   \n",
       "2   Birth control pills should be for men. It make...   \n",
       "3   I heard Chipotle is offering a new Ravens burr...   \n",
       "4   Hello Fire Department? Is this Mr. December? I...   \n",
       "5   Why does everyone want me to come out of my co...   \n",
       "6   “Can I pet him or will he bite?” is a fun thin...   \n",
       "7   I find the best way to get rid of headaches is...   \n",
       "8   You can tell a lot about a woman's mood by her...   \n",
       "9   Why aren't lawyers sworn to tell the truth alo...   \n",
       "10  I believe that if you love something, you shou...   \n",
       "11  In the interest of fighting the childhood obes...   \n",
       "12  Its funny how head and shoulders becomes head,...   \n",
       "13  Don't you hate it when someone answers their o...   \n",
       "14  I hate when people with weirdly spelled common...   \n",
       "15  Spiders are the only web developers that are h...   \n",
       "16          If I agreed with you, we'd both be wrong.   \n",
       "17  Nothing beats a good drum solo on your steerin...   \n",
       "18  I'm against picketing but I don't know how to ...   \n",
       "19  Got hammered last night but still had the good...   \n",
       "\n",
       "                                    processed_message  n_reactions  \n",
       "0   add drink beer weekend list know least get one...         44.0  \n",
       "1             asked north korean friend said complain         40.0  \n",
       "2   birth control pills men makes much sense unloa...         45.0  \n",
       "3   heard chipotle offering new ravens burrito eve...         40.0  \n",
       "4   hello fire department mr december stuck tree m...        112.0  \n",
       "5   everyone want come comfort zone worked really ...         68.0  \n",
       "6       pet bite fun thing ask parents keep kid leash         55.0  \n",
       "7   find best way get rid headaches send either ro...         70.0  \n",
       "8   tell lot woman mood hands instance holding gun...         49.0  \n",
       "9   lawyers sworn tell truth along everyone else p...         24.0  \n",
       "10  believe love something let go never let hold baby         57.0  \n",
       "11  interest fighting childhood obesity epidemic d...         25.0  \n",
       "12  funny head shoulders becomes head shoulders kn...         68.0  \n",
       "13                     hate someone answers questions         48.0  \n",
       "14  hate people weirdly spelled common names get m...         36.0  \n",
       "15             spiders web developers happy find bugs         80.0  \n",
       "16                                       agreed wrong         60.0  \n",
       "17  nothing beats good drum solo steering wheel wa...         68.0  \n",
       "18                                picketing know show        132.0  \n",
       "19  got hammered last night still good sense take ...         64.0  "
      ]
     },
     "execution_count": 64,
     "metadata": {},
     "output_type": "execute_result"
    }
   ],
   "source": [
    "# And Tadaaaaa\n",
    "posts[['message','processed_message', 'n_reactions']][:20]"
   ]
  },
  {
   "cell_type": "markdown",
   "metadata": {
    "collapsed": true
   },
   "source": [
    "Now, let's loop over all rows, take each word of the `processed_message` column and create a new dictionary where each word is a key and the value is the sum of the number of reactions."
   ]
  },
  {
   "cell_type": "code",
   "execution_count": 65,
   "metadata": {
    "collapsed": false
   },
   "outputs": [
    {
     "name": "stdout",
     "output_type": "stream",
     "text": [
      "Starting...\n",
      "Done\n"
     ]
    }
   ],
   "source": [
    "# Define empty dictionary\n",
    "word_reaction = {}\n",
    "\n",
    "# Define function that will process one processed_message\n",
    "def handle_processed_message(message, n_reactions):\n",
    "    # Split by space\n",
    "    words = message.split()\n",
    "    \n",
    "    # Loop over words and add n_reactions to the dictionary\n",
    "    for word in words:\n",
    "        # If the word is already know, add\n",
    "        if word in word_reaction:\n",
    "            word_reaction[word] += n_reactions\n",
    "        else: # Otherwise intialise\n",
    "            word_reaction[word] = n_reactions\n",
    "            \n",
    "print('Starting...')\n",
    "# Call the method for each row:\n",
    "posts.apply(lambda row : handle_processed_message(row['processed_message'], row['n_reactions']), axis=1)\n",
    "\n",
    "print('Done')"
   ]
  },
  {
   "cell_type": "code",
   "execution_count": 66,
   "metadata": {
    "collapsed": false
   },
   "outputs": [
    {
     "data": {
      "text/plain": [
       "{'knows': 363.0,\n",
       " 'cancel': 49.0,\n",
       " 'sworn': 49.0,\n",
       " 'cia': 86.0,\n",
       " 'crying': 218.0,\n",
       " 'dealership': 169.0,\n",
       " 'forest': 250.0,\n",
       " 'bluetooth': 15.0,\n",
       " 'plenty': 151.0,\n",
       " 'country': 207.0,\n",
       " 'overly': 29.0,\n",
       " 'lozenges': 40.0,\n",
       " 'vampires': 230.0,\n",
       " 'surprises': 36.0,\n",
       " 'forgot': 290.0,\n",
       " 'seeing': 375.0,\n",
       " 'known': 98.0,\n",
       " 'laziness': 21.0,\n",
       " 'check': 395.0,\n",
       " 'use': 1413.0,\n",
       " 'somewhere': 238.0,\n",
       " 'studies': 52.0,\n",
       " 'heck': 167.0,\n",
       " 'ordered': 248.0,\n",
       " 'cashew': 38.0,\n",
       " 'pictures': 258.0,\n",
       " 'persistent': 82.0,\n",
       " 'workweek': 17.0,\n",
       " 'her:': 79.0,\n",
       " 'ex': 679.0,\n",
       " 'sugar': 240.0,\n",
       " 'brave': 206.0,\n",
       " '20': 738.0,\n",
       " 'peanuts': 21.0,\n",
       " 'sleeping': 496.0,\n",
       " 'catnip': 30.0,\n",
       " 'serve': 143.0,\n",
       " 'abc': 15.0,\n",
       " 'wanna': 133.0,\n",
       " 'loss': 63.0,\n",
       " 'much': 1905.0,\n",
       " 'lid': 80.0,\n",
       " 'merge': 80.0,\n",
       " 'writing': 261.0,\n",
       " 'mechanic': 80.0,\n",
       " 'candlestick': 45.0,\n",
       " 'blew': 55.0,\n",
       " 'neighborhood': 43.0,\n",
       " 'trouble': 432.0,\n",
       " 'motorcycle': 36.0,\n",
       " 'labeled': 264.0,\n",
       " 'cook': 110.0,\n",
       " 'dinosaurs': 129.0,\n",
       " 'hug': 185.0,\n",
       " 'attention': 327.0,\n",
       " 'nonchalantly': 108.0,\n",
       " 'marriage': 427.0,\n",
       " 'cancelling': 38.0,\n",
       " 'subscription': 62.0,\n",
       " 'told': 2180.0,\n",
       " 'solutions': 36.0,\n",
       " 'notices': 484.0,\n",
       " 'exercise': 389.0,\n",
       " 'england': 61.0,\n",
       " 'juice': 113.0,\n",
       " 'weddings': 136.0,\n",
       " 'hair': 181.0,\n",
       " 'start': 1387.0,\n",
       " 'collaborate': 83.0,\n",
       " 'girls': 699.0,\n",
       " 'orange': 74.0,\n",
       " 'factory': 34.0,\n",
       " 'knocked': 79.0,\n",
       " 'lays': 10.0,\n",
       " 'rubber': 201.0,\n",
       " 'entertained': 25.0,\n",
       " 'sneeze': 60.0,\n",
       " 'canning': 81.0,\n",
       " 'journalism': 118.0,\n",
       " 'lingerie': 150.0,\n",
       " 'often': 72.0,\n",
       " 'mints': 50.0,\n",
       " 'manly': 26.0,\n",
       " 'talking': 480.0,\n",
       " 'slurring': 22.0,\n",
       " 'researchers': 85.0,\n",
       " 'letter': 130.0,\n",
       " 'word': 1014.0,\n",
       " 'boycotting': 33.0,\n",
       " 'types': 172.0,\n",
       " 'included': 83.0,\n",
       " 'pic': 16.0,\n",
       " 'homeless': 384.0,\n",
       " 'bull': 48.0,\n",
       " 'benefits': 55.0,\n",
       " 'life:': 37.0,\n",
       " 'muffins': 87.0,\n",
       " 'dammit': 73.0,\n",
       " 'twin': 89.0,\n",
       " 'years': 1237.0,\n",
       " 'termites': 15.0,\n",
       " 'caramel': 41.0,\n",
       " 'twitter': 289.0,\n",
       " 'scenario': 42.0,\n",
       " 'slack': 125.0,\n",
       " 'wife': 2091.0,\n",
       " 'jay': 36.0,\n",
       " 'dont': 228.0,\n",
       " 'vegetarian': 262.0,\n",
       " 'christmas': 509.0,\n",
       " 'pressing': 72.0,\n",
       " 'n': 136.0,\n",
       " 'hercules': 171.0,\n",
       " 'scene': 78.0,\n",
       " 'wacky': 35.0,\n",
       " 'pack': 124.0,\n",
       " 'devry': 45.0,\n",
       " 'engaged': 28.0,\n",
       " 'privacy': 71.0,\n",
       " 'gets': 940.0,\n",
       " 'disappointing': 84.0,\n",
       " 'kid': 984.0,\n",
       " 'meditate': 43.0,\n",
       " 'sims': 38.0,\n",
       " 'switched': 166.0,\n",
       " 'root': 43.0,\n",
       " 'birth': 353.0,\n",
       " 'flush': 218.0,\n",
       " 'lanes': 57.0,\n",
       " 'stared': 65.0,\n",
       " 'marks': 102.0,\n",
       " 'spider': 228.0,\n",
       " 'powdered': 58.0,\n",
       " 'replace': 38.0,\n",
       " 'physical': 102.0,\n",
       " 'foil': 161.0,\n",
       " 'fruits': 48.0,\n",
       " 'inside': 705.0,\n",
       " 'stray': 30.0,\n",
       " 'varies': 98.0,\n",
       " 'artist': 46.0,\n",
       " 'normally': 83.0,\n",
       " 'reproduce': 27.0,\n",
       " 'feeling': 482.0,\n",
       " 'believe': 956.0,\n",
       " 'coinstar': 100.0,\n",
       " 'fellow': 32.0,\n",
       " 'laugh': 246.0,\n",
       " 'harder': 117.0,\n",
       " 'nuggets': 32.0,\n",
       " 'spot': 126.0,\n",
       " 'opposite': 76.0,\n",
       " 'console': 43.0,\n",
       " 'track': 45.0,\n",
       " 'follow': 222.0,\n",
       " 'exaggeration': 145.0,\n",
       " 'approval': 52.0,\n",
       " 'crocs': 23.0,\n",
       " 'wrongs': 220.0,\n",
       " 'problems': 425.0,\n",
       " 'cleavage': 35.0,\n",
       " 'mistletoe': 37.0,\n",
       " 'declare': 27.0,\n",
       " 'looney': 67.0,\n",
       " 'co': 54.0,\n",
       " 'shirts': 77.0,\n",
       " 'feelings': 89.0,\n",
       " 'manage': 110.0,\n",
       " 'consider': 223.0,\n",
       " '69': 40.0,\n",
       " 'shower': 296.0,\n",
       " 'sucks': 245.0,\n",
       " 'trips': 84.0,\n",
       " 'workouts': 39.0,\n",
       " 'speeches': 41.0,\n",
       " 'enforcement': 120.0,\n",
       " 'aunt': 108.0,\n",
       " 'humor': 42.0,\n",
       " 'died': 415.0,\n",
       " 'closed': 70.0,\n",
       " 'caramel:': 41.0,\n",
       " 'spoiler': 65.0,\n",
       " 'invite': 51.0,\n",
       " 'wifi': 299.0,\n",
       " 'sliced': 88.0,\n",
       " 'gesture': 75.0,\n",
       " 'men:': 74.0,\n",
       " 'wearing': 563.0,\n",
       " 'eaten': 128.0,\n",
       " 'sucking': 171.0,\n",
       " 'longer': 183.0,\n",
       " 'uninterrupted': 46.0,\n",
       " 'cutest': 17.0,\n",
       " 'breathalyzer': 57.0,\n",
       " 'breathe': 89.0,\n",
       " 'busted': 208.0,\n",
       " 'chicks': 124.0,\n",
       " 'small': 35.0,\n",
       " 'playing': 239.0,\n",
       " 'sharpies': 44.0,\n",
       " 'notify:': 85.0,\n",
       " 'cant': 80.0,\n",
       " 'accepted': 32.0,\n",
       " '2:30': 47.0,\n",
       " 'became': 112.0,\n",
       " 'stops': 36.0,\n",
       " 'dumping': 46.0,\n",
       " 'couch': 309.0,\n",
       " 'silence': 135.0,\n",
       " 'skis': 71.0,\n",
       " 'woodpecker': 73.0,\n",
       " 'souvenirs': 71.0,\n",
       " 'priceless': 41.0,\n",
       " 'brokeback': 49.0,\n",
       " 'gay': 142.0,\n",
       " 'bridge': 37.0,\n",
       " 'pirates': 32.0,\n",
       " 'joke': 672.0,\n",
       " 'followers': 105.0,\n",
       " '1999': 29.0,\n",
       " 'america': 358.0,\n",
       " 'utensils': 20.0,\n",
       " 'pound': 48.0,\n",
       " 'weirdly': 75.0,\n",
       " 'crackers': 36.0,\n",
       " 'relationship': 536.0,\n",
       " 'shore': 105.0,\n",
       " 'pokemon': 60.0,\n",
       " 'lifeguard': 55.0,\n",
       " 'obesity': 123.0,\n",
       " 'god': 821.0,\n",
       " 'woke': 376.0,\n",
       " 'family:': 35.0,\n",
       " 'conditions': 67.0,\n",
       " 'bills': 119.0,\n",
       " 'let': 2030.0,\n",
       " 'unnecessarily': 58.0,\n",
       " 'tablets': 43.0,\n",
       " 'bother': 153.0,\n",
       " ':(': 245.0,\n",
       " 'idiotic': 86.0,\n",
       " 'hate': 1380.0,\n",
       " 'fancy': 46.0,\n",
       " 'g': 188.0,\n",
       " 'wrapping': 62.0,\n",
       " 'result': 80.0,\n",
       " 'mahna': 132.0,\n",
       " 'dropping': 40.0,\n",
       " 'poses': 28.0,\n",
       " 'glass': 43.0,\n",
       " 'mad': 382.0,\n",
       " 'grandfather': 0.0,\n",
       " 'porn': 297.0,\n",
       " '#damnteenquote': 24.0,\n",
       " 'vacation': 308.0,\n",
       " 'bubble': 239.0,\n",
       " 'disagree': 106.0,\n",
       " 'hates': 274.0,\n",
       " 'answer': 508.0,\n",
       " 'sad': 354.0,\n",
       " 'person': 1278.0,\n",
       " 'ı': 138.0,\n",
       " 'machine': 428.0,\n",
       " 'master': 58.0,\n",
       " 'goals:': 24.0,\n",
       " 'google': 615.0,\n",
       " 'powerful': 42.0,\n",
       " 'step': 317.0,\n",
       " 'incorrectly': 249.0,\n",
       " 'along': 128.0,\n",
       " 'registered': 28.0,\n",
       " 'cab': 114.0,\n",
       " 'proofread': 41.0,\n",
       " 'quicker': 14.0,\n",
       " 'questions': 291.0,\n",
       " 'building': 20.0,\n",
       " 'fee': 67.0,\n",
       " 'mourning': 130.0,\n",
       " 'broadcast': 48.0,\n",
       " 'my…crap': 56.0,\n",
       " 'book': 243.0,\n",
       " 'trespassing': 62.0,\n",
       " 'swear': 672.0,\n",
       " 'brief': 52.0,\n",
       " 'science': 142.0,\n",
       " 'hunting': 69.0,\n",
       " 'poketh': 76.0,\n",
       " 'finds': 51.0,\n",
       " 'err': 44.0,\n",
       " 'nosy': 26.0,\n",
       " 'dolls': 36.0,\n",
       " 'contestants': 20.0,\n",
       " 'abusers': 18.0,\n",
       " 'quarter': 74.0,\n",
       " 'lazy': 404.0,\n",
       " 'retards': 73.0,\n",
       " 'cheeks': 141.0,\n",
       " 'cops': 67.0,\n",
       " 'blankets': 19.0,\n",
       " 'talian': 130.0,\n",
       " 'pissing': 72.0,\n",
       " 'dessert': 57.0,\n",
       " 'walks': 124.0,\n",
       " 'weighs': 37.0,\n",
       " 'condoms': 237.0,\n",
       " 'with\\ufeff': 80.0,\n",
       " 'fitting': 90.0,\n",
       " 'across': 31.0,\n",
       " 'criminals': 58.0,\n",
       " 'surgeon': 114.0,\n",
       " 'bows': 8.0,\n",
       " 'pandas': 224.0,\n",
       " 'rick': 75.0,\n",
       " 'vet': 71.0,\n",
       " 'write:': 80.0,\n",
       " 'ice': 284.0,\n",
       " 'flavors': 85.0,\n",
       " 'slow': 160.0,\n",
       " 'width': 88.0,\n",
       " 'cause': 188.0,\n",
       " 'immediately': 163.0,\n",
       " 'transition': 151.0,\n",
       " 'hole': 27.0,\n",
       " 'around': 1385.0,\n",
       " 'usually': 63.0,\n",
       " 'plunger': 64.0,\n",
       " 'digiorno': 53.0,\n",
       " 'guilty': 123.0,\n",
       " 'kidnapping': 250.0,\n",
       " 'history': 684.0,\n",
       " 'intend': 49.0,\n",
       " 'selects': 16.0,\n",
       " 'plays': 214.0,\n",
       " 'reminding': 48.0,\n",
       " 'become': 478.0,\n",
       " 'opened': 187.0,\n",
       " 'award': 1.0,\n",
       " 'never': 4492.0,\n",
       " 'strippers': 210.0,\n",
       " 'respond': 89.0,\n",
       " 'lawyer:': 85.0,\n",
       " 'birthday': 426.0,\n",
       " 'stable': 85.0,\n",
       " 'jog': 89.0,\n",
       " 'alert': 8.0,\n",
       " 'crime': 22.0,\n",
       " 'chinese': 410.0,\n",
       " 'passing': 45.0,\n",
       " 'mornings': 59.0,\n",
       " 'seemed': 131.0,\n",
       " 'ridiculously': 82.0,\n",
       " 'copy': 73.0,\n",
       " 'ingredients': 88.0,\n",
       " 'fell': 301.0,\n",
       " 'japan': 29.0,\n",
       " 'dr': 28.0,\n",
       " 'camouflage': 19.0,\n",
       " 'fastest': 22.0,\n",
       " 'stilts': 26.0,\n",
       " 'unfollowing': 13.0,\n",
       " 'right': 1457.0,\n",
       " 'romantic': 182.0,\n",
       " 'nuclear': 38.0,\n",
       " 'feels': 37.0,\n",
       " 'tiaras': 78.0,\n",
       " 'whoopie': 28.0,\n",
       " 'related': 50.0,\n",
       " 'tree': 375.0,\n",
       " 'simpsons': 70.0,\n",
       " 'project': 49.0,\n",
       " 'p': 74.0,\n",
       " 'cocaine': 66.0,\n",
       " 'went': 697.0,\n",
       " 'browser': 88.0,\n",
       " 'arm': 93.0,\n",
       " 'article': 93.0,\n",
       " 'puffed': 26.0,\n",
       " 'turned': 229.0,\n",
       " 'cdo': 50.0,\n",
       " 'agitated': 127.0,\n",
       " 'lollipops': 85.0,\n",
       " 'drinking': 330.0,\n",
       " 'ethnicity': 130.0,\n",
       " 'president': 280.0,\n",
       " 'flats': 11.0,\n",
       " 'ways': 116.0,\n",
       " 'disturb': 51.0,\n",
       " 'mode': 41.0,\n",
       " 'hammered': 64.0,\n",
       " 'lived': 44.0,\n",
       " 'shot': 119.0,\n",
       " 'clocks': 37.0,\n",
       " 'pee': 159.0,\n",
       " 'babies': 46.0,\n",
       " 'shopping': 374.0,\n",
       " 'swimming': 147.0,\n",
       " 'claims': 52.0,\n",
       " 'songs': 52.0,\n",
       " 'gunpoint': 142.0,\n",
       " 'currently': 6.0,\n",
       " 'falsifying': 89.0,\n",
       " 'terrific': 118.0,\n",
       " 'ransom': 64.0,\n",
       " 'alcoholic': 25.0,\n",
       " 'care': 129.0,\n",
       " 'rihanna': 42.0,\n",
       " 'bert': 60.0,\n",
       " 'lines': 133.0,\n",
       " 'swim': 171.0,\n",
       " 'quite': 357.0,\n",
       " 'soap': 37.0,\n",
       " 'devil': 65.0,\n",
       " 'ordinary': 29.0,\n",
       " 'shine': 32.0,\n",
       " 'manson': 112.0,\n",
       " 'results': 175.0,\n",
       " 'point': 1128.0,\n",
       " 'popular': 166.0,\n",
       " 'straight': 92.0,\n",
       " 'olive': 112.0,\n",
       " 'omelet': 131.0,\n",
       " 'magician': 111.0,\n",
       " 'minds': 123.0,\n",
       " 'someone': 3912.0,\n",
       " 'farmers': 57.0,\n",
       " 'inspirational': 81.0,\n",
       " 'mathematicians': 74.0,\n",
       " 'closely': 23.0,\n",
       " 'justifies': 30.0,\n",
       " 'tab': 63.0,\n",
       " 'emergency': 234.0,\n",
       " 'phallic': 69.0,\n",
       " 'piñatas': 49.0,\n",
       " 'blonde': 132.0,\n",
       " 'peek': 37.0,\n",
       " 'heard': 310.0,\n",
       " 'drew': 18.0,\n",
       " 'stevie': 94.0,\n",
       " 'constantly': 104.0,\n",
       " 'custody': 53.0,\n",
       " 'commandments': 18.0,\n",
       " 'listening': 348.0,\n",
       " 'blue': 379.0,\n",
       " 'vegetarians:': 44.0,\n",
       " 'kicked': 72.0,\n",
       " 'toes': 130.0,\n",
       " 'misinterpreting': 10.0,\n",
       " 'bowls': 87.0,\n",
       " '2011': 43.0,\n",
       " 'sniffing': 32.0,\n",
       " 'camo': 88.0,\n",
       " 'intelligence:': 43.0,\n",
       " 'animals': 335.0,\n",
       " 'scotty': 29.0,\n",
       " 'upon': 26.0,\n",
       " 'deadlines': 14.0,\n",
       " 'urine': 64.0,\n",
       " 'mythical': 183.0,\n",
       " 'vibrator': 135.0,\n",
       " 'doors': 135.0,\n",
       " 'rock': 45.0,\n",
       " 'bathtub': 29.0,\n",
       " 'mother': 317.0,\n",
       " 'rice': 60.0,\n",
       " 'shooting': 27.0,\n",
       " 'extra': 350.0,\n",
       " 'jackson': 131.0,\n",
       " 'smoking': 130.0,\n",
       " 'raises': 81.0,\n",
       " 'vision': 52.0,\n",
       " 'shape': 164.0,\n",
       " 'used': 740.0,\n",
       " 'complain': 244.0,\n",
       " 'cheer': 78.0,\n",
       " 'mattress': 91.0,\n",
       " 'gang': 201.0,\n",
       " 'impasses': 27.0,\n",
       " 'gateway': 19.0,\n",
       " 'fml': 51.0,\n",
       " 'new': 2288.0,\n",
       " 'insane': 22.0,\n",
       " 'speech': 131.0,\n",
       " 'toy': 141.0,\n",
       " 'color': 137.0,\n",
       " 'fuss': 37.0,\n",
       " 'studying': 102.0,\n",
       " 'drum': 68.0,\n",
       " 'deadliest': 44.0,\n",
       " 'modem': 62.0,\n",
       " 'poops': 94.0,\n",
       " 'folgers': 37.0,\n",
       " 'spill': 38.0,\n",
       " 'part': 1102.0,\n",
       " 'theft': 74.0,\n",
       " 'halfway': 71.0,\n",
       " 'heritage': 84.0,\n",
       " 'tail': 50.0,\n",
       " 'spilling': 22.0,\n",
       " 'pizza': 355.0,\n",
       " 'rednecks': 35.0,\n",
       " 'missed': 124.0,\n",
       " 'grumpy': 47.0,\n",
       " 'officer': 249.0,\n",
       " 'winehouse': 37.0,\n",
       " 'junk': 30.0,\n",
       " 'surely': 33.0,\n",
       " 'allen': 85.0,\n",
       " 'race': 217.0,\n",
       " 'capitalism': 21.0,\n",
       " 'tailgating': 16.0,\n",
       " 'everybody': 119.0,\n",
       " 'us': 691.0,\n",
       " 'respect': 47.0,\n",
       " 'involved': 62.0,\n",
       " 'peeves': 132.0,\n",
       " 'selfies': 65.0,\n",
       " 'labels': 82.0,\n",
       " 'penitentiary': 130.0,\n",
       " 'scrolling': 49.0,\n",
       " 'mixer': 30.0,\n",
       " 'name': 1836.0,\n",
       " 'chased': 41.0,\n",
       " '1st': 26.0,\n",
       " 'experiencing': 6.0,\n",
       " 'closer': 122.0,\n",
       " 'limits': 74.0,\n",
       " 'paper': 490.0,\n",
       " 'go': 3532.0,\n",
       " 'smoke': 254.0,\n",
       " 'hint': 35.0,\n",
       " 'write': 591.0,\n",
       " 'supposed': 364.0,\n",
       " 'officially': 246.0,\n",
       " 'granted': 88.0,\n",
       " '‘spontaneous': 37.0,\n",
       " 'walked': 118.0,\n",
       " 'threw': 43.0,\n",
       " 'stairway': 136.0,\n",
       " 'casket': 39.0,\n",
       " 'renamed': 43.0,\n",
       " 'asian': 93.0,\n",
       " 'sculptures': 36.0,\n",
       " 'bleeding': 128.0,\n",
       " 'tells': 200.0,\n",
       " 'shouting': 5.0,\n",
       " 'ryan': 66.0,\n",
       " 'regard': 44.0,\n",
       " 'poaching': 34.0,\n",
       " 'addiction': 115.0,\n",
       " 'network': 183.0,\n",
       " 'tradition': 27.0,\n",
       " 'sat': 119.0,\n",
       " 'victoria': 71.0,\n",
       " 'acceptance…': 29.0,\n",
       " 'inherited': 38.0,\n",
       " 'miracle': 145.0,\n",
       " 'olympias': 29.0,\n",
       " 'total': 56.0,\n",
       " 'whether': 187.0,\n",
       " 'behind': 573.0,\n",
       " 'kickboxing': 92.0,\n",
       " 'repeats': 114.0,\n",
       " 'morissette': 52.0,\n",
       " 'curl': 57.0,\n",
       " 'pray': 110.0,\n",
       " 'rockin': 120.0,\n",
       " 'charcoal': 146.0,\n",
       " 'question': 237.0,\n",
       " 'kleptomaniacs…': 21.0,\n",
       " 'mean': 982.0,\n",
       " 'caterpillars': 72.0,\n",
       " 'crap': 551.0,\n",
       " 'creep': 69.0,\n",
       " 'tanning': 96.0,\n",
       " 'solved': 41.0,\n",
       " 'removable': 28.0,\n",
       " 'visit': 118.0,\n",
       " 'boneless': 83.0,\n",
       " 'ask': 1354.0,\n",
       " 'speaks': 112.0,\n",
       " 'skip': 36.0,\n",
       " 'phase': 57.0,\n",
       " 'clickbait': 81.0,\n",
       " 'parties': 90.0,\n",
       " 'imodium': 61.0,\n",
       " 'deleting': 33.0,\n",
       " 'mistaken': 86.0,\n",
       " 'kisses': 48.0,\n",
       " 'toupee': 84.0,\n",
       " 'war': 209.0,\n",
       " 'refused': 123.0,\n",
       " 'technically': 55.0,\n",
       " 'weiner': 78.0,\n",
       " 'raven': 85.0,\n",
       " 'hazard': 78.0,\n",
       " 'host': 304.0,\n",
       " 'tiny': 130.0,\n",
       " 'keith': 31.0,\n",
       " 'hoping': 128.0,\n",
       " 'greatest': 185.0,\n",
       " 'bodies': 76.0,\n",
       " 'causing': 91.0,\n",
       " 'politician': 17.0,\n",
       " 'adults': 574.0,\n",
       " 'supportive': 57.0,\n",
       " 'filled': 49.0,\n",
       " 'deck': 48.0,\n",
       " 'atlanta': 71.0,\n",
       " 'martian': 123.0,\n",
       " 'prophecy': 40.0,\n",
       " 'shout': 216.0,\n",
       " 'sunshine': 237.0,\n",
       " 'unload': 45.0,\n",
       " 'certain': 135.0,\n",
       " 'thine': 76.0,\n",
       " 'uneven': 97.0,\n",
       " 'accuracy': 16.0,\n",
       " 'suicidal': 20.0,\n",
       " 'holmes': 47.0,\n",
       " 'identity': 21.0,\n",
       " 'buttload': 22.0,\n",
       " 'nostalgia': 21.0,\n",
       " 'dial': 62.0,\n",
       " 'balls)': 38.0,\n",
       " 'chapter': 200.0,\n",
       " 'procrastinating': 36.0,\n",
       " 'delivers': 125.0,\n",
       " 'turducken': 17.0,\n",
       " 'eccentric': 46.0,\n",
       " 'packages': 63.0,\n",
       " 'sticks:': 41.0,\n",
       " 'trees': 56.0,\n",
       " 'oh': 398.0,\n",
       " '21:12)': 73.0,\n",
       " 'bigger': 49.0,\n",
       " 'planes': 159.0,\n",
       " 'screaming': 192.0,\n",
       " 'pants': 244.0,\n",
       " 'taylor': 19.0,\n",
       " 'gonna': 847.0,\n",
       " 'fragrance': 22.0,\n",
       " 'rush': 84.0,\n",
       " 'orgasms': 236.0,\n",
       " 'courage': 21.0,\n",
       " 'tampon': 23.0,\n",
       " 'measure': 123.0,\n",
       " 'raisins': 102.0,\n",
       " 'partying': 89.0,\n",
       " 'chairs': 54.0,\n",
       " 'began': 33.0,\n",
       " 'wayne': 73.0,\n",
       " 'smurf': 43.0,\n",
       " 'soundtrack': 64.0,\n",
       " 'health': 78.0,\n",
       " 'multi': 118.0,\n",
       " 'cabinets': 64.0,\n",
       " 'front': 639.0,\n",
       " 'surrounded': 160.0,\n",
       " 'balance': 97.0,\n",
       " 'homophobia': 94.0,\n",
       " 'newborn': 101.0,\n",
       " 'keys': 89.0,\n",
       " 'sufficient': 131.0,\n",
       " 'pre': 115.0,\n",
       " 'reception': 34.0,\n",
       " 'love:': 86.0,\n",
       " 'handle': 21.0,\n",
       " 'adding': 86.0,\n",
       " 'type': 103.0,\n",
       " 'mins': 178.0,\n",
       " 'warning': 249.0,\n",
       " 'boycott': 33.0,\n",
       " 'wondered': 336.0,\n",
       " 'tagless': 53.0,\n",
       " 'morning': 654.0,\n",
       " 'muffles': 54.0,\n",
       " '1:47': 45.0,\n",
       " 'vegetable': 60.0,\n",
       " 'pharmacist': 39.0,\n",
       " 'entitled': 55.0,\n",
       " 'captured': 36.0,\n",
       " 'psycho': 67.0,\n",
       " 'neck': 87.0,\n",
       " 'realizing': 49.0,\n",
       " 'reason': 522.0,\n",
       " 'onion:': 41.0,\n",
       " 'foam': 83.0,\n",
       " 'ironic': 52.0,\n",
       " 'resignation…': 130.0,\n",
       " 'hard': 1022.0,\n",
       " 'hobo': 1.0,\n",
       " 'nagging': 21.0,\n",
       " 'grammar': 117.0,\n",
       " 'watches': 72.0,\n",
       " 'instinct': 109.0,\n",
       " 'tracks': 56.0,\n",
       " 'promote': 56.0,\n",
       " 'obama': 59.0,\n",
       " 'status': 322.0,\n",
       " 'insurance': 207.0,\n",
       " 'carry': 152.0,\n",
       " 'west': 134.0,\n",
       " 'dust': 77.0,\n",
       " 'flirting': 30.0,\n",
       " 'tucked': 86.0,\n",
       " 'gates': 85.0,\n",
       " 'friends': 1225.0,\n",
       " 'dosage': 237.0,\n",
       " 'hoodie': 68.0,\n",
       " 'land': 134.0,\n",
       " 'racist/sexist': 45.0,\n",
       " 'sign': 670.0,\n",
       " 'nasa:': 13.0,\n",
       " 'asks': 591.0,\n",
       " 'antlers': 106.0,\n",
       " 'replacement': 99.0,\n",
       " 'found': 1642.0,\n",
       " 'showed': 54.0,\n",
       " 'liver': 235.0,\n",
       " 'rotflmao': 74.0,\n",
       " 'mileage': 29.0,\n",
       " 'channel': 204.0,\n",
       " 'rub': 72.0,\n",
       " 'serves': 64.0,\n",
       " 'bothering': 266.0,\n",
       " 'strange': 68.0,\n",
       " 'sag': 38.0,\n",
       " 'cannibals': 53.0,\n",
       " 'determined': 78.0,\n",
       " 'hearing': 80.0,\n",
       " 'kathy': 61.0,\n",
       " 'snookie': 44.0,\n",
       " 'bookstore': 23.0,\n",
       " 'run': 529.0,\n",
       " 'poverty': 85.0,\n",
       " 'intelligent': 88.0,\n",
       " 'message': 96.0,\n",
       " 'giving': 383.0,\n",
       " 'possibly': 43.0,\n",
       " 'brett': 27.0,\n",
       " 'milk': 176.0,\n",
       " 'scanner': 6.0,\n",
       " 'safety': 67.0,\n",
       " 'worth': 211.0,\n",
       " 'screwdriver': 5.0,\n",
       " 'tell': 2492.0,\n",
       " 'wondering': 455.0,\n",
       " 'piece': 102.0,\n",
       " 'issues': 104.0,\n",
       " 'daylight': 79.0,\n",
       " 'scrambled': 181.0,\n",
       " 'trustworthy': 130.0,\n",
       " 'ray': 230.0,\n",
       " 'wonka': 34.0,\n",
       " 'control': 421.0,\n",
       " 'pleasant': 36.0,\n",
       " 'dog': 919.0,\n",
       " 'goods': 298.0,\n",
       " 'headlight': 27.0,\n",
       " 'office': 108.0,\n",
       " 'chris': 92.0,\n",
       " 'attractive': 30.0,\n",
       " 'humphries': 78.0,\n",
       " 'slavery': 99.0,\n",
       " 'fords': 55.0,\n",
       " 'lesson': 27.0,\n",
       " 'tivo': 128.0,\n",
       " 'harshest': 69.0,\n",
       " 'offline': 43.0,\n",
       " 'spilled': 61.0,\n",
       " '(i': 36.0,\n",
       " 'misspelling': 38.0,\n",
       " 'restaurant': 522.0,\n",
       " 'turning': 177.0,\n",
       " '400': 27.0,\n",
       " 'bland': 59.0,\n",
       " 'scary': 200.0,\n",
       " 'earliest': 13.0,\n",
       " 'empty': 299.0,\n",
       " 'others': 93.0,\n",
       " 'drums': 47.0,\n",
       " 'changes': 95.0,\n",
       " 'costco': 21.0,\n",
       " '7': 220.0,\n",
       " 'search': 173.0,\n",
       " 'single': 912.0,\n",
       " 'beiber': 123.0,\n",
       " 'last': 2360.0,\n",
       " 'weed': 123.0,\n",
       " 'blares': 16.0,\n",
       " 'glad': 233.0,\n",
       " 'catching': 190.0,\n",
       " 'best': 1592.0,\n",
       " 'ownership': 79.0,\n",
       " 'life': 3113.0,\n",
       " 'together': 342.0,\n",
       " 'spiders': 173.0,\n",
       " 'preacher': 96.0,\n",
       " 'movement': 77.0,\n",
       " 'quickly': 213.0,\n",
       " 'seltzer': 65.0,\n",
       " 'maker': 31.0,\n",
       " 'threading': 1.0,\n",
       " 'possessed': 65.0,\n",
       " 'goals': 31.0,\n",
       " 'fist': 72.0,\n",
       " 'greats': 24.0,\n",
       " 'throwing': 41.0,\n",
       " 'explosive': 61.0,\n",
       " 'whenever': 456.0,\n",
       " 'lights': 189.0,\n",
       " 'inspiration': 310.0,\n",
       " 'referred': 46.0,\n",
       " 'he/she': 17.0,\n",
       " 'responsibly': 172.0,\n",
       " 'practice': 104.0,\n",
       " 'unrealistic': 135.0,\n",
       " 'teeth': 371.0,\n",
       " 'playboy': 124.0,\n",
       " 'iq': 27.0,\n",
       " '44': 63.0,\n",
       " 'situations': 34.0,\n",
       " 'room': 478.0,\n",
       " 'eric': 21.0,\n",
       " 'vedder': 57.0,\n",
       " 'changing': 218.0,\n",
       " 'keyboard': 305.0,\n",
       " 'relax': 188.0,\n",
       " 'typo': 60.0,\n",
       " 'collecting': 58.0,\n",
       " 'taco': 134.0,\n",
       " 'die': 1043.0,\n",
       " 'easiest': 286.0,\n",
       " 'rash': 21.0,\n",
       " 'brains': 17.0,\n",
       " 'death': 532.0,\n",
       " 'indie': 54.0,\n",
       " 'forcing': 89.0,\n",
       " 'christian': 85.0,\n",
       " 'hangover': 44.0,\n",
       " 'jar': 366.0,\n",
       " 'skittles': 67.0,\n",
       " '2': 1524.0,\n",
       " 'brewery': 78.0,\n",
       " 'accurate': 79.0,\n",
       " 'immature': 30.0,\n",
       " '1000': 60.0,\n",
       " 'spring': 39.0,\n",
       " '6': 662.0,\n",
       " 'computing': 76.0,\n",
       " 'particularly': 32.0,\n",
       " 'routing': 2.0,\n",
       " 'tip': 78.0,\n",
       " 'saw': 1852.0,\n",
       " 'produce': 226.0,\n",
       " 'depression': 117.0,\n",
       " 'lightning': 20.0,\n",
       " 'temple': 31.0,\n",
       " 'vest': 45.0,\n",
       " 'lazier': 50.0,\n",
       " 'trip': 48.0,\n",
       " 'witnesses': 169.0,\n",
       " 'lawyers': 49.0,\n",
       " 'bin': 33.0,\n",
       " 'hamilton': 27.0,\n",
       " 'john': 66.0,\n",
       " 'aspirins': 77.0,\n",
       " 'embarrassed': 20.0,\n",
       " 'veggie': 36.0,\n",
       " 'wow': 400.0,\n",
       " 'twice': 343.0,\n",
       " 'shrugged': 226.0,\n",
       " 'fox': 161.0,\n",
       " 'nostrils': 65.0,\n",
       " 'videos': 92.0,\n",
       " 'reach': 56.0,\n",
       " 'roulette': 52.0,\n",
       " 'hospitalized': 85.0,\n",
       " 'cute': 361.0,\n",
       " 'skin': 24.0,\n",
       " 'pour': 79.0,\n",
       " 'dentists': 61.0,\n",
       " 'moron': 20.0,\n",
       " 'answers': 222.0,\n",
       " 'kiss': 290.0,\n",
       " 'week': 811.0,\n",
       " 'ladder': 204.0,\n",
       " 'mistakes': 25.0,\n",
       " 'divorce': 170.0,\n",
       " 'return': 168.0,\n",
       " 'crowded': 144.0,\n",
       " 'set': 550.0,\n",
       " 'fence': 30.0,\n",
       " 'refillable': 90.0,\n",
       " 'waist': 68.0,\n",
       " 'somebody': 721.0,\n",
       " 'nav': 66.0,\n",
       " 'door': 577.0,\n",
       " 'twitter:': 108.0,\n",
       " 'causes': 52.0,\n",
       " 'yeah': 286.0,\n",
       " 'meant': 304.0,\n",
       " 'jumper': 67.0,\n",
       " 'compared': 55.0,\n",
       " 'beach': 121.0,\n",
       " 'goldilock': 67.0,\n",
       " 'randy': 16.0,\n",
       " 'decide': 122.0,\n",
       " 'hare': 236.0,\n",
       " 'pretending': 214.0,\n",
       " 'float': 48.0,\n",
       " 'hardly': 43.0,\n",
       " 'chef': 49.0,\n",
       " 'giraffe': 67.0,\n",
       " 'skinnier': 70.0,\n",
       " 'piñata': 67.0,\n",
       " 'horse': 201.0,\n",
       " 'viable': 73.0,\n",
       " 'love': 1756.0,\n",
       " 'reliable': 43.0,\n",
       " 'strangle': 43.0,\n",
       " 'adult': 296.0,\n",
       " 'spending': 128.0,\n",
       " 'prostitutes': 153.0,\n",
       " 'girlfriend': 196.0,\n",
       " 'ho': 17.0,\n",
       " 'platform': 43.0,\n",
       " 'floors': 31.0,\n",
       " '31st': 24.0,\n",
       " 'game': 293.0,\n",
       " 'perfectly': 28.0,\n",
       " 'helpers': 75.0,\n",
       " 'mullets': 11.0,\n",
       " 'photoshop': 46.0,\n",
       " 'themed': 85.0,\n",
       " 'self': 371.0,\n",
       " 'kidnaps': 66.0,\n",
       " 'lift': 33.0,\n",
       " 'dance': 326.0,\n",
       " 'course': 38.0,\n",
       " 'aging': 17.0,\n",
       " 'scares': 63.0,\n",
       " 'propose': 77.0,\n",
       " 'frank': 36.0,\n",
       " 'honk': 80.0,\n",
       " 'birds': 145.0,\n",
       " 'aspca': 60.0,\n",
       " 'caffeine': 86.0,\n",
       " 'finish': 259.0,\n",
       " 'reading': 370.0,\n",
       " 'whoa': 29.0,\n",
       " 'interventions': 182.0,\n",
       " 'unhealthy': 132.0,\n",
       " 'gayeth': 76.0,\n",
       " 'dora': 292.0,\n",
       " 'boss:': 53.0,\n",
       " 'described': 85.0,\n",
       " 'pronounced': 17.0,\n",
       " 'fat': 842.0,\n",
       " 'past': 167.0,\n",
       " 'useful': 124.0,\n",
       " 'coma': 130.0,\n",
       " 'suicide': 130.0,\n",
       " 'constipation': 88.0,\n",
       " 'efficient': 40.0,\n",
       " 'saber': 59.0,\n",
       " 'bunch': 559.0,\n",
       " 'judgment': 52.0,\n",
       " 'zeta': 162.0,\n",
       " 'granola': 49.0,\n",
       " 'opens': 104.0,\n",
       " 'moustache': 76.0,\n",
       " 'finding': 541.0,\n",
       " 'boat': 71.0,\n",
       " 'inch': 142.0,\n",
       " 'recap': 23.0,\n",
       " 'paying': 237.0,\n",
       " 'shaped': 72.0,\n",
       " 'poking': 68.0,\n",
       " 'removed': 82.0,\n",
       " 'boobs': 273.0,\n",
       " 'hungover': 60.0,\n",
       " 'upset': 248.0,\n",
       " 'epidemic': 25.0,\n",
       " 'drugs': 53.0,\n",
       " 'way': 3216.0,\n",
       " 'clothes': 397.0,\n",
       " 'deserve': 46.0,\n",
       " 'decided': 268.0,\n",
       " 'worrying': 45.0,\n",
       " 'declares': 60.0,\n",
       " 'sure': 1449.0,\n",
       " 'mcdonalds': 121.0,\n",
       " 'ultimate': 53.0,\n",
       " 'weak': 13.0,\n",
       " 'harlem': 21.0,\n",
       " 'stands': 85.0,\n",
       " 'stop': 1267.0,\n",
       " 'mothers': 78.0,\n",
       " 'sort': 552.0,\n",
       " ...}"
      ]
     },
     "execution_count": 66,
     "metadata": {},
     "output_type": "execute_result"
    }
   ],
   "source": [
    "# See the dictionary\n",
    "word_reaction"
   ]
  },
  {
   "cell_type": "code",
   "execution_count": 67,
   "metadata": {
    "collapsed": false
   },
   "outputs": [
    {
     "name": "stderr",
     "output_type": "stream",
     "text": [
      "/Users/ralphmarschall/anaconda/lib/python3.5/site-packages/ipykernel/__main__.py:5: FutureWarning: sort is deprecated, use sort_values(inplace=True) for INPLACE sorting\n"
     ]
    }
   ],
   "source": [
    "# Convert to Serie\n",
    "word_reaction = pd.Series(word_reaction)\n",
    "\n",
    "# Sort from Big to Small\n",
    "word_reaction.sort(ascending=False)"
   ]
  },
  {
   "cell_type": "code",
   "execution_count": 68,
   "metadata": {
    "collapsed": false
   },
   "outputs": [
    {
     "data": {
      "text/plain": [
       "like      10622.0\n",
       "people     8780.0\n",
       "get        6793.0\n",
       "would      5789.0\n",
       "one        5198.0\n",
       "think      4913.0\n",
       "going      4712.0\n",
       "know       4683.0\n",
       "never      4492.0\n",
       "time       4437.0\n",
       "dtype: float64"
      ]
     },
     "execution_count": 68,
     "metadata": {},
     "output_type": "execute_result"
    }
   ],
   "source": [
    "# Take a look at the 10 best\n",
    "word_reaction[:10]"
   ]
  },
  {
   "cell_type": "code",
   "execution_count": 69,
   "metadata": {
    "collapsed": false
   },
   "outputs": [
    {
     "data": {
      "text/plain": [
       "arrest         1.0\n",
       "stiff          1.0\n",
       "diets          0.0\n",
       "passengers     0.0\n",
       "grandfather    0.0\n",
       "understood     0.0\n",
       "peacefully     0.0\n",
       "cents          0.0\n",
       "tank           0.0\n",
       "19             0.0\n",
       "dtype: float64"
      ]
     },
     "execution_count": 69,
     "metadata": {},
     "output_type": "execute_result"
    }
   ],
   "source": [
    "# Take a look at the 10 worst\n",
    "word_reaction[-10:]"
   ]
  },
  {
   "cell_type": "code",
   "execution_count": 70,
   "metadata": {
    "collapsed": false
   },
   "outputs": [
    {
     "data": {
      "image/png": "[encoded data removed]",
      "text/plain": [
       "<matplotlib.figure.Figure at 0x11c37de80>"
      ]
     },
     "metadata": {},
     "output_type": "display_data"
    }
   ],
   "source": [
    "# Plot the 100 best words\n",
    "\n",
    "# Let's plot the data at a bar chart.\n",
    "# Make sure that the plot is big enough and DO NOT plot everything, just select a subset, because otherwise it\n",
    "# will be unreadable\n",
    "word_reaction[:100].plot(kind='bar', figsize=(20,6), alpha=0.5)\n",
    "\n",
    "# Set the label on the x-axis\n",
    "plt.xlabel('Word')\n",
    "\n",
    "# Set the label on the y-axis\n",
    "plt.ylabel('Total Reactions')\n",
    "\n",
    "# Set the title and font size\n",
    "plt.title('Reactions by Words', fontsize=20)\n",
    "\n",
    "# Show the grid\n",
    "plt.grid(True)"
   ]
  },
  {
   "cell_type": "code",
   "execution_count": 71,
   "metadata": {
    "collapsed": false
   },
   "outputs": [
    {
     "data": {
      "image/png": "[encoded data removed]",
      "text/plain": [
       "<matplotlib.figure.Figure at 0x119c60978>"
      ]
     },
     "metadata": {},
     "output_type": "display_data"
    }
   ],
   "source": [
    "# Plot the 100 worst words\n",
    "\n",
    "# Let's plot the data at a bar chart.\n",
    "# Make sure that the plot is big enough and DO NOT plot everything, just select a subset, because otherwise it\n",
    "# will be unreadable\n",
    "word_reaction[-100:].plot(kind='bar', figsize=(20,6), alpha=0.5)\n",
    "\n",
    "# Set the label on the x-axis\n",
    "plt.xlabel('Word')\n",
    "\n",
    "# Set the label on the y-axis\n",
    "plt.ylabel('Total Reactions')\n",
    "\n",
    "# Set the title and font size\n",
    "plt.title('Reactions by Words', fontsize=20)\n",
    "\n",
    "# Show the grid\n",
    "plt.grid(True)"
   ]
  },
  {
   "cell_type": "code",
   "execution_count": null,
   "metadata": {
    "collapsed": true
   },
   "outputs": [],
   "source": []
  },
  {
   "cell_type": "code",
   "execution_count": null,
   "metadata": {
    "collapsed": true
   },
   "outputs": [],
   "source": []
  },
  {
   "cell_type": "code",
   "execution_count": null,
   "metadata": {
    "collapsed": true
   },
   "outputs": [],
   "source": []
  }
 ],
 "metadata": {
  "anaconda-cloud": {},
  "kernelspec": {
   "display_name": "Python [Root]",
   "language": "python",
   "name": "Python [Root]"
  },
  "language_info": {
   "codemirror_mode": {
    "name": "ipython",
    "version": 3
   },
   "file_extension": ".py",
   "mimetype": "text/x-python",
   "name": "python",
   "nbconvert_exporter": "python",
   "pygments_lexer": "ipython3",
   "version": "3.5.2"
  }
 },
 "nbformat": 4,
 "nbformat_minor": 0
}
