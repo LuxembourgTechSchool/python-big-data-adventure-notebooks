{
 "cells": [
  {
   "cell_type": "markdown",
   "metadata": {},
   "source": [
    "# Assignment - 1\n",
    "\n",
    "This is a small assignement for you to test your general Python skills and make you that you know the basics of pandas.\n",
    "\n",
    "Try to complete every question as good as possible. \n",
    "\n",
    "You can execute the *control* cells to test your code. If it prints `OK`, you have a good hint that you code might be correct, but it is not a 100% true indicator of your solution. It is just there to guide you."
   ]
  },
  {
   "cell_type": "markdown",
   "metadata": {
    "collapsed": true
   },
   "source": [
    "### Q1 : Import pandas and numpy and name them pd, respectively np."
   ]
  },
  {
   "cell_type": "code",
   "execution_count": null,
   "metadata": {
    "collapsed": false
   },
   "outputs": [],
   "source": [
    "# YOUR ANSWER\n"
   ]
  },
  {
   "cell_type": "code",
   "execution_count": null,
   "metadata": {
    "collapsed": false
   },
   "outputs": [],
   "source": [
    "# CONTROL\n",
    "assert(pd)\n",
    "assert(np)\n",
    "print('OK')"
   ]
  },
  {
   "cell_type": "markdown",
   "metadata": {},
   "source": [
    "### Q2 : Create a Python list of at least 4 dictionaries.\n",
    "\n",
    "- The list should be named `data`\n",
    "- The list should contain at least 4 dictionaries.\n",
    "- Each dictionary should model a person's name and age. So you must define 2 key-value pair for each dictionary. the keys should be `name` and `age`. You can choose the values."
   ]
  },
  {
   "cell_type": "code",
   "execution_count": null,
   "metadata": {
    "collapsed": true
   },
   "outputs": [],
   "source": [
    "# YOUR ANSWER\n"
   ]
  },
  {
   "cell_type": "code",
   "execution_count": null,
   "metadata": {
    "collapsed": false
   },
   "outputs": [],
   "source": [
    "# CONTROL\n",
    "assert( len(data) >= 4 )\n",
    "assert( sum([ int(isinstance(d, dict)) for d in data ]) >= 4 )\n",
    "for d in data:\n",
    "    assert( d['name'] )\n",
    "    assert( d['age'] )\n",
    "print('OK')"
   ]
  },
  {
   "cell_type": "markdown",
   "metadata": {},
   "source": [
    "### Q3 : Convert the list created in Q2 to a pandas DataFrame and print it.\n",
    "\n",
    "- The DataFrame should be called `data_df`"
   ]
  },
  {
   "cell_type": "code",
   "execution_count": null,
   "metadata": {
    "collapsed": false
   },
   "outputs": [],
   "source": [
    "# YOUR ANSWER\n"
   ]
  },
  {
   "cell_type": "code",
   "execution_count": null,
   "metadata": {
    "collapsed": false
   },
   "outputs": [],
   "source": [
    "# CONTROL\n",
    "\n",
    "assert( isinstance(data_df, pd.DataFrame) )\n",
    "print('OK')"
   ]
  },
  {
   "cell_type": "markdown",
   "metadata": {},
   "source": [
    "### Q4 : Get all rows where age is greated than 10 and save it to a variable.\n",
    "\n",
    "- Query the DataFrame to get only the rows where the age is striclty greated than 10.\n",
    "- Save the result into a variable called `age_10`"
   ]
  },
  {
   "cell_type": "code",
   "execution_count": null,
   "metadata": {
    "collapsed": true
   },
   "outputs": [],
   "source": [
    "# YOUR ANSWER\n",
    "\n"
   ]
  },
  {
   "cell_type": "code",
   "execution_count": null,
   "metadata": {
    "collapsed": false
   },
   "outputs": [],
   "source": [
    "# CONTROL\n",
    "for age in age_10['age']:\n",
    "    assert(age > 10)\n",
    "    \n",
    "print('OK')"
   ]
  },
  {
   "cell_type": "markdown",
   "metadata": {},
   "source": [
    "### Q5 : Get the maximum, minimum, mean, sum using only methods on the DataFrame.\n",
    "\n",
    "- Save the maximum age in a variable called `age_max`\n",
    "- Save the minimum age in a variable called `age_min`\n",
    "- Save the mean age in a variable called `age_mean`\n",
    "- Save the sum of all ages in a variable called `age_sum`"
   ]
  },
  {
   "cell_type": "code",
   "execution_count": null,
   "metadata": {
    "collapsed": false
   },
   "outputs": [],
   "source": [
    "# YOUR ANSWER\n"
   ]
  },
  {
   "cell_type": "code",
   "execution_count": null,
   "metadata": {
    "collapsed": false
   },
   "outputs": [],
   "source": [
    "# CONTROL\n",
    "assert(age_max >= age_min)\n",
    "assert(age_mean >= age_min)\n",
    "assert(age_sum >= age_max)\n",
    "print('OK')"
   ]
  },
  {
   "cell_type": "markdown",
   "metadata": {},
   "source": [
    "### Q6 : Add a new column is_student with random values 0 of 1.\n",
    "\n",
    "- Add a new column called `is_student` to the DataFrame `data_df`\n",
    "- Populate each row with a random value `0` or `1`"
   ]
  },
  {
   "cell_type": "code",
   "execution_count": null,
   "metadata": {
    "collapsed": false
   },
   "outputs": [],
   "source": [
    "# YOUR ANSWER\n",
    "\n",
    "# Hint 1: You can use random.choice(['Choice1','Choice2'])\n",
    "# Hint 2: You can directly set the new column to a list of 10 elements like this: [ x for x in range(10) ]\n"
   ]
  },
  {
   "cell_type": "code",
   "execution_count": null,
   "metadata": {
    "collapsed": false
   },
   "outputs": [],
   "source": [
    "# CONTROL\n",
    "assert(data_df['is_student'].any())\n",
    "print('OK')"
   ]
  },
  {
   "cell_type": "markdown",
   "metadata": {},
   "source": [
    "### Q7 : Convert 0's and 1's to False and True\n",
    "\n",
    "- Convert the values from `is_student` to boolean True/False\n",
    "- Use the `apply()` function on `data_df`"
   ]
  },
  {
   "cell_type": "code",
   "execution_count": null,
   "metadata": {
    "collapsed": false
   },
   "outputs": [],
   "source": [
    "# YOUR ANSWER\n"
   ]
  },
  {
   "cell_type": "code",
   "execution_count": null,
   "metadata": {
    "collapsed": false
   },
   "outputs": [],
   "source": [
    "# CONTROL\n",
    "for r in data_df['is_student']:\n",
    "    assert( type(r) != int )\n",
    "    assert( (type(r) == bool) or (type(r) == np.bool_) or (type(r) == np.bool) )\n",
    "print('OK')"
   ]
  },
  {
   "cell_type": "markdown",
   "metadata": {},
   "source": [
    "### Q8 : Get all students.\n",
    "\n",
    "- Use a query on the DataFrame `data_df` to get all rows where `is_student` is True.\n",
    "- Store the result in a variable called `students`."
   ]
  },
  {
   "cell_type": "code",
   "execution_count": null,
   "metadata": {
    "collapsed": false
   },
   "outputs": [],
   "source": [
    "# YOUR ANSWER\n"
   ]
  },
  {
   "cell_type": "code",
   "execution_count": null,
   "metadata": {
    "collapsed": false
   },
   "outputs": [],
   "source": [
    "# CONTROL\n",
    "for s in students['is_student']:\n",
    "    assert( s == True )\n",
    "print('OK')"
   ]
  },
  {
   "cell_type": "markdown",
   "metadata": {},
   "source": [
    "### Q9 : Split the name in a list of letters.\n",
    "\n",
    "- Take the column `name` and split every row into a list of characters (Keep everything).\n",
    "- Save the result into a new column called `characters`"
   ]
  },
  {
   "cell_type": "code",
   "execution_count": null,
   "metadata": {
    "collapsed": false
   },
   "outputs": [],
   "source": [
    "# YOUR ANSWER\n",
    "\n",
    "# Hint: Convert String to list works: list('abc') will give ['a', 'b', 'c']\n"
   ]
  },
  {
   "cell_type": "code",
   "execution_count": null,
   "metadata": {
    "collapsed": false
   },
   "outputs": [],
   "source": [
    "# CONTROL\n",
    "for l in data_df['characters']:\n",
    "    assert( isinstance(l, list) )\n",
    "print('OK')"
   ]
  },
  {
   "cell_type": "markdown",
   "metadata": {},
   "source": [
    "### Q10 : Save the DataFrame to a CSV file.\n",
    "\n",
    "- Use the latest `data_df` and save it to a csv file named `data_a1.csv`\n",
    "- Try to make sure it is saved with the encoding `utf-8`\n",
    "- Separate all values by `;`\n",
    "\n",
    "*Hint:* [here](https://www.google.com/search?client=safari&rls=en&q=pandas+save+dataframe+to+csv&ie=UTF-8&oe=UTF-8)"
   ]
  },
  {
   "cell_type": "code",
   "execution_count": null,
   "metadata": {
    "collapsed": true
   },
   "outputs": [],
   "source": [
    "# YOUR ANSWER\n"
   ]
  },
  {
   "cell_type": "code",
   "execution_count": null,
   "metadata": {
    "collapsed": false
   },
   "outputs": [],
   "source": [
    "# CONTROL\n",
    "import os\n",
    "assert(os.path.exists('data_a1.csv'))\n",
    "print('OK')"
   ]
  },
  {
   "cell_type": "code",
   "execution_count": null,
   "metadata": {
    "collapsed": true
   },
   "outputs": [],
   "source": []
  }
 ],
 "metadata": {
  "anaconda-cloud": {},
  "kernelspec": {
   "display_name": "Python [Root]",
   "language": "python",
   "name": "Python [Root]"
  },
  "language_info": {
   "codemirror_mode": {
    "name": "ipython",
    "version": 3
   },
   "file_extension": ".py",
   "mimetype": "text/x-python",
   "name": "python",
   "nbconvert_exporter": "python",
   "pygments_lexer": "ipython3",
   "version": "3.5.2"
  }
 },
 "nbformat": 4,
 "nbformat_minor": 2
}
